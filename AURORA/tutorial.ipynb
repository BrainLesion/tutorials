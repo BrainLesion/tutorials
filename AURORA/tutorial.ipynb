{
 "cells": [
  {
   "cell_type": "markdown",
   "metadata": {},
   "source": [
    "# AURORA \n",
    "Segmenting "
   ]
  },
  {
   "cell_type": "markdown",
   "metadata": {},
   "source": [
    "## Setup"
   ]
  },
  {
   "cell_type": "code",
   "execution_count": 1,
   "metadata": {},
   "outputs": [
    {
     "name": "stdout",
     "output_type": "stream",
     "text": [
      "Requirement already satisfied: brainles_aurora in /Users/marcelrosier/opt/anaconda3/envs/brainles/lib/python3.10/site-packages (0.1.0.post6.dev0+fac48a0)\n",
      "Requirement already satisfied: PyGithub<2.0,>=1.57 in /Users/marcelrosier/opt/anaconda3/envs/brainles/lib/python3.10/site-packages (from brainles_aurora) (1.59.1)\n",
      "Requirement already satisfied: monai>=1.2.0 in /Users/marcelrosier/opt/anaconda3/envs/brainles/lib/python3.10/site-packages (from brainles_aurora) (1.3.0)\n",
      "Requirement already satisfied: nibabel>=4.0.2 in /Users/marcelrosier/opt/anaconda3/envs/brainles/lib/python3.10/site-packages (from brainles_aurora) (4.0.2)\n",
      "Requirement already satisfied: numpy>=1.23.0 in /Users/marcelrosier/opt/anaconda3/envs/brainles/lib/python3.10/site-packages (from brainles_aurora) (1.25.2)\n",
      "Requirement already satisfied: path<17.0.0,>=16.2.0 in /Users/marcelrosier/opt/anaconda3/envs/brainles/lib/python3.10/site-packages (from brainles_aurora) (16.7.1)\n",
      "Requirement already satisfied: torch>=2.1.0 in /Users/marcelrosier/opt/anaconda3/envs/brainles/lib/python3.10/site-packages (from brainles_aurora) (2.1.0)\n",
      "Requirement already satisfied: tqdm<5.0.0,>=4.64.1 in /Users/marcelrosier/opt/anaconda3/envs/brainles/lib/python3.10/site-packages (from brainles_aurora) (4.66.1)\n",
      "Requirement already satisfied: packaging>=17.0 in /Users/marcelrosier/opt/anaconda3/envs/brainles/lib/python3.10/site-packages (from nibabel>=4.0.2->brainles_aurora) (23.2)\n",
      "Requirement already satisfied: setuptools in /Users/marcelrosier/opt/anaconda3/envs/brainles/lib/python3.10/site-packages (from nibabel>=4.0.2->brainles_aurora) (68.2.2)\n",
      "Requirement already satisfied: deprecated in /Users/marcelrosier/opt/anaconda3/envs/brainles/lib/python3.10/site-packages (from PyGithub<2.0,>=1.57->brainles_aurora) (1.2.14)\n",
      "Requirement already satisfied: pyjwt>=2.4.0 in /Users/marcelrosier/opt/anaconda3/envs/brainles/lib/python3.10/site-packages (from pyjwt[crypto]>=2.4.0->PyGithub<2.0,>=1.57->brainles_aurora) (2.8.0)\n",
      "Requirement already satisfied: pynacl>=1.4.0 in /Users/marcelrosier/opt/anaconda3/envs/brainles/lib/python3.10/site-packages (from PyGithub<2.0,>=1.57->brainles_aurora) (1.5.0)\n",
      "Requirement already satisfied: requests>=2.14.0 in /Users/marcelrosier/opt/anaconda3/envs/brainles/lib/python3.10/site-packages (from PyGithub<2.0,>=1.57->brainles_aurora) (2.31.0)\n",
      "Requirement already satisfied: filelock in /Users/marcelrosier/opt/anaconda3/envs/brainles/lib/python3.10/site-packages (from torch>=2.1.0->brainles_aurora) (3.13.1)\n",
      "Requirement already satisfied: typing-extensions in /Users/marcelrosier/opt/anaconda3/envs/brainles/lib/python3.10/site-packages (from torch>=2.1.0->brainles_aurora) (4.8.0)\n",
      "Requirement already satisfied: sympy in /Users/marcelrosier/opt/anaconda3/envs/brainles/lib/python3.10/site-packages (from torch>=2.1.0->brainles_aurora) (1.12)\n",
      "Requirement already satisfied: networkx in /Users/marcelrosier/opt/anaconda3/envs/brainles/lib/python3.10/site-packages (from torch>=2.1.0->brainles_aurora) (3.2.1)\n",
      "Requirement already satisfied: jinja2 in /Users/marcelrosier/opt/anaconda3/envs/brainles/lib/python3.10/site-packages (from torch>=2.1.0->brainles_aurora) (3.1.2)\n",
      "Requirement already satisfied: fsspec in /Users/marcelrosier/opt/anaconda3/envs/brainles/lib/python3.10/site-packages (from torch>=2.1.0->brainles_aurora) (2023.10.0)\n",
      "Requirement already satisfied: cryptography>=3.4.0 in /Users/marcelrosier/opt/anaconda3/envs/brainles/lib/python3.10/site-packages (from pyjwt[crypto]>=2.4.0->PyGithub<2.0,>=1.57->brainles_aurora) (41.0.5)\n",
      "Requirement already satisfied: cffi>=1.4.1 in /Users/marcelrosier/opt/anaconda3/envs/brainles/lib/python3.10/site-packages (from pynacl>=1.4.0->PyGithub<2.0,>=1.57->brainles_aurora) (1.16.0)\n",
      "Requirement already satisfied: charset-normalizer<4,>=2 in /Users/marcelrosier/opt/anaconda3/envs/brainles/lib/python3.10/site-packages (from requests>=2.14.0->PyGithub<2.0,>=1.57->brainles_aurora) (3.3.2)\n",
      "Requirement already satisfied: idna<4,>=2.5 in /Users/marcelrosier/opt/anaconda3/envs/brainles/lib/python3.10/site-packages (from requests>=2.14.0->PyGithub<2.0,>=1.57->brainles_aurora) (3.4)\n",
      "Requirement already satisfied: urllib3<3,>=1.21.1 in /Users/marcelrosier/opt/anaconda3/envs/brainles/lib/python3.10/site-packages (from requests>=2.14.0->PyGithub<2.0,>=1.57->brainles_aurora) (2.0.7)\n",
      "Requirement already satisfied: certifi>=2017.4.17 in /Users/marcelrosier/opt/anaconda3/envs/brainles/lib/python3.10/site-packages (from requests>=2.14.0->PyGithub<2.0,>=1.57->brainles_aurora) (2023.7.22)\n",
      "Requirement already satisfied: wrapt<2,>=1.10 in /Users/marcelrosier/opt/anaconda3/envs/brainles/lib/python3.10/site-packages (from deprecated->PyGithub<2.0,>=1.57->brainles_aurora) (1.16.0)\n",
      "Requirement already satisfied: MarkupSafe>=2.0 in /Users/marcelrosier/opt/anaconda3/envs/brainles/lib/python3.10/site-packages (from jinja2->torch>=2.1.0->brainles_aurora) (2.1.3)\n",
      "Requirement already satisfied: mpmath>=0.19 in /Users/marcelrosier/opt/anaconda3/envs/brainles/lib/python3.10/site-packages (from sympy->torch>=2.1.0->brainles_aurora) (1.3.0)\n",
      "Requirement already satisfied: pycparser in /Users/marcelrosier/opt/anaconda3/envs/brainles/lib/python3.10/site-packages (from cffi>=1.4.1->pynacl>=1.4.0->PyGithub<2.0,>=1.57->brainles_aurora) (2.21)\n"
     ]
    }
   ],
   "source": [
    "!pip install brainles_aurora"
   ]
  },
  {
   "cell_type": "markdown",
   "metadata": {},
   "source": [
    "## Data\n",
    "\n",
    "Aurora expects preprocessed input data as NIfTI file or NumPy Array.  \n",
    "If your data is not preprocessed yet consider using our [BrainLes preprocessing](https://github.com/BrainLesion/preprocessing) package (or until it is ready [BraTS-Toolkit](https://github.com/neuronflow/BraTS-Toolkit)).\n",
    "\n",
    "In this example we provide sample data from the [ASNR-MICCAI BraTS Brain Metastasis Challenge](https://www.synapse.org/#!Synapse:syn51156910/wiki/622553), which is already preprocessed."
   ]
  },
  {
   "cell_type": "markdown",
   "metadata": {},
   "source": [
    "## Using Aurora"
   ]
  },
  {
   "cell_type": "markdown",
   "metadata": {},
   "source": [
    "### Minimal example using default settings and only T1 as input"
   ]
  },
  {
   "cell_type": "code",
   "execution_count": 2,
   "metadata": {},
   "outputs": [
    {
     "name": "stderr",
     "output_type": "stream",
     "text": [
      "2024-01-29 12:27:46 INFO: Initialized AuroraGPUInferer with config: AuroraInfererConfig(output_mode=<DataMode.NIFTI_FILE: 'NIFTI_FILEPATH'>, log_level=20, tta=True, sliding_window_batch_size=1, workers=0, threshold=0.5, sliding_window_overlap=0.5, crop_size=(192, 192, 32), model_selection=<ModelSelection.BEST: 'best'>)\n"
     ]
    },
    {
     "ename": "AssertionError",
     "evalue": "No cuda device available while using GPUInferer",
     "output_type": "error",
     "traceback": [
      "\u001b[0;31m---------------------------------------------------------------------------\u001b[0m",
      "\u001b[0;31mAssertionError\u001b[0m                            Traceback (most recent call last)",
      "Cell \u001b[0;32mIn[2], line 6\u001b[0m\n\u001b[1;32m      3\u001b[0m config \u001b[38;5;241m=\u001b[39m AuroraInfererConfig()  \u001b[38;5;66;03m# Use default config\u001b[39;00m\n\u001b[1;32m      5\u001b[0m \u001b[38;5;66;03m# If you don-t have a GPU that supports CUDA use the CPU version: AuroraInferer(config=config)\u001b[39;00m\n\u001b[0;32m----> 6\u001b[0m inferer \u001b[38;5;241m=\u001b[39m \u001b[43mAuroraGPUInferer\u001b[49m\u001b[43m(\u001b[49m\u001b[43mconfig\u001b[49m\u001b[38;5;241;43m=\u001b[39;49m\u001b[43mconfig\u001b[49m\u001b[43m)\u001b[49m\n\u001b[1;32m      8\u001b[0m inferer\u001b[38;5;241m.\u001b[39minfer(\n\u001b[1;32m      9\u001b[0m     t1\u001b[38;5;241m=\u001b[39m\u001b[38;5;124m\"\u001b[39m\u001b[38;5;124mdata/t1n.nii.gz\u001b[39m\u001b[38;5;124m\"\u001b[39m,\n\u001b[1;32m     10\u001b[0m     segmentation_file\u001b[38;5;241m=\u001b[39m\u001b[38;5;124m\"\u001b[39m\u001b[38;5;124moutput/segmentation.nii.gz\u001b[39m\u001b[38;5;124m\"\u001b[39m,\n\u001b[1;32m     11\u001b[0m )\n",
      "File \u001b[0;32m~/Projects/helmholtz/AURORA/brainles_aurora/inferer/inferer.py:574\u001b[0m, in \u001b[0;36mAuroraGPUInferer.__init__\u001b[0;34m(self, config, cuda_devices)\u001b[0m\n\u001b[1;32m    566\u001b[0m \u001b[38;5;250m\u001b[39m\u001b[38;5;124;03m\"\"\"Initialize the AuroraGPUInferer.\u001b[39;00m\n\u001b[1;32m    567\u001b[0m \n\u001b[1;32m    568\u001b[0m \u001b[38;5;124;03mArgs:\u001b[39;00m\n\u001b[1;32m    569\u001b[0m \u001b[38;5;124;03m    config (AuroraInfererConfig): Configuration for the Aurora GPU inferer.\u001b[39;00m\n\u001b[1;32m    570\u001b[0m \u001b[38;5;124;03m    cuda_devices (str, optional): CUDA devices to use. Defaults to \"0\".\u001b[39;00m\n\u001b[1;32m    571\u001b[0m \u001b[38;5;124;03m\"\"\"\u001b[39;00m\n\u001b[1;32m    572\u001b[0m \u001b[38;5;28mself\u001b[39m\u001b[38;5;241m.\u001b[39mcuda_devices \u001b[38;5;241m=\u001b[39m cuda_devices\n\u001b[0;32m--> 574\u001b[0m \u001b[38;5;28;43msuper\u001b[39;49m\u001b[43m(\u001b[49m\u001b[43m)\u001b[49m\u001b[38;5;241;43m.\u001b[39;49m\u001b[38;5;21;43m__init__\u001b[39;49m\u001b[43m(\u001b[49m\u001b[43mconfig\u001b[49m\u001b[38;5;241;43m=\u001b[39;49m\u001b[43mconfig\u001b[49m\u001b[43m)\u001b[49m\n",
      "File \u001b[0;32m~/Projects/helmholtz/AURORA/brainles_aurora/inferer/inferer.py:126\u001b[0m, in \u001b[0;36mAuroraInferer.__init__\u001b[0;34m(self, config)\u001b[0m\n\u001b[1;32m    121\u001b[0m \u001b[38;5;28msuper\u001b[39m()\u001b[38;5;241m.\u001b[39m\u001b[38;5;21m__init__\u001b[39m(config\u001b[38;5;241m=\u001b[39mconfig)\n\u001b[1;32m    123\u001b[0m \u001b[38;5;28mself\u001b[39m\u001b[38;5;241m.\u001b[39mlog\u001b[38;5;241m.\u001b[39minfo(\n\u001b[1;32m    124\u001b[0m     \u001b[38;5;124mf\u001b[39m\u001b[38;5;124m\"\u001b[39m\u001b[38;5;124mInitialized \u001b[39m\u001b[38;5;132;01m{\u001b[39;00m\u001b[38;5;28mself\u001b[39m\u001b[38;5;241m.\u001b[39m\u001b[38;5;18m__class__\u001b[39m\u001b[38;5;241m.\u001b[39m\u001b[38;5;18m__name__\u001b[39m\u001b[38;5;132;01m}\u001b[39;00m\u001b[38;5;124m with config: \u001b[39m\u001b[38;5;132;01m{\u001b[39;00m\u001b[38;5;28mself\u001b[39m\u001b[38;5;241m.\u001b[39mconfig\u001b[38;5;132;01m}\u001b[39;00m\u001b[38;5;124m\"\u001b[39m\n\u001b[1;32m    125\u001b[0m )\n\u001b[0;32m--> 126\u001b[0m \u001b[38;5;28mself\u001b[39m\u001b[38;5;241m.\u001b[39mdevice \u001b[38;5;241m=\u001b[39m \u001b[38;5;28;43mself\u001b[39;49m\u001b[38;5;241;43m.\u001b[39;49m\u001b[43m_configure_device\u001b[49m\u001b[43m(\u001b[49m\u001b[43m)\u001b[49m\n\u001b[1;32m    128\u001b[0m \u001b[38;5;28mself\u001b[39m\u001b[38;5;241m.\u001b[39mvalidated_images \u001b[38;5;241m=\u001b[39m \u001b[38;5;28;01mNone\u001b[39;00m\n\u001b[1;32m    129\u001b[0m \u001b[38;5;28mself\u001b[39m\u001b[38;5;241m.\u001b[39minference_mode \u001b[38;5;241m=\u001b[39m \u001b[38;5;28;01mNone\u001b[39;00m\n",
      "File \u001b[0;32m~/Projects/helmholtz/AURORA/brainles_aurora/inferer/inferer.py:585\u001b[0m, in \u001b[0;36mAuroraGPUInferer._configure_device\u001b[0;34m(self)\u001b[0m\n\u001b[1;32m    582\u001b[0m os\u001b[38;5;241m.\u001b[39menviron[\u001b[38;5;124m\"\u001b[39m\u001b[38;5;124mCUDA_DEVICE_ORDER\u001b[39m\u001b[38;5;124m\"\u001b[39m] \u001b[38;5;241m=\u001b[39m \u001b[38;5;124m\"\u001b[39m\u001b[38;5;124mPCI_BUS_ID\u001b[39m\u001b[38;5;124m\"\u001b[39m\n\u001b[1;32m    583\u001b[0m os\u001b[38;5;241m.\u001b[39menviron[\u001b[38;5;124m\"\u001b[39m\u001b[38;5;124mCUDA_VISIBLE_DEVICES\u001b[39m\u001b[38;5;124m\"\u001b[39m] \u001b[38;5;241m=\u001b[39m \u001b[38;5;28mself\u001b[39m\u001b[38;5;241m.\u001b[39mcuda_devices\n\u001b[0;32m--> 585\u001b[0m \u001b[38;5;28;01massert\u001b[39;00m (\n\u001b[1;32m    586\u001b[0m     torch\u001b[38;5;241m.\u001b[39mcuda\u001b[38;5;241m.\u001b[39mis_available()\n\u001b[1;32m    587\u001b[0m ), \u001b[38;5;124m\"\u001b[39m\u001b[38;5;124mNo cuda device available while using GPUInferer\u001b[39m\u001b[38;5;124m\"\u001b[39m\n\u001b[1;32m    589\u001b[0m device \u001b[38;5;241m=\u001b[39m torch\u001b[38;5;241m.\u001b[39mdevice(\u001b[38;5;124m\"\u001b[39m\u001b[38;5;124mcuda\u001b[39m\u001b[38;5;124m\"\u001b[39m)\n\u001b[1;32m    590\u001b[0m \u001b[38;5;28mself\u001b[39m\u001b[38;5;241m.\u001b[39mlog\u001b[38;5;241m.\u001b[39minfo(\u001b[38;5;124mf\u001b[39m\u001b[38;5;124m\"\u001b[39m\u001b[38;5;124mUsing device: \u001b[39m\u001b[38;5;132;01m{\u001b[39;00mdevice\u001b[38;5;132;01m}\u001b[39;00m\u001b[38;5;124m\"\u001b[39m)\n",
      "\u001b[0;31mAssertionError\u001b[0m: No cuda device available while using GPUInferer"
     ]
    }
   ],
   "source": [
    "from brainles_aurora.inferer import AuroraGPUInferer, AuroraInferer, AuroraInfererConfig\n",
    "\n",
    "config = AuroraInfererConfig()  # Use default config\n",
    "\n",
    "# If you don-t have a GPU that supports CUDA use the CPU version: AuroraInferer(config=config)\n",
    "inferer = AuroraGPUInferer(config=config)\n",
    "\n",
    "inferer.infer(\n",
    "    t1=\"data/t1n.nii.gz\",\n",
    "    segmentation_file=\"output/segmentation.nii.gz\",\n",
    ")"
   ]
  },
  {
   "cell_type": "markdown",
   "metadata": {},
   "source": [
    "### Advanced usage"
   ]
  },
  {
   "cell_type": "code",
   "execution_count": null,
   "metadata": {},
   "outputs": [],
   "source": [
    "from brainles_aurora.inferer import AuroraGPUInferer, AuroraInferer, AuroraInfererConfig\n",
    "\n",
    "config = AuroraInfererConfig(\n",
    "    \n",
    ")\n",
    "\n",
    "# If you don-t have a GPU that supports CUDA use the CPU version: AuroraInferer(config=config)\n",
    "inferer = AuroraGPUInferer(config=config)\n",
    "\n",
    "inferer.infer(\n",
    "    t1=\"data/t1n.nii.gz\",\n",
    "    segmentation_file=\"output/segmentation.nii.gz\",\n",
    ")"
   ]
  }
 ],
 "metadata": {
  "kernelspec": {
   "display_name": "brainles",
   "language": "python",
   "name": "python3"
  },
  "language_info": {
   "codemirror_mode": {
    "name": "ipython",
    "version": 3
   },
   "file_extension": ".py",
   "mimetype": "text/x-python",
   "name": "python",
   "nbconvert_exporter": "python",
   "pygments_lexer": "ipython3",
   "version": "3.10.13"
  }
 },
 "nbformat": 4,
 "nbformat_minor": 2
}
