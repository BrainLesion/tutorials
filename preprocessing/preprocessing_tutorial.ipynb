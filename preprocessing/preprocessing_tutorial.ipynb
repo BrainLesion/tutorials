{
 "cells": [
  {
   "cell_type": "markdown",
   "metadata": {},
   "source": [
    "# Brainles Preprocessing Tutorial\n",
    "In this Notebook, we will demonstrate how to preprocess brain MR images with the [BrainLes preprocessing package](https://github.com/BrainLesion/preprocessing/tree/main/brainles_preprocessing).\n",
    "<!-- TODO elaborate -->\n",
    "\n",
    "\n"
   ]
  },
  {
   "cell_type": "markdown",
   "metadata": {},
   "source": [
    "## Why Preprocessing?\n",
    "Many downstream tasks will require some sort of preprocessing of data:\n",
    "- Segmentation algorithms (e.g. BraTS challenge algorithms expect co-registered, skull-stripped files in SRI-24 space)\n",
    "- Making data public requires anonymization (e.g. achievable by performing brain extraction or defacing)\n",
    "\n",
    "Our [BrainLes preprocessing package](https://github.com/BrainLesion/preprocessing/tree/main/brainles_preprocessing) allows to perform preprocessing in modular and backend agnostic way, meaning different registration, brain extraction and defacing tools can be used.\n"
   ]
  },
  {
   "cell_type": "markdown",
   "metadata": {},
   "source": [
    "## Requirements\n",
    "This tutorial requires:\n",
    "\n",
    "* Python 3.10+ environment\n",
    "* Docker\n",
    "* Linux (Windows and Mac OS will be supported in future versions)\n",
    "<!-- TODO specify version -->\n",
    "\n",
    "optional (but recommended):\n",
    "* CUDA\n",
    "<!-- TODO specify -->"
   ]
  },
  {
   "cell_type": "markdown",
   "metadata": {},
   "source": [
    "\n",
    "## Setup Colab environment\n",
    "If you installed the packages and requirements on your own machine, you can skip this section and start from the import section. Otherwise, you can follow and execute the tutorial on your browser. In order to start working on the notebook, click on the following button, this will open this page in the Colab environment and you will be able to execute the code on your own.\n",
    "\n",
    "<a target=\"_blank\" href=\"https://colab.research.google.com/github/BrainLesion/tutorials/blob/main/preprocessing/preprocessing_tutorial.ipynb\">\n",
    "  <img src=\"https://colab.research.google.com/assets/colab-badge.svg\" alt=\"Open In Colab\"/>\n",
    "</a>\n",
    "\n",
    "Now that you are visualizing the notebook in Colab, run the next cell to install the packages we will use. There are a few things you should follow in order to properly set the notebook up:\n",
    "1. Warning: This notebook was not authored by Google. Click on 'Run anyway'.\n",
    "1. When the installation commands are done, there might be \"Restart runtime\" button at the end of the output. Please, click it.\n"
   ]
  },
  {
   "cell_type": "markdown",
   "metadata": {},
   "source": [
    "By running the next cell you are going to create a folder in your Google Drive. All the files for this tutorial will be uploaded to this folder. After the first execution you might receive some warning and notification, please follow these instructions:\n",
    "1. Permit this notebook to access your Google Drive files? Click on 'Yes', and select your account.\n",
    "Google Drive for desktop wants to access your Google Account. Click on 'Allow'.\n",
    "1. At this point, a folder has been created and you can navigate it through the lefthand panel in Colab, you might also have received an email that informs you about the access on your Google Drive"
   ]
  },
  {
   "cell_type": "code",
   "execution_count": null,
   "metadata": {},
   "outputs": [],
   "source": [
    "# Create a folder in your Google Drive\n",
    "# from google.colab import drive\n",
    "# drive.mount('/content/drive')"
   ]
  },
  {
   "cell_type": "code",
   "execution_count": null,
   "metadata": {},
   "outputs": [],
   "source": [
    "# Don't run this cell if you already cloned the repo\n",
    "# !git clone https://github.com/BrainLesion/tutorials.git"
   ]
  },
  {
   "cell_type": "code",
   "execution_count": 2,
   "metadata": {},
   "outputs": [],
   "source": [
    "# make files from the repo available in colab\n",
    "import sys\n",
    "from pathlib import Path\n",
    "\n",
    "COLAB_BASE_PATH = Path(\"/content/tutorials/preprocessing/\")\n",
    "sys.path.insert(0, COLAB_BASE_PATH)"
   ]
  },
  {
   "cell_type": "markdown",
   "metadata": {},
   "source": [
    "## Installation of dependencies and imports"
   ]
  },
  {
   "cell_type": "code",
   "execution_count": null,
   "metadata": {},
   "outputs": [],
   "source": [
    "%pip install brainles_preprocessing[ants] matplotlib > /dev/null\n",
    "\n",
    "%load_ext autoreload\n",
    "%autoreload 2"
   ]
  },
  {
   "cell_type": "code",
   "execution_count": 2,
   "metadata": {},
   "outputs": [
    {
     "name": "stderr",
     "output_type": "stream",
     "text": [
      "/home/marcelrosier/preprocessing/brainles_preprocessing/registration/__init__.py:13: UserWarning:\n",
      "\n",
      "eReg package not found. If you want to use it, please install it using 'pip install brainles_preprocessing[ereg]'\n",
      "\n"
     ]
    }
   ],
   "source": [
    "from pathlib import Path\n",
    "\n",
    "from brainles_preprocessing.defacing import QuickshearDefacer\n",
    "from brainles_preprocessing.brain_extraction import HDBetExtractor\n",
    "from brainles_preprocessing.modality import Modality, CenterModality\n",
    "from brainles_preprocessing.preprocessor import Preprocessor\n",
    "from brainles_preprocessing.registration import ANTsRegistrator\n",
    "from brainles_preprocessing.normalization.percentile_normalizer import PercentileNormalizer"
   ]
  },
  {
   "cell_type": "markdown",
   "metadata": {},
   "source": [
    "# Run preprocessing"
   ]
  },
  {
   "cell_type": "code",
   "execution_count": 3,
   "metadata": {},
   "outputs": [],
   "source": [
    "# specify input and output paths\n",
    "data_folder = Path(\"data/TCGA-DU-7294\")\n",
    "\n",
    "t1c_file = data_folder / \"t1c.nii.gz\"\n",
    "t1_file = data_folder / \"t1.nii.gz\"\n",
    "fla_file = data_folder / \"fla.nii.gz\"\n",
    "t2_file = data_folder / \"t2.nii.gz\"\n",
    "\n",
    "norm_bet_dir = Path(\"output/norm_bet\")"
   ]
  },
  {
   "cell_type": "markdown",
   "metadata": {},
   "source": [
    "Setup the Preprocessor by defining:\n",
    "- (Optional) normalizer\n",
    "- Center modality (center for co-registration) with desired outputs\n",
    "- Moving modalities with desired outputs"
   ]
  },
  {
   "cell_type": "code",
   "execution_count": 9,
   "metadata": {},
   "outputs": [],
   "source": [
    "# normalizer\n",
    "percentile_normalizer = PercentileNormalizer(\n",
    "    lower_percentile=0.1,\n",
    "    upper_percentile=99.9,\n",
    "    lower_limit=0,\n",
    "    upper_limit=1,\n",
    ")\n",
    "# define modalities\n",
    "center = CenterModality(\n",
    "    modality_name=\"t1c\",\n",
    "    input_path=t1c_file,\n",
    "    normalized_bet_output_path=norm_bet_dir\n",
    "    / f\"{data_folder.name}_t1c_bet_normalized.nii.gz\",\n",
    "    normalizer=percentile_normalizer,\n",
    ")\n",
    "moving_modalities = [\n",
    "    Modality(\n",
    "        modality_name=\"t1\",\n",
    "        input_path=t1_file,\n",
    "        normalized_bet_output_path=norm_bet_dir\n",
    "        / f\"{data_folder.name}_t1_bet_normalized.nii.gz\",\n",
    "        normalizer=percentile_normalizer,\n",
    "    ),\n",
    "    Modality(\n",
    "        modality_name=\"t2\",\n",
    "        input_path=t2_file,\n",
    "        normalized_bet_output_path=norm_bet_dir\n",
    "        / f\"{data_folder.name}_t2_bet_normalized.nii.gz\",\n",
    "        normalizer=percentile_normalizer,\n",
    "    ),\n",
    "    Modality(\n",
    "        modality_name=\"flair\",\n",
    "        input_path=fla_file,\n",
    "        normalized_bet_output_path=norm_bet_dir\n",
    "        / f\"{data_folder.name}_fla_bet_normalized.nii.gz\",\n",
    "        normalizer=percentile_normalizer,\n",
    "    ),\n",
    "]\n",
    "preprocessor = Preprocessor(\n",
    "    center_modality=center,\n",
    "    moving_modalities=moving_modalities,\n",
    "    registrator=ANTsRegistrator(),\n",
    "    brain_extractor=HDBetExtractor(),\n",
    "    defacer=QuickshearDefacer(),\n",
    "    limit_cuda_visible_devices=\"0\",\n",
    ")\n",
    "\n"
   ]
  },
  {
   "cell_type": "markdown",
   "metadata": {},
   "source": [
    "Run the preprocessing"
   ]
  },
  {
   "cell_type": "code",
   "execution_count": null,
   "metadata": {},
   "outputs": [],
   "source": [
    "preprocessor.run()"
   ]
  }
 ],
 "metadata": {
  "kernelspec": {
   "display_name": "tutorials",
   "language": "python",
   "name": "python3"
  },
  "language_info": {
   "codemirror_mode": {
    "name": "ipython",
    "version": 3
   },
   "file_extension": ".py",
   "mimetype": "text/x-python",
   "name": "python",
   "nbconvert_exporter": "python",
   "pygments_lexer": "ipython3",
   "version": "3.10.14"
  }
 },
 "nbformat": 4,
 "nbformat_minor": 2
}
