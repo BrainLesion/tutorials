{
 "cells": [
  {
   "cell_type": "markdown",
   "metadata": {},
   "source": [
    "# Use Case: Unmatched Instances Input"
   ]
  },
  {
   "cell_type": "markdown",
   "metadata": {},
   "source": [
    "## Install Dependencies"
   ]
  },
  {
   "cell_type": "code",
   "execution_count": null,
   "metadata": {},
   "outputs": [],
   "source": [
    "!pip install -r requirements.txt"
   ]
  },
  {
   "cell_type": "markdown",
   "metadata": {},
   "source": [
    "## Setup Imports"
   ]
  },
  {
   "cell_type": "code",
   "execution_count": 7,
   "metadata": {},
   "outputs": [],
   "source": [
    "import numpy as np\n",
    "from auxiliary.nifti.io import read_nifti\n",
    "from rich import print as pprint\n",
    "from panoptica import (NaiveThresholdMatching, Panoptic_Evaluator,\n",
    "                       UnmatchedInstancePair)"
   ]
  },
  {
   "cell_type": "markdown",
   "metadata": {},
   "source": [
    "## Load Example Data"
   ]
  },
  {
   "cell_type": "markdown",
   "metadata": {},
   "source": [
    "To demonstrate we use a reference and predicition of spine a segmentation with unmatched instances.\n",
    "\n",
    "\n",
    "<img src=\"./spine_seg/unmatched_instance/fig.png\" alt=\"unmatched_instance_figure\" height=\"300\"/>"
   ]
  },
  {
   "cell_type": "code",
   "execution_count": 8,
   "metadata": {},
   "outputs": [
    {
     "data": {
      "text/plain": [
       "(array([  0,   2,   3,   4,   5,   6,   7,   8,  26, 102, 103, 104, 105,\n",
       "        106, 107, 108, 202, 203, 204, 205, 206, 207, 208], dtype=uint8),\n",
       " array([  0,   3,   4,   5,   6,   7,   8,   9,  27, 103, 104, 105, 106,\n",
       "        107, 108, 109, 203, 204, 205, 206, 207, 208, 209], dtype=uint8))"
      ]
     },
     "execution_count": 8,
     "metadata": {},
     "output_type": "execute_result"
    }
   ],
   "source": [
    "ref_masks = read_nifti(\n",
    "    \"./spine_seg/unmatched_instance/ref.nii.gz\"\n",
    ")\n",
    "pred_masks = read_nifti(\n",
    "    \"./spine_seg/unmatched_instance/pred.nii.gz\"\n",
    ")\n",
    "\n",
    "# labels are unmatching\n",
    "np.unique(ref_masks), np.unique(pred_masks)"
   ]
  },
  {
   "cell_type": "markdown",
   "metadata": {},
   "source": [
    "## Run Evaluation"
   ]
  },
  {
   "cell_type": "code",
   "execution_count": 9,
   "metadata": {},
   "outputs": [
    {
     "name": "stdout",
     "output_type": "stream",
     "text": [
      "evaluate took 15.725630044937134 seconds to execute.\n"
     ]
    }
   ],
   "source": [
    "sample = UnmatchedInstancePair(pred_masks, ref_masks)\n",
    "evaluator = Panoptic_Evaluator(\n",
    "    expected_input=UnmatchedInstancePair,\n",
    "    instance_matcher=NaiveThresholdMatching(),\n",
    "    iou_threshold=0.5,\n",
    ")\n",
    "\n",
    "result, debug_data = evaluator.evaluate(sample)"
   ]
  },
  {
   "cell_type": "markdown",
   "metadata": {},
   "source": [
    "## Inspect Results\n",
    "The results object allows access to individual metrics and provides helper methods for further processing"
   ]
  },
  {
   "cell_type": "code",
   "execution_count": 10,
   "metadata": {},
   "outputs": [
    {
     "name": "stdout",
     "output_type": "stream",
     "text": [
      "Number of instances in prediction: 22\n",
      "Number of instances in reference: 22\n",
      "True Positives (tp): 19\n",
      "False Positives (fp): 3\n",
      "False Negatives (fn): 3\n",
      "Recognition Quality / F1 Score (RQ): 0.8636363636363636\n",
      "Segmentation Quality (SQ): 0.8328184295330797 ± 0.1518606400451747\n",
      "Panoptic Quality (PQ): 0.7192522800512962\n",
      "DSC-based Segmentation Quality (DQ_DSC): 0.900292616009954 ± 0.10253566174957332\n",
      "DSC-based Panoptic Quality (PQ_DSC): 0.7775254410995057\n",
      "Average symmetric surface distance (ASSD): 0.25033188787922506 ± 0.07696680402317076\n"
     ]
    }
   ],
   "source": [
    "# print all results\n",
    "print(result)"
   ]
  },
  {
   "cell_type": "code",
   "execution_count": 11,
   "metadata": {},
   "outputs": [
    {
     "data": {
      "text/html": [
       "<pre style=\"white-space:pre;overflow-x:auto;line-height:normal;font-family:Menlo,'DejaVu Sans Mono',consolas,'Courier New',monospace\">result.<span style=\"color: #808000; text-decoration-color: #808000\">pq</span>=<span style=\"color: #008080; text-decoration-color: #008080; font-weight: bold\">0.7192522800512962</span>\n",
       "</pre>\n"
      ],
      "text/plain": [
       "result.\u001b[33mpq\u001b[0m=\u001b[1;36m0\u001b[0m\u001b[1;36m.7192522800512962\u001b[0m\n"
      ]
     },
     "metadata": {},
     "output_type": "display_data"
    }
   ],
   "source": [
    "# get specific metric, e.g. pq\n",
    "pprint(f\"{result.pq=}\")"
   ]
  },
  {
   "cell_type": "code",
   "execution_count": 12,
   "metadata": {},
   "outputs": [
    {
     "data": {
      "text/html": [
       "<pre style=\"white-space:pre;overflow-x:auto;line-height:normal;font-family:Menlo,'DejaVu Sans Mono',consolas,'Courier New',monospace\">results dict: \n",
       "<span style=\"font-weight: bold\">{</span>\n",
       "    <span style=\"color: #008000; text-decoration-color: #008000\">'num_pred_instances'</span>: <span style=\"color: #008080; text-decoration-color: #008080; font-weight: bold\">22</span>,\n",
       "    <span style=\"color: #008000; text-decoration-color: #008000\">'num_ref_instances'</span>: <span style=\"color: #008080; text-decoration-color: #008080; font-weight: bold\">22</span>,\n",
       "    <span style=\"color: #008000; text-decoration-color: #008000\">'tp'</span>: <span style=\"color: #008080; text-decoration-color: #008080; font-weight: bold\">19</span>,\n",
       "    <span style=\"color: #008000; text-decoration-color: #008000\">'fp'</span>: <span style=\"color: #008080; text-decoration-color: #008080; font-weight: bold\">3</span>,\n",
       "    <span style=\"color: #008000; text-decoration-color: #008000\">'fn'</span>: <span style=\"color: #008080; text-decoration-color: #008080; font-weight: bold\">3</span>,\n",
       "    <span style=\"color: #008000; text-decoration-color: #008000\">'rq'</span>: <span style=\"color: #008080; text-decoration-color: #008080; font-weight: bold\">0.8636363636363636</span>,\n",
       "    <span style=\"color: #008000; text-decoration-color: #008000\">'sq'</span>: <span style=\"color: #008080; text-decoration-color: #008080; font-weight: bold\">0.8328184295330797</span>,\n",
       "    <span style=\"color: #008000; text-decoration-color: #008000\">'sq_sd'</span>: <span style=\"color: #008080; text-decoration-color: #008080; font-weight: bold\">0.1518606400451747</span>,\n",
       "    <span style=\"color: #008000; text-decoration-color: #008000\">'pq'</span>: <span style=\"color: #008080; text-decoration-color: #008080; font-weight: bold\">0.7192522800512962</span>,\n",
       "    <span style=\"color: #008000; text-decoration-color: #008000\">'sq_dsc'</span>: <span style=\"color: #008080; text-decoration-color: #008080; font-weight: bold\">0.900292616009954</span>,\n",
       "    <span style=\"color: #008000; text-decoration-color: #008000\">'sq_dsc_sd'</span>: <span style=\"color: #008080; text-decoration-color: #008080; font-weight: bold\">0.10253566174957332</span>,\n",
       "    <span style=\"color: #008000; text-decoration-color: #008000\">'pq_dsc'</span>: <span style=\"color: #008080; text-decoration-color: #008080; font-weight: bold\">0.7775254410995057</span>,\n",
       "    <span style=\"color: #008000; text-decoration-color: #008000\">'assd'</span>: <span style=\"color: #008080; text-decoration-color: #008080; font-weight: bold\">0.25033188787922506</span>,\n",
       "    <span style=\"color: #008000; text-decoration-color: #008000\">'assd_sd'</span>: <span style=\"color: #008080; text-decoration-color: #008080; font-weight: bold\">0.07696680402317076</span>\n",
       "<span style=\"font-weight: bold\">}</span>\n",
       "</pre>\n"
      ],
      "text/plain": [
       "results dict: \n",
       "\u001b[1m{\u001b[0m\n",
       "    \u001b[32m'num_pred_instances'\u001b[0m: \u001b[1;36m22\u001b[0m,\n",
       "    \u001b[32m'num_ref_instances'\u001b[0m: \u001b[1;36m22\u001b[0m,\n",
       "    \u001b[32m'tp'\u001b[0m: \u001b[1;36m19\u001b[0m,\n",
       "    \u001b[32m'fp'\u001b[0m: \u001b[1;36m3\u001b[0m,\n",
       "    \u001b[32m'fn'\u001b[0m: \u001b[1;36m3\u001b[0m,\n",
       "    \u001b[32m'rq'\u001b[0m: \u001b[1;36m0.8636363636363636\u001b[0m,\n",
       "    \u001b[32m'sq'\u001b[0m: \u001b[1;36m0.8328184295330797\u001b[0m,\n",
       "    \u001b[32m'sq_sd'\u001b[0m: \u001b[1;36m0.1518606400451747\u001b[0m,\n",
       "    \u001b[32m'pq'\u001b[0m: \u001b[1;36m0.7192522800512962\u001b[0m,\n",
       "    \u001b[32m'sq_dsc'\u001b[0m: \u001b[1;36m0.900292616009954\u001b[0m,\n",
       "    \u001b[32m'sq_dsc_sd'\u001b[0m: \u001b[1;36m0.10253566174957332\u001b[0m,\n",
       "    \u001b[32m'pq_dsc'\u001b[0m: \u001b[1;36m0.7775254410995057\u001b[0m,\n",
       "    \u001b[32m'assd'\u001b[0m: \u001b[1;36m0.25033188787922506\u001b[0m,\n",
       "    \u001b[32m'assd_sd'\u001b[0m: \u001b[1;36m0.07696680402317076\u001b[0m\n",
       "\u001b[1m}\u001b[0m\n"
      ]
     },
     "metadata": {},
     "output_type": "display_data"
    }
   ],
   "source": [
    "# get dict for further processing, e.g. for pandas\n",
    "pprint(\"results dict: \", result.to_dict())"
   ]
  }
 ],
 "metadata": {
  "kernelspec": {
   "display_name": "brainles",
   "language": "python",
   "name": "python3"
  },
  "language_info": {
   "codemirror_mode": {
    "name": "ipython",
    "version": 3
   },
   "file_extension": ".py",
   "mimetype": "text/x-python",
   "name": "python",
   "nbconvert_exporter": "python",
   "pygments_lexer": "ipython3",
   "version": "3.10.13"
  }
 },
 "nbformat": 4,
 "nbformat_minor": 2
}
