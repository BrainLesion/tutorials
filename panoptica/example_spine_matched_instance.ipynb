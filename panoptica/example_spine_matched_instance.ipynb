{
 "cells": [
  {
   "cell_type": "markdown",
   "metadata": {},
   "source": [
    "# Use Case: Matched Instances Input\n"
   ]
  },
  {
   "cell_type": "markdown",
   "metadata": {},
   "source": [
    "## Setup Imports"
   ]
  },
  {
   "cell_type": "code",
   "execution_count": 6,
   "metadata": {},
   "outputs": [],
   "source": [
    "from auxiliary.nifti.io import read_nifti\n",
    "from panoptica import MatchedInstancePair, Panoptic_Evaluator\n",
    "import numpy as np"
   ]
  },
  {
   "cell_type": "markdown",
   "metadata": {},
   "source": [
    "## Load Data"
   ]
  },
  {
   "cell_type": "markdown",
   "metadata": {},
   "source": [
    "To demonstrate we use a reference and predicition of spine a segmentation with matched instances.\n",
    "\n",
    "\n",
    "<img src=\"./spine_seg/matched_instance/fig.png\" alt=\"matched_instance_figure\" height=\"300\"/>\n"
   ]
  },
  {
   "cell_type": "code",
   "execution_count": 7,
   "metadata": {},
   "outputs": [
    {
     "data": {
      "text/plain": [
       "(array([  0,   2,   3,   4,   5,   6,   7,   8,  26, 102, 103, 104, 105,\n",
       "        106, 107, 108, 202, 203, 204, 205, 206, 207, 208], dtype=uint8),\n",
       " array([  0,   2,   3,   4,   5,   6,   7,   8,  26, 102, 103, 104, 105,\n",
       "        106, 107, 108, 202, 203, 204, 205, 206, 207, 208], dtype=uint8))"
      ]
     },
     "execution_count": 7,
     "metadata": {},
     "output_type": "execute_result"
    }
   ],
   "source": [
    "ref_masks = read_nifti(\"./spine_seg/matched_instance/ref.nii.gz\")\n",
    "pred_masks = read_nifti(\"./spine_seg/matched_instance/pred.nii.gz\")\n",
    "\n",
    "# labels are matching\n",
    "np.unique(ref_masks), np.unique(pred_masks)"
   ]
  },
  {
   "cell_type": "markdown",
   "metadata": {},
   "source": [
    "## Run Evaluation"
   ]
  },
  {
   "cell_type": "code",
   "execution_count": 8,
   "metadata": {},
   "outputs": [
    {
     "name": "stdout",
     "output_type": "stream",
     "text": [
      "evaluate took 0.059478044509887695 seconds to execute.\n",
      "Number of instances in prediction: 22\n",
      "Number of instances in reference: 22\n",
      "True Positives (tp): 19\n",
      "False Positives (fp): 3\n",
      "False Negatives (fn): 3\n",
      "Recognition Quality / F1 Score (RQ): 0.8636363636363636\n",
      "Segmentation Quality (SQ): 0.8328184295330797 ± 0.1518606400451747\n",
      "Panoptic Quality (PQ): 0.7192522800512962\n",
      "volumetric instance-wise DICE: 0.9002926160099541 ± 0.10253566174957332\n"
     ]
    }
   ],
   "source": [
    "sample = MatchedInstancePair(prediction_arr=pred_masks, reference_arr=ref_masks)\n",
    "\n",
    "evaluator = Panoptic_Evaluator(\n",
    "    expected_input=MatchedInstancePair,\n",
    "    iou_threshold=0.5,\n",
    ")\n",
    "\n",
    "result, debug_data = evaluator.evaluate(sample)\n",
    "print(result)"
   ]
  }
 ],
 "metadata": {
  "kernelspec": {
   "display_name": "helm",
   "language": "python",
   "name": "python3"
  },
  "language_info": {
   "codemirror_mode": {
    "name": "ipython",
    "version": 3
   },
   "file_extension": ".py",
   "mimetype": "text/x-python",
   "name": "python",
   "nbconvert_exporter": "python",
   "pygments_lexer": "ipython3",
   "version": "3.10.13"
  }
 },
 "nbformat": 4,
 "nbformat_minor": 2
}
