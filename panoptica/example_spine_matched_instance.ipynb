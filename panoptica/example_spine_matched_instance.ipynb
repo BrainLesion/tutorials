{
 "cells": [
  {
   "cell_type": "markdown",
   "metadata": {},
   "source": [
    "# Use Case: Matched Instances Input\n"
   ]
  },
  {
   "cell_type": "markdown",
   "metadata": {},
   "source": [
    "## Setup imports"
   ]
  },
  {
   "cell_type": "code",
   "execution_count": 5,
   "metadata": {},
   "outputs": [],
   "source": [
    "from auxiliary.nifti.io import read_nifti\n",
    "from panoptica import MatchedInstancePair, Panoptic_Evaluator"
   ]
  },
  {
   "cell_type": "markdown",
   "metadata": {},
   "source": [
    "## Load data"
   ]
  },
  {
   "cell_type": "code",
   "execution_count": 6,
   "metadata": {},
   "outputs": [],
   "source": [
    "ref_masks = read_nifti(\"./spine_seg/matched_instance/ref.nii.gz\")\n",
    "pred_masks = read_nifti(\"./spine_seg/matched_instance/pred.nii.gz\")"
   ]
  },
  {
   "cell_type": "markdown",
   "metadata": {},
   "source": [
    "## Run evaluation"
   ]
  },
  {
   "cell_type": "code",
   "execution_count": 7,
   "metadata": {},
   "outputs": [
    {
     "name": "stdout",
     "output_type": "stream",
     "text": [
      "evaluate took 0.09247469902038574 seconds to execute.\n",
      "Number of instances in prediction: 22\n",
      "Number of instances in reference: 22\n",
      "True Positives (tp): 19\n",
      "False Positives (fp): 3\n",
      "False Negatives (fn): 3\n",
      "Recognition Quality / F1 Score (RQ): 0.8636363636363636\n",
      "Segmentation Quality (SQ): 0.8328184295330796 ± 0.15186064004517466\n",
      "Panoptic Quality (PQ): 0.719252280051296\n",
      "volumetric instance-wise DICE: 0.9002926160099541 ± 0.10253566174957332\n"
     ]
    }
   ],
   "source": [
    "sample = MatchedInstancePair(prediction_arr=pred_masks, reference_arr=ref_masks)\n",
    "\n",
    "evaluator = Panoptic_Evaluator(\n",
    "    expected_input=MatchedInstancePair,\n",
    "    iou_threshold=0.5,\n",
    ")\n",
    "\n",
    "result, debug_data = evaluator.evaluate(sample)\n",
    "print(result)"
   ]
  }
 ],
 "metadata": {
  "kernelspec": {
   "display_name": "helm",
   "language": "python",
   "name": "python3"
  },
  "language_info": {
   "codemirror_mode": {
    "name": "ipython",
    "version": 3
   },
   "file_extension": ".py",
   "mimetype": "text/x-python",
   "name": "python",
   "nbconvert_exporter": "python",
   "pygments_lexer": "ipython3",
   "version": "3.10.13"
  }
 },
 "nbformat": 4,
 "nbformat_minor": 2
}
