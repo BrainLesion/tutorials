{
 "cells": [
  {
   "cell_type": "markdown",
   "metadata": {},
   "source": [
    "# Semantic segmentation input"
   ]
  },
  {
   "cell_type": "markdown",
   "metadata": {},
   "source": [
    "## Setup imports"
   ]
  },
  {
   "cell_type": "code",
   "execution_count": 1,
   "metadata": {},
   "outputs": [],
   "source": [
    "from auxiliary.nifti.io import read_nifti\n",
    "from panoptica import (ConnectedComponentsInstanceApproximator,\n",
    "                       NaiveOneToOneMatching, Panoptic_Evaluator, SemanticPair)"
   ]
  },
  {
   "cell_type": "markdown",
   "metadata": {},
   "source": [
    "## Load data"
   ]
  },
  {
   "cell_type": "code",
   "execution_count": 2,
   "metadata": {},
   "outputs": [],
   "source": [
    "ref_masks = read_nifti(\n",
    "    \"./spine_seg/semantic/ref.nii.gz\"\n",
    ")\n",
    "pred_masks = read_nifti(\n",
    "    \"./spine_seg/semantic/pred.nii.gz\"\n",
    ")"
   ]
  },
  {
   "cell_type": "markdown",
   "metadata": {},
   "source": [
    "## Run evaluation"
   ]
  },
  {
   "cell_type": "code",
   "execution_count": 3,
   "metadata": {},
   "outputs": [
    {
     "name": "stdout",
     "output_type": "stream",
     "text": [
      "evaluate took 7.57350492477417 seconds to execute.\n",
      "Number of instances in prediction: 89\n",
      "Number of instances in reference: 87\n",
      "True Positives (tp): 73\n",
      "False Positives (fp): 16\n",
      "False Negatives (fn): 14\n",
      "Recognition Quality / F1 Score (RQ): 0.8295454545454546\n",
      "Segmentation Quality (SQ): 0.7940127477906024 ± 0.11547745015679488\n",
      "Panoptic Quality (PQ): 0.6586696657808406\n",
      "volumetric instance-wise DICE: 0.8802182546605446 ± 0.07728416427007168\n"
     ]
    }
   ],
   "source": [
    "sample = SemanticPair(pred_masks, ref_masks)\n",
    "\n",
    "evaluator = Panoptic_Evaluator(\n",
    "    expected_input=SemanticPair,\n",
    "    instance_approximator=ConnectedComponentsInstanceApproximator(),\n",
    "    instance_matcher=NaiveOneToOneMatching(),\n",
    "    iou_threshold=0.5,\n",
    ")\n",
    "\n",
    "result, debug_data = evaluator.evaluate(sample)\n",
    "print(result)"
   ]
  }
 ],
 "metadata": {
  "kernelspec": {
   "display_name": "brainles",
   "language": "python",
   "name": "python3"
  },
  "language_info": {
   "codemirror_mode": {
    "name": "ipython",
    "version": 3
   },
   "file_extension": ".py",
   "mimetype": "text/x-python",
   "name": "python",
   "nbconvert_exporter": "python",
   "pygments_lexer": "ipython3",
   "version": "3.10.13"
  }
 },
 "nbformat": 4,
 "nbformat_minor": 2
}
