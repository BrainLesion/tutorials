{
  "cells": [
    {
      "cell_type": "markdown",
      "metadata": {},
      "source": [
        "# Semantic Segmentation Input"
      ]
    },
    {
      "cell_type": "markdown",
      "metadata": {},
      "source": [
        "## Install Dependencies"
      ]
    },
    {
      "cell_type": "code",
      "execution_count": 1,
      "metadata": {},
      "outputs": [
        {
          "name": "stdout",
          "output_type": "stream",
          "text": [
            "Requirement already satisfied: panoptica in /Users/marcelrosier/opt/anaconda3/envs/brainles/lib/python3.10/site-packages (from -r requirements.txt (line 1)) (0.5.20)\n",
            "Requirement already satisfied: auxiliary in /Users/marcelrosier/opt/anaconda3/envs/brainles/lib/python3.10/site-packages (from -r requirements.txt (line 2)) (0.0.38)\n",
            "Requirement already satisfied: rich in /Users/marcelrosier/opt/anaconda3/envs/brainles/lib/python3.10/site-packages (from -r requirements.txt (line 3)) (13.6.0)\n",
            "Requirement already satisfied: numpy in /Users/marcelrosier/opt/anaconda3/envs/brainles/lib/python3.10/site-packages (from -r requirements.txt (line 4)) (1.25.2)\n",
            "Requirement already satisfied: connected-components-3d<4.0.0,>=3.12.3 in /Users/marcelrosier/opt/anaconda3/envs/brainles/lib/python3.10/site-packages (from panoptica->-r requirements.txt (line 1)) (3.12.3)\n",
            "Requirement already satisfied: scipy<2.0.0,>=1.7.0 in /Users/marcelrosier/opt/anaconda3/envs/brainles/lib/python3.10/site-packages (from panoptica->-r requirements.txt (line 1)) (1.11.3)\n",
            "Requirement already satisfied: nibabel>=3.0 in /Users/marcelrosier/opt/anaconda3/envs/brainles/lib/python3.10/site-packages (from auxiliary->-r requirements.txt (line 2)) (4.0.2)\n",
            "Requirement already satisfied: path>=16.7.1 in /Users/marcelrosier/opt/anaconda3/envs/brainles/lib/python3.10/site-packages (from auxiliary->-r requirements.txt (line 2)) (16.7.1)\n",
            "Requirement already satisfied: pathlib>=1.0 in /Users/marcelrosier/opt/anaconda3/envs/brainles/lib/python3.10/site-packages (from auxiliary->-r requirements.txt (line 2)) (1.0.1)\n",
            "Requirement already satisfied: pillow>=10.0.0 in /Users/marcelrosier/opt/anaconda3/envs/brainles/lib/python3.10/site-packages (from auxiliary->-r requirements.txt (line 2)) (10.0.1)\n",
            "Requirement already satisfied: tifffile>=2023.8.25 in /Users/marcelrosier/opt/anaconda3/envs/brainles/lib/python3.10/site-packages (from auxiliary->-r requirements.txt (line 2)) (2023.9.26)\n",
            "Requirement already satisfied: markdown-it-py>=2.2.0 in /Users/marcelrosier/opt/anaconda3/envs/brainles/lib/python3.10/site-packages (from rich->-r requirements.txt (line 3)) (3.0.0)\n",
            "Requirement already satisfied: pygments<3.0.0,>=2.13.0 in /Users/marcelrosier/opt/anaconda3/envs/brainles/lib/python3.10/site-packages (from rich->-r requirements.txt (line 3)) (2.16.1)\n",
            "Requirement already satisfied: mdurl~=0.1 in /Users/marcelrosier/opt/anaconda3/envs/brainles/lib/python3.10/site-packages (from markdown-it-py>=2.2.0->rich->-r requirements.txt (line 3)) (0.1.2)\n",
            "Requirement already satisfied: packaging>=17.0 in /Users/marcelrosier/opt/anaconda3/envs/brainles/lib/python3.10/site-packages (from nibabel>=3.0->auxiliary->-r requirements.txt (line 2)) (23.2)\n",
            "Requirement already satisfied: setuptools in /Users/marcelrosier/opt/anaconda3/envs/brainles/lib/python3.10/site-packages (from nibabel>=3.0->auxiliary->-r requirements.txt (line 2)) (68.2.2)\n"
          ]
        }
      ],
      "source": [
        "!pip install -r requirements.txt"
      ]
    },
    {
      "cell_type": "markdown",
      "metadata": {},
      "source": [
        "## Setup Imports"
      ]
    },
    {
      "cell_type": "code",
      "execution_count": 2,
      "metadata": {},
      "outputs": [],
      "source": [
        "import numpy as np\n",
        "from auxiliary.nifti.io import read_nifti\n",
        "from rich import print as pprint\n",
        "from panoptica import (ConnectedComponentsInstanceApproximator,\n",
        "                       NaiveThresholdMatching, Panoptic_Evaluator, SemanticPair)"
      ]
    },
    {
      "cell_type": "markdown",
      "metadata": {},
      "source": [
        "## Load Data"
      ]
    },
    {
      "cell_type": "markdown",
      "metadata": {},
      "source": [
        "To demonstrate we use a reference and predicition of spine a segmentation without instances.\n",
        "\n",
        "![semantic_figure](https://github.com/BrainLesion/panoptica/blob/main/examples/figures/semantic.png?raw=true)"
      ]
    },
    {
      "cell_type": "code",
      "execution_count": 3,
      "metadata": {},
      "outputs": [],
      "source": [
        "ref_masks = read_nifti(\n",
        "    \"./spine_seg/semantic/ref.nii.gz\"\n",
        ")\n",
        "pred_masks = read_nifti(\n",
        "    \"./spine_seg/semantic/pred.nii.gz\"\n",
        ")"
      ]
    },
    {
      "cell_type": "markdown",
      "metadata": {},
      "source": [
        "## Run Evaluation"
      ]
    },
    {
      "cell_type": "code",
      "execution_count": 4,
      "metadata": {},
      "outputs": [
        {
          "data": {
            "text/html": [
              "<pre style=\"white-space:pre;overflow-x:auto;line-height:normal;font-family:Menlo,'DejaVu Sans Mono',consolas,'Courier New',monospace\"><span style=\"color: #00ff00; text-decoration-color: #00ff00\">────────────────────────────────────────── </span>Thank you for using <span style=\"font-weight: bold\">panoptica</span><span style=\"color: #00ff00; text-decoration-color: #00ff00\"> ──────────────────────────────────────────</span>\n",
              "</pre>\n"
            ],
            "text/plain": [
              "\u001b[92m────────────────────────────────────────── \u001b[0mThank you for using \u001b[1mpanoptica\u001b[0m\u001b[92m ──────────────────────────────────────────\u001b[0m\n"
            ]
          },
          "metadata": {},
          "output_type": "display_data"
        },
        {
          "data": {
            "text/html": [
              "<pre style=\"white-space:pre;overflow-x:auto;line-height:normal;font-family:Menlo,'DejaVu Sans Mono',consolas,'Courier New',monospace\">                                     Please support our development by citing                                      \n",
              "</pre>\n"
            ],
            "text/plain": [
              "                                     Please support our development by citing                                      \n"
            ]
          },
          "metadata": {},
          "output_type": "display_data"
        },
        {
          "data": {
            "text/html": [
              "<pre style=\"white-space:pre;overflow-x:auto;line-height:normal;font-family:Menlo,'DejaVu Sans Mono',consolas,'Courier New',monospace\">                          <span style=\"color: #0000ff; text-decoration-color: #0000ff; text-decoration: underline\">https://github.com/BrainLesion/panoptica#citation</span> -- Thank you!                          \n",
              "</pre>\n"
            ],
            "text/plain": [
              "                          \u001b[4;94mhttps://github.com/BrainLesion/panoptica#citation\u001b[0m -- Thank you!                          \n"
            ]
          },
          "metadata": {},
          "output_type": "display_data"
        },
        {
          "data": {
            "text/html": [
              "<pre style=\"white-space:pre;overflow-x:auto;line-height:normal;font-family:Menlo,'DejaVu Sans Mono',consolas,'Courier New',monospace\"><span style=\"color: #00ff00; text-decoration-color: #00ff00\">───────────────────────────────────────────────────────────────────────────────────────────────────────────────────</span>\n",
              "</pre>\n"
            ],
            "text/plain": [
              "\u001b[92m───────────────────────────────────────────────────────────────────────────────────────────────────────────────────\u001b[0m\n"
            ]
          },
          "metadata": {},
          "output_type": "display_data"
        },
        {
          "data": {
            "text/html": [
              "<pre style=\"white-space:pre;overflow-x:auto;line-height:normal;font-family:Menlo,'DejaVu Sans Mono',consolas,'Courier New',monospace\">\n",
              "</pre>\n"
            ],
            "text/plain": [
              "\n"
            ]
          },
          "metadata": {},
          "output_type": "display_data"
        },
        {
          "name": "stdout",
          "output_type": "stream",
          "text": [
            "Panoptic: Start Evaluation\n",
            "-- Got SemanticPair, will approximate instances\n",
            "-- Got UnmatchedInstancePair, will match instances\n",
            "-- Got MatchedInstancePair, will evaluate instances\n",
            "-- evaluate took 4.660651922225952 seconds to execute.\n"
          ]
        }
      ],
      "source": [
        "sample = SemanticPair(pred_masks, ref_masks)\n",
        "\n",
        "evaluator = Panoptic_Evaluator(\n",
        "    expected_input=SemanticPair,\n",
        "    instance_approximator=ConnectedComponentsInstanceApproximator(),\n",
        "    instance_matcher=NaiveThresholdMatching(),\n",
        "    iou_threshold=0.5,\n",
        ")\n",
        "\n",
        "result, debug_data = evaluator.evaluate(sample)"
      ]
    },
    {
      "cell_type": "markdown",
      "metadata": {},
      "source": [
        "## Inspect Results\n",
        "The results object allows access to individual metrics and provides helper methods for further processing"
      ]
    },
    {
      "cell_type": "code",
      "execution_count": 5,
      "metadata": {},
      "outputs": [
        {
          "name": "stdout",
          "output_type": "stream",
          "text": [
            "Number of instances in prediction: 89\n",
            "Number of instances in reference: 87\n",
            "True Positives (tp): 73\n",
            "False Positives (fp): 16\n",
            "False Negatives (fn): 14\n",
            "Recognition Quality / F1 Score (RQ): 0.8295454545454546\n",
            "Segmentation Quality (SQ): 0.7940127477906024 ± 0.11547745015679488\n",
            "Panoptic Quality (PQ): 0.6586696657808406\n",
            "DSC-based Segmentation Quality (DQ_DSC): 0.8802182546605446 ± 0.07728416427007168\n",
            "DSC-based Panoptic Quality (PQ_DSC): 0.7301810521615881\n",
            "Average symmetric surface distance (ASSD): 0.2057371092494465 ± 0.1398348236766068\n",
            "ASSD-based Panoptic Quality (PQ_ASSD): 0.17066828380919993\n"
          ]
        }
      ],
      "source": [
        "# print all results\n",
        "print(result)"
      ]
    },
    {
      "cell_type": "code",
      "execution_count": 6,
      "metadata": {},
      "outputs": [
        {
          "data": {
            "text/html": [
              "<pre style=\"white-space:pre;overflow-x:auto;line-height:normal;font-family:Menlo,'DejaVu Sans Mono',consolas,'Courier New',monospace\">result.<span style=\"color: #808000; text-decoration-color: #808000\">pq</span>=<span style=\"color: #008080; text-decoration-color: #008080; font-weight: bold\">0.6586696657808406</span>\n",
              "</pre>\n"
            ],
            "text/plain": [
              "result.\u001b[33mpq\u001b[0m=\u001b[1;36m0\u001b[0m\u001b[1;36m.6586696657808406\u001b[0m\n"
            ]
          },
          "metadata": {},
          "output_type": "display_data"
        }
      ],
      "source": [
        "# get specific metric, e.g. pq\n",
        "pprint(f\"{result.pq=}\")"
      ]
    },
    {
      "cell_type": "code",
      "execution_count": 7,
      "metadata": {},
      "outputs": [
        {
          "data": {
            "text/html": [
              "<pre style=\"white-space:pre;overflow-x:auto;line-height:normal;font-family:Menlo,'DejaVu Sans Mono',consolas,'Courier New',monospace\">results dict: \n",
              "<span style=\"font-weight: bold\">{</span>\n",
              "    <span style=\"color: #008000; text-decoration-color: #008000\">'num_pred_instances'</span>: <span style=\"color: #008080; text-decoration-color: #008080; font-weight: bold\">89</span>,\n",
              "    <span style=\"color: #008000; text-decoration-color: #008000\">'num_ref_instances'</span>: <span style=\"color: #008080; text-decoration-color: #008080; font-weight: bold\">87</span>,\n",
              "    <span style=\"color: #008000; text-decoration-color: #008000\">'tp'</span>: <span style=\"color: #008080; text-decoration-color: #008080; font-weight: bold\">73</span>,\n",
              "    <span style=\"color: #008000; text-decoration-color: #008000\">'fp'</span>: <span style=\"color: #008080; text-decoration-color: #008080; font-weight: bold\">16</span>,\n",
              "    <span style=\"color: #008000; text-decoration-color: #008000\">'fn'</span>: <span style=\"color: #008080; text-decoration-color: #008080; font-weight: bold\">14</span>,\n",
              "    <span style=\"color: #008000; text-decoration-color: #008000\">'rq'</span>: <span style=\"color: #008080; text-decoration-color: #008080; font-weight: bold\">0.8295454545454546</span>,\n",
              "    <span style=\"color: #008000; text-decoration-color: #008000\">'sq'</span>: <span style=\"color: #008080; text-decoration-color: #008080; font-weight: bold\">0.7940127477906024</span>,\n",
              "    <span style=\"color: #008000; text-decoration-color: #008000\">'sq_sd'</span>: <span style=\"color: #008080; text-decoration-color: #008080; font-weight: bold\">0.11547745015679488</span>,\n",
              "    <span style=\"color: #008000; text-decoration-color: #008000\">'pq'</span>: <span style=\"color: #008080; text-decoration-color: #008080; font-weight: bold\">0.6586696657808406</span>,\n",
              "    <span style=\"color: #008000; text-decoration-color: #008000\">'sq_dsc'</span>: <span style=\"color: #008080; text-decoration-color: #008080; font-weight: bold\">0.8802182546605446</span>,\n",
              "    <span style=\"color: #008000; text-decoration-color: #008000\">'sq_dsc_sd'</span>: <span style=\"color: #008080; text-decoration-color: #008080; font-weight: bold\">0.07728416427007168</span>,\n",
              "    <span style=\"color: #008000; text-decoration-color: #008000\">'pq_dsc'</span>: <span style=\"color: #008080; text-decoration-color: #008080; font-weight: bold\">0.7301810521615881</span>,\n",
              "    <span style=\"color: #008000; text-decoration-color: #008000\">'sq_assd'</span>: <span style=\"color: #008080; text-decoration-color: #008080; font-weight: bold\">0.2057371092494465</span>,\n",
              "    <span style=\"color: #008000; text-decoration-color: #008000\">'sq_assd_sd'</span>: <span style=\"color: #008080; text-decoration-color: #008080; font-weight: bold\">0.1398348236766068</span>,\n",
              "    <span style=\"color: #008000; text-decoration-color: #008000\">'pq_assd'</span>: <span style=\"color: #008080; text-decoration-color: #008080; font-weight: bold\">0.17066828380919993</span>\n",
              "<span style=\"font-weight: bold\">}</span>\n",
              "</pre>\n"
            ],
            "text/plain": [
              "results dict: \n",
              "\u001b[1m{\u001b[0m\n",
              "    \u001b[32m'num_pred_instances'\u001b[0m: \u001b[1;36m89\u001b[0m,\n",
              "    \u001b[32m'num_ref_instances'\u001b[0m: \u001b[1;36m87\u001b[0m,\n",
              "    \u001b[32m'tp'\u001b[0m: \u001b[1;36m73\u001b[0m,\n",
              "    \u001b[32m'fp'\u001b[0m: \u001b[1;36m16\u001b[0m,\n",
              "    \u001b[32m'fn'\u001b[0m: \u001b[1;36m14\u001b[0m,\n",
              "    \u001b[32m'rq'\u001b[0m: \u001b[1;36m0.8295454545454546\u001b[0m,\n",
              "    \u001b[32m'sq'\u001b[0m: \u001b[1;36m0.7940127477906024\u001b[0m,\n",
              "    \u001b[32m'sq_sd'\u001b[0m: \u001b[1;36m0.11547745015679488\u001b[0m,\n",
              "    \u001b[32m'pq'\u001b[0m: \u001b[1;36m0.6586696657808406\u001b[0m,\n",
              "    \u001b[32m'sq_dsc'\u001b[0m: \u001b[1;36m0.8802182546605446\u001b[0m,\n",
              "    \u001b[32m'sq_dsc_sd'\u001b[0m: \u001b[1;36m0.07728416427007168\u001b[0m,\n",
              "    \u001b[32m'pq_dsc'\u001b[0m: \u001b[1;36m0.7301810521615881\u001b[0m,\n",
              "    \u001b[32m'sq_assd'\u001b[0m: \u001b[1;36m0.2057371092494465\u001b[0m,\n",
              "    \u001b[32m'sq_assd_sd'\u001b[0m: \u001b[1;36m0.1398348236766068\u001b[0m,\n",
              "    \u001b[32m'pq_assd'\u001b[0m: \u001b[1;36m0.17066828380919993\u001b[0m\n",
              "\u001b[1m}\u001b[0m\n"
            ]
          },
          "metadata": {},
          "output_type": "display_data"
        }
      ],
      "source": [
        "# get dict for further processing, e.g. for pandas\n",
        "pprint(\"results dict: \", result.to_dict())"
      ]
    }
  ],
  "metadata": {
    "kernelspec": {
      "display_name": "brainles",
      "language": "python",
      "name": "python3"
    },
    "language_info": {
      "codemirror_mode": {
        "name": "ipython",
        "version": 3
      },
      "file_extension": ".py",
      "mimetype": "text/x-python",
      "name": "python",
      "nbconvert_exporter": "python",
      "pygments_lexer": "ipython3",
      "version": "3.10.13"
    }
  },
  "nbformat": 4,
  "nbformat_minor": 2
}
