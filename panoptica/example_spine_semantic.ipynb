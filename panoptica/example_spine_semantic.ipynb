{
 "cells": [
  {
   "cell_type": "markdown",
   "metadata": {},
   "source": [
    "# Semantic Segmentation Input"
   ]
  },
  {
   "cell_type": "markdown",
   "metadata": {},
   "source": [
    "## Install Dependencies"
   ]
  },
  {
   "cell_type": "code",
   "execution_count": 7,
   "metadata": {},
   "outputs": [
    {
     "name": "stdout",
     "output_type": "stream",
     "text": [
      "Requirement already satisfied: panoptica in /opt/anaconda3/envs/seg11panoptdev/lib/python3.11/site-packages (from -r requirements.txt (line 1)) (0.6.6.post9.dev0+d25fabc)\n",
      "Requirement already satisfied: auxiliary in /opt/anaconda3/envs/seg11panoptdev/lib/python3.11/site-packages (from -r requirements.txt (line 2)) (0.0.42)\n",
      "Requirement already satisfied: rich in /opt/anaconda3/envs/seg11panoptdev/lib/python3.11/site-packages (from -r requirements.txt (line 3)) (13.6.0)\n",
      "Requirement already satisfied: numpy in /opt/anaconda3/envs/seg11panoptdev/lib/python3.11/site-packages (from -r requirements.txt (line 4)) (1.25.2)\n",
      "Requirement already satisfied: connected-components-3d<4.0.0,>=3.12.3 in /opt/anaconda3/envs/seg11panoptdev/lib/python3.11/site-packages (from panoptica->-r requirements.txt (line 1)) (3.12.3)\n",
      "Requirement already satisfied: ruamel.yaml<0.19.0,>=0.18.6 in /opt/anaconda3/envs/seg11panoptdev/lib/python3.11/site-packages (from panoptica->-r requirements.txt (line 1)) (0.18.6)\n",
      "Requirement already satisfied: scikit-image<0.23.0,>=0.22.0 in /opt/anaconda3/envs/seg11panoptdev/lib/python3.11/site-packages (from panoptica->-r requirements.txt (line 1)) (0.22.0)\n",
      "Requirement already satisfied: scipy<2.0.0,>=1.7.0 in /opt/anaconda3/envs/seg11panoptdev/lib/python3.11/site-packages (from panoptica->-r requirements.txt (line 1)) (1.11.2)\n",
      "Requirement already satisfied: nibabel>=3.0 in /opt/anaconda3/envs/seg11panoptdev/lib/python3.11/site-packages (from auxiliary->-r requirements.txt (line 2)) (5.1.0)\n",
      "Requirement already satisfied: path>=16.10.0 in /opt/anaconda3/envs/seg11panoptdev/lib/python3.11/site-packages (from auxiliary->-r requirements.txt (line 2)) (17.0.0)\n",
      "Requirement already satisfied: pathlib>=1.0 in /opt/anaconda3/envs/seg11panoptdev/lib/python3.11/site-packages (from auxiliary->-r requirements.txt (line 2)) (1.0.1)\n",
      "Requirement already satisfied: pillow>=10.0.0 in /opt/anaconda3/envs/seg11panoptdev/lib/python3.11/site-packages (from auxiliary->-r requirements.txt (line 2)) (10.0.0)\n",
      "Requirement already satisfied: tifffile>=2023.8.25 in /opt/anaconda3/envs/seg11panoptdev/lib/python3.11/site-packages (from auxiliary->-r requirements.txt (line 2)) (2023.8.30)\n",
      "Requirement already satisfied: markdown-it-py>=2.2.0 in /opt/anaconda3/envs/seg11panoptdev/lib/python3.11/site-packages (from rich->-r requirements.txt (line 3)) (3.0.0)\n",
      "Requirement already satisfied: pygments<3.0.0,>=2.13.0 in /opt/anaconda3/envs/seg11panoptdev/lib/python3.11/site-packages (from rich->-r requirements.txt (line 3)) (2.17.2)\n",
      "Requirement already satisfied: mdurl~=0.1 in /opt/anaconda3/envs/seg11panoptdev/lib/python3.11/site-packages (from markdown-it-py>=2.2.0->rich->-r requirements.txt (line 3)) (0.1.2)\n",
      "Requirement already satisfied: packaging>=17 in /opt/anaconda3/envs/seg11panoptdev/lib/python3.11/site-packages (from nibabel>=3.0->auxiliary->-r requirements.txt (line 2)) (23.1)\n",
      "Requirement already satisfied: ruamel.yaml.clib>=0.2.7 in /opt/anaconda3/envs/seg11panoptdev/lib/python3.11/site-packages (from ruamel.yaml<0.19.0,>=0.18.6->panoptica->-r requirements.txt (line 1)) (0.2.8)\n",
      "Requirement already satisfied: networkx>=2.8 in /opt/anaconda3/envs/seg11panoptdev/lib/python3.11/site-packages (from scikit-image<0.23.0,>=0.22.0->panoptica->-r requirements.txt (line 1)) (3.1)\n",
      "Requirement already satisfied: imageio>=2.27 in /opt/anaconda3/envs/seg11panoptdev/lib/python3.11/site-packages (from scikit-image<0.23.0,>=0.22.0->panoptica->-r requirements.txt (line 1)) (2.31.3)\n",
      "Requirement already satisfied: lazy_loader>=0.3 in /opt/anaconda3/envs/seg11panoptdev/lib/python3.11/site-packages (from scikit-image<0.23.0,>=0.22.0->panoptica->-r requirements.txt (line 1)) (0.3)\n"
     ]
    }
   ],
   "source": [
    "!pip install -r requirements.txt"
   ]
  },
  {
   "cell_type": "markdown",
   "metadata": {},
   "source": [
    "## Setup Imports"
   ]
  },
  {
   "cell_type": "code",
   "execution_count": 8,
   "metadata": {},
   "outputs": [],
   "source": [
    "from auxiliary.nifti.io import read_nifti\n",
    "from rich import print as pprint\n",
    "from panoptica import InputType, Panoptica_Evaluator, ConnectedComponentsInstanceApproximator, NaiveThresholdMatching"
   ]
  },
  {
   "cell_type": "markdown",
   "metadata": {},
   "source": [
    "## Load Data"
   ]
  },
  {
   "cell_type": "markdown",
   "metadata": {},
   "source": [
    "To demonstrate we use a reference and predicition of spine a segmentation without instances.\n",
    "\n",
    "![semantic_figure](figures/semantic.png)"
   ]
  },
  {
   "cell_type": "code",
   "execution_count": 9,
   "metadata": {},
   "outputs": [],
   "source": [
    "ref_masks = read_nifti(\"./spine_seg/semantic/ref.nii.gz\")\n",
    "pred_masks = read_nifti(\"./spine_seg/semantic/pred.nii.gz\")"
   ]
  },
  {
   "cell_type": "markdown",
   "metadata": {},
   "source": [
    "To use your own data please replace the example data with your own data.\n",
    "\n",
    "In ordner to successfully load your data please use NIFTI files  and the following file designation within the \"semantic\" folder: \n",
    "\n",
    "```panoptica/spine_seg/semantic/```\n",
    "\n",
    "- Reference data (\"ref.nii.gz\")\n",
    "- Prediction data (\"pred.nii.gz\")\n"
   ]
  },
  {
   "cell_type": "markdown",
   "metadata": {},
   "source": [
    "## Run Evaluation"
   ]
  },
  {
   "cell_type": "code",
   "execution_count": 10,
   "metadata": {},
   "outputs": [],
   "source": [
    "evaluator = Panoptica_Evaluator(\n",
    "    expected_input=InputType.SEMANTIC,\n",
    "    instance_approximator=ConnectedComponentsInstanceApproximator(),\n",
    "    instance_matcher=NaiveThresholdMatching(),\n",
    ")"
   ]
  },
  {
   "cell_type": "markdown",
   "metadata": {},
   "source": [
    "## Inspect Results\n",
    "The results object allows access to individual metrics and provides helper methods for further processing\n"
   ]
  },
  {
   "cell_type": "code",
   "execution_count": 11,
   "metadata": {},
   "outputs": [
    {
     "data": {
      "text/html": [
       "<pre style=\"white-space:pre;overflow-x:auto;line-height:normal;font-family:Menlo,'DejaVu Sans Mono',consolas,'Courier New',monospace\"><span style=\"color: #00ff00; text-decoration-color: #00ff00\">────────────────────────────────────────── </span>Thank you for using <span style=\"font-weight: bold\">panoptica</span><span style=\"color: #00ff00; text-decoration-color: #00ff00\"> ──────────────────────────────────────────</span>\n",
       "</pre>\n"
      ],
      "text/plain": [
       "\u001b[92m────────────────────────────────────────── \u001b[0mThank you for using \u001b[1mpanoptica\u001b[0m\u001b[92m ──────────────────────────────────────────\u001b[0m\n"
      ]
     },
     "metadata": {},
     "output_type": "display_data"
    },
    {
     "data": {
      "text/html": [
       "<pre style=\"white-space:pre;overflow-x:auto;line-height:normal;font-family:Menlo,'DejaVu Sans Mono',consolas,'Courier New',monospace\">                                     Please support our development by citing                                      \n",
       "</pre>\n"
      ],
      "text/plain": [
       "                                     Please support our development by citing                                      \n"
      ]
     },
     "metadata": {},
     "output_type": "display_data"
    },
    {
     "data": {
      "text/html": [
       "<pre style=\"white-space:pre;overflow-x:auto;line-height:normal;font-family:Menlo,'DejaVu Sans Mono',consolas,'Courier New',monospace\">                          <span style=\"color: #0000ff; text-decoration-color: #0000ff; text-decoration: underline\">https://github.com/BrainLesion/panoptica#citation</span> -- Thank you!                          \n",
       "</pre>\n"
      ],
      "text/plain": [
       "                          \u001b[4;94mhttps://github.com/BrainLesion/panoptica#citation\u001b[0m -- Thank you!                          \n"
      ]
     },
     "metadata": {},
     "output_type": "display_data"
    },
    {
     "data": {
      "text/html": [
       "<pre style=\"white-space:pre;overflow-x:auto;line-height:normal;font-family:Menlo,'DejaVu Sans Mono',consolas,'Courier New',monospace\"><span style=\"color: #00ff00; text-decoration-color: #00ff00\">───────────────────────────────────────────────────────────────────────────────────────────────────────────────────</span>\n",
       "</pre>\n"
      ],
      "text/plain": [
       "\u001b[92m───────────────────────────────────────────────────────────────────────────────────────────────────────────────────\u001b[0m\n"
      ]
     },
     "metadata": {},
     "output_type": "display_data"
    },
    {
     "data": {
      "text/html": [
       "<pre style=\"white-space:pre;overflow-x:auto;line-height:normal;font-family:Menlo,'DejaVu Sans Mono',consolas,'Courier New',monospace\">\n",
       "</pre>\n"
      ],
      "text/plain": [
       "\n"
      ]
     },
     "metadata": {},
     "output_type": "display_data"
    },
    {
     "name": "stdout",
     "output_type": "stream",
     "text": [
      "\n",
      "+++ MATCHING +++\n",
      "Number of instances in reference (num_ref_instances): 87\n",
      "Number of instances in prediction (num_pred_instances): 89\n",
      "True Positives (tp): 73\n",
      "False Positives (fp): 16\n",
      "False Negatives (fn): 14\n",
      "Recognition Quality / F1-Score (rq): 0.8295454545454546\n",
      "\n",
      "+++ GLOBAL +++\n",
      "Global Binary Dice (global_bin_dsc): 0.9731641527805414\n",
      "Global Binary Centerline Dice (global_bin_cldsc): 0.9623567366028574\n",
      "Global Binary Average Symmetric Surface Distance (global_bin_assd): 0.15559863304671395\n",
      "Global Binary Relative Volume Difference (global_bin_rvd): 0.0021710740333888085\n",
      "\n",
      "+++ INSTANCE +++\n",
      "Segmentation Quality IoU (sq): 0.7940127477906024 +- 0.11547745015679488\n",
      "Panoptic Quality IoU (pq): 0.6586696657808406\n",
      "Segmentation Quality Dsc (sq_dsc): 0.8802182546605446 +- 0.07728416427007168\n",
      "Panoptic Quality Dsc (pq_dsc): 0.7301810521615881\n",
      "Segmentation Quality Assd (sq_assd): 0.2057371092494465 +- 0.1398348236766068\n",
      "Segmentation Quality Relative Volume Difference (sq_rvd): 0.011340219860617232 +- 0.1217805112447998\n",
      "\n"
     ]
    }
   ],
   "source": [
    "# print all results\n",
    "result, _ = evaluator.evaluate(pred_masks, ref_masks, verbose=False)[\"ungrouped\"]\n",
    "print(result)"
   ]
  },
  {
   "cell_type": "code",
   "execution_count": 12,
   "metadata": {},
   "outputs": [
    {
     "data": {
      "text/html": [
       "<pre style=\"white-space:pre;overflow-x:auto;line-height:normal;font-family:Menlo,'DejaVu Sans Mono',consolas,'Courier New',monospace\">result.<span style=\"color: #808000; text-decoration-color: #808000\">pq</span>=<span style=\"color: #008080; text-decoration-color: #008080; font-weight: bold\">0.6586696657808406</span>\n",
       "</pre>\n"
      ],
      "text/plain": [
       "result.\u001b[33mpq\u001b[0m=\u001b[1;36m0\u001b[0m\u001b[1;36m.6586696657808406\u001b[0m\n"
      ]
     },
     "metadata": {},
     "output_type": "display_data"
    }
   ],
   "source": [
    "# get specific metric, e.g. pq\n",
    "pprint(f\"{result.pq=}\")"
   ]
  },
  {
   "cell_type": "code",
   "execution_count": 13,
   "metadata": {},
   "outputs": [
    {
     "data": {
      "text/html": [
       "<pre style=\"white-space:pre;overflow-x:auto;line-height:normal;font-family:Menlo,'DejaVu Sans Mono',consolas,'Courier New',monospace\">results dict: \n",
       "<span style=\"font-weight: bold\">{</span>\n",
       "    <span style=\"color: #008000; text-decoration-color: #008000\">'num_ref_instances'</span>: <span style=\"color: #008080; text-decoration-color: #008080; font-weight: bold\">87</span>,\n",
       "    <span style=\"color: #008000; text-decoration-color: #008000\">'num_pred_instances'</span>: <span style=\"color: #008080; text-decoration-color: #008080; font-weight: bold\">89</span>,\n",
       "    <span style=\"color: #008000; text-decoration-color: #008000\">'tp'</span>: <span style=\"color: #008080; text-decoration-color: #008080; font-weight: bold\">73</span>,\n",
       "    <span style=\"color: #008000; text-decoration-color: #008000\">'fp'</span>: <span style=\"color: #008080; text-decoration-color: #008080; font-weight: bold\">16</span>,\n",
       "    <span style=\"color: #008000; text-decoration-color: #008000\">'fn'</span>: <span style=\"color: #008080; text-decoration-color: #008080; font-weight: bold\">14</span>,\n",
       "    <span style=\"color: #008000; text-decoration-color: #008000\">'prec'</span>: <span style=\"color: #008080; text-decoration-color: #008080; font-weight: bold\">0.8202247191011236</span>,\n",
       "    <span style=\"color: #008000; text-decoration-color: #008000\">'rec'</span>: <span style=\"color: #008080; text-decoration-color: #008080; font-weight: bold\">0.8390804597701149</span>,\n",
       "    <span style=\"color: #008000; text-decoration-color: #008000\">'rq'</span>: <span style=\"color: #008080; text-decoration-color: #008080; font-weight: bold\">0.8295454545454546</span>,\n",
       "    <span style=\"color: #008000; text-decoration-color: #008000\">'global_bin_dsc'</span>: <span style=\"color: #008080; text-decoration-color: #008080; font-weight: bold\">0.9731641527805414</span>,\n",
       "    <span style=\"color: #008000; text-decoration-color: #008000\">'global_bin_cldsc'</span>: <span style=\"color: #008080; text-decoration-color: #008080; font-weight: bold\">0.9623567366028574</span>,\n",
       "    <span style=\"color: #008000; text-decoration-color: #008000\">'global_bin_assd'</span>: <span style=\"color: #008080; text-decoration-color: #008080; font-weight: bold\">0.15559863304671395</span>,\n",
       "    <span style=\"color: #008000; text-decoration-color: #008000\">'global_bin_rvd'</span>: <span style=\"color: #008080; text-decoration-color: #008080; font-weight: bold\">0.0021710740333888085</span>,\n",
       "    <span style=\"color: #008000; text-decoration-color: #008000\">'sq'</span>: <span style=\"color: #008080; text-decoration-color: #008080; font-weight: bold\">0.7940127477906024</span>,\n",
       "    <span style=\"color: #008000; text-decoration-color: #008000\">'sq_std'</span>: <span style=\"color: #008080; text-decoration-color: #008080; font-weight: bold\">0.11547745015679488</span>,\n",
       "    <span style=\"color: #008000; text-decoration-color: #008000\">'pq'</span>: <span style=\"color: #008080; text-decoration-color: #008080; font-weight: bold\">0.6586696657808406</span>,\n",
       "    <span style=\"color: #008000; text-decoration-color: #008000\">'sq_dsc'</span>: <span style=\"color: #008080; text-decoration-color: #008080; font-weight: bold\">0.8802182546605446</span>,\n",
       "    <span style=\"color: #008000; text-decoration-color: #008000\">'sq_dsc_std'</span>: <span style=\"color: #008080; text-decoration-color: #008080; font-weight: bold\">0.07728416427007168</span>,\n",
       "    <span style=\"color: #008000; text-decoration-color: #008000\">'pq_dsc'</span>: <span style=\"color: #008080; text-decoration-color: #008080; font-weight: bold\">0.7301810521615881</span>,\n",
       "    <span style=\"color: #008000; text-decoration-color: #008000\">'sq_assd'</span>: <span style=\"color: #008080; text-decoration-color: #008080; font-weight: bold\">0.2057371092494465</span>,\n",
       "    <span style=\"color: #008000; text-decoration-color: #008000\">'sq_assd_std'</span>: <span style=\"color: #008080; text-decoration-color: #008080; font-weight: bold\">0.1398348236766068</span>,\n",
       "    <span style=\"color: #008000; text-decoration-color: #008000\">'sq_rvd'</span>: <span style=\"color: #008080; text-decoration-color: #008080; font-weight: bold\">0.011340219860617232</span>,\n",
       "    <span style=\"color: #008000; text-decoration-color: #008000\">'sq_rvd_std'</span>: <span style=\"color: #008080; text-decoration-color: #008080; font-weight: bold\">0.1217805112447998</span>\n",
       "<span style=\"font-weight: bold\">}</span>\n",
       "</pre>\n"
      ],
      "text/plain": [
       "results dict: \n",
       "\u001b[1m{\u001b[0m\n",
       "    \u001b[32m'num_ref_instances'\u001b[0m: \u001b[1;36m87\u001b[0m,\n",
       "    \u001b[32m'num_pred_instances'\u001b[0m: \u001b[1;36m89\u001b[0m,\n",
       "    \u001b[32m'tp'\u001b[0m: \u001b[1;36m73\u001b[0m,\n",
       "    \u001b[32m'fp'\u001b[0m: \u001b[1;36m16\u001b[0m,\n",
       "    \u001b[32m'fn'\u001b[0m: \u001b[1;36m14\u001b[0m,\n",
       "    \u001b[32m'prec'\u001b[0m: \u001b[1;36m0.8202247191011236\u001b[0m,\n",
       "    \u001b[32m'rec'\u001b[0m: \u001b[1;36m0.8390804597701149\u001b[0m,\n",
       "    \u001b[32m'rq'\u001b[0m: \u001b[1;36m0.8295454545454546\u001b[0m,\n",
       "    \u001b[32m'global_bin_dsc'\u001b[0m: \u001b[1;36m0.9731641527805414\u001b[0m,\n",
       "    \u001b[32m'global_bin_cldsc'\u001b[0m: \u001b[1;36m0.9623567366028574\u001b[0m,\n",
       "    \u001b[32m'global_bin_assd'\u001b[0m: \u001b[1;36m0.15559863304671395\u001b[0m,\n",
       "    \u001b[32m'global_bin_rvd'\u001b[0m: \u001b[1;36m0.0021710740333888085\u001b[0m,\n",
       "    \u001b[32m'sq'\u001b[0m: \u001b[1;36m0.7940127477906024\u001b[0m,\n",
       "    \u001b[32m'sq_std'\u001b[0m: \u001b[1;36m0.11547745015679488\u001b[0m,\n",
       "    \u001b[32m'pq'\u001b[0m: \u001b[1;36m0.6586696657808406\u001b[0m,\n",
       "    \u001b[32m'sq_dsc'\u001b[0m: \u001b[1;36m0.8802182546605446\u001b[0m,\n",
       "    \u001b[32m'sq_dsc_std'\u001b[0m: \u001b[1;36m0.07728416427007168\u001b[0m,\n",
       "    \u001b[32m'pq_dsc'\u001b[0m: \u001b[1;36m0.7301810521615881\u001b[0m,\n",
       "    \u001b[32m'sq_assd'\u001b[0m: \u001b[1;36m0.2057371092494465\u001b[0m,\n",
       "    \u001b[32m'sq_assd_std'\u001b[0m: \u001b[1;36m0.1398348236766068\u001b[0m,\n",
       "    \u001b[32m'sq_rvd'\u001b[0m: \u001b[1;36m0.011340219860617232\u001b[0m,\n",
       "    \u001b[32m'sq_rvd_std'\u001b[0m: \u001b[1;36m0.1217805112447998\u001b[0m\n",
       "\u001b[1m}\u001b[0m\n"
      ]
     },
     "metadata": {},
     "output_type": "display_data"
    }
   ],
   "source": [
    "# get dict for further processing, e.g. for pandas\n",
    "pprint(\"results dict: \", result.to_dict())"
   ]
  }
 ],
 "metadata": {
  "kernelspec": {
   "display_name": "Python 3 (ipykernel)",
   "language": "python",
   "name": "python3"
  },
  "language_info": {
   "codemirror_mode": {
    "name": "ipython",
    "version": 3
   },
   "file_extension": ".py",
   "mimetype": "text/x-python",
   "name": "python",
   "nbconvert_exporter": "python",
   "pygments_lexer": "ipython3",
   "version": "3.11.6"
  }
 },
 "nbformat": 4,
 "nbformat_minor": 2
}
