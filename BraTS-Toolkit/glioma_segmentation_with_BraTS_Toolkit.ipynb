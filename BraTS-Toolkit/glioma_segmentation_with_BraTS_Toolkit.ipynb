{
 "cells": [
  {
   "cell_type": "markdown",
   "metadata": {},
   "source": [
    "# Warning\n",
    "\n",
    "This tutorial is a work in progress, it does not cover all the functionalities yet. However, it will give you a good overview how you can generate tumor segmentations with BraTS Toolkit.\n"
   ]
  },
  {
   "cell_type": "markdown",
   "metadata": {},
   "source": [
    "# Glioma segmentation with BraTS Toolkit\n",
    "\n",
    "In this Notebook, we will demonstrate how to preprocess brain MR images with the [BrainLes preprocessing package](https://github.com/BrainLesion/preprocessing/tree/main/brainles_preprocessing). Following we will generate glioma segmentations with multiple algorithms from [BraTS Toolkit](https://github.com/neuronflow/BraTS-Toolkit) and fuse them together.\n",
    "\n",
    "![Pipeline Overview](Pipeline_overview.jpg)\n",
    "\n",
    "---   \n",
    "### Agenda: \n",
    "\n",
    "1. Getting started (requirements, installations)\n",
    "  \n",
    "         \n",
    "2. **Import** of raw data (cMRI)\n",
    "    \n",
    "        \n",
    "3. **Preprocessing via BrainLes preprocessig package** instead of vanilla preprocessing pipeline from BraTS Toolkit. BraTS challenge algorithms expect preprocessed files (co-registered, skullstripped in SRI-24 space)\n",
    "     \n",
    "          \n",
    "4. **Segmentation with BraTS Toolkit** \n",
    "      \n",
    "            \n",
    "5. **Fusion** of generated segementations \n",
    "\n"
   ]
  },
  {
   "cell_type": "markdown",
   "metadata": {},
   "source": [
    "## 1. Getting Started\n",
    "\n",
    "### Requirements\n",
    "\n",
    "This tutorial requires:\n",
    "\n",
    "- Python 3.10+ environment\n",
    "- Docker (we recommended the most recent version)\n",
    "<!-- TODO specify version -->\n",
    "\n",
    "optional (but recommended):\n",
    "\n",
    "- CUDA drivers\n",
    "- a GPU that is supported (each algorithms supports different set of GPUs)\n",
    "<!-- TODO specify -->\n",
    "\n",
    "Run the subsequent cell to check CUDA availability, your python and docker version.  "
   ]
  },
  {
   "cell_type": "code",
   "execution_count": 1,
   "metadata": {},
   "outputs": [
    {
     "name": "stdout",
     "output_type": "stream",
     "text": [
      "Python 3.10.12 (main, Nov 20 2023, 15:14:05) [GCC 11.4.0]\n",
      "CUDA is available with 1 device(s): NVIDIA GeForce GTX 1660 SUPER\n",
      "Docker version 24.0.5, build 24.0.5-0ubuntu1~22.04.1\n"
     ]
    }
   ],
   "source": [
    "# Your python version (in this notebook) is:\n",
    "import sys\n",
    "\n",
    "print(f\"Python {sys.version}\")\n",
    "\n",
    "# Check if CUDA is available\n",
    "import torch\n",
    "\n",
    "if torch.cuda.is_available():\n",
    "    # Get the number of available CUDA devices\n",
    "    num_cuda_devices = torch.cuda.device_count()\n",
    "    print(\n",
    "        f\"CUDA is available with {num_cuda_devices} device(s): {torch.cuda.get_device_name()}\"\n",
    "    )\n",
    "else:\n",
    "    print(\"CUDA is not available on this system.\")\n",
    "\n",
    "\n",
    "# Print docker version\n",
    "import subprocess\n",
    "\n",
    "try:\n",
    "    result = subprocess.run([\"docker\", \"--version\"])\n",
    "except FileNotFoundError as e:\n",
    "    print(\n",
    "        \"'docker' seems not to be installed. For installation guide see https://docs.docker.com/get-docker/\"\n",
    "    )"
   ]
  },
  {
   "cell_type": "markdown",
   "metadata": {},
   "source": [
    "## Installation of dependencies\n"
   ]
  },
  {
   "cell_type": "code",
   "execution_count": 2,
   "metadata": {},
   "outputs": [
    {
     "name": "stdout",
     "output_type": "stream",
     "text": [
      "Note: you may need to restart the kernel to use updated packages.\n",
      "Note: you may need to restart the kernel to use updated packages.\n"
     ]
    }
   ],
   "source": [
    "%pip install -U brainles_preprocessing brats_toolkit auxiliary > /dev/null\n",
    "%pip install -U matplotlib > /dev/null\n",
    "\n",
    "%load_ext autoreload\n",
    "%autoreload 2\n",
    "\n",
    "# package installation may take a while"
   ]
  },
  {
   "cell_type": "markdown",
   "metadata": {},
   "source": [
    "## Setup Colab environment (optional)\n",
    "\n",
    "If you installed the packages and requirements on your own machine, you can skip this section and start from the import section. Otherwise you can follow and execute the tutorial on your browser. In order to start working on the notebook, click on the following button, this will open this page in the Colab environment and you will be able to execute the code on your own (*Google account required*).\n",
    "\n",
    "<a target=\"_blank\" href=\"https://colab.research.google.com/github/BrainLesion/tutorials/blob/main/BraTS-Toolkit/glioma_segmentation_with_BraTS_Toolkit.ipynb\">\n",
    "  <img src=\"https://colab.research.google.com/assets/colab-badge.svg\" alt=\"Open In Colab\"/>\n",
    "</a>\n",
    "\n",
    "Now that you are visualizing the notebook in Colab, run the next cell to install the packages we will use. There are few things you should follow in order to properly set the notebook up:\n",
    "\n",
    "- Warning: This notebook was not authored by Google. Click on 'Run anyway'.\n",
    "- When the installation commands are done, there might be \"Restart runtime\" button at the end of the output. Please, click it.\n"
   ]
  },
  {
   "cell_type": "markdown",
   "metadata": {},
   "source": [
    "If you run the next cell in a Google Colab environment, it will **clone the 'tutorials' repository** in your google drive. This will create a **new folder** called \"tutorials\" in **your Google Drive**.\n",
    "All generated file will be created/uploaded to your Google Drive respectively.\n",
    "\n",
    "After the first execution of the next cell, you might receive some warnings and notifications, please follow these instructions:\n",
    "   - 'Permit this notebook to access your Google Drive files?' Click on 'Yes', and select your account.\n",
    "   - Google Drive for desktop wants to access your Google Account. Click on 'Allow'.\n",
    "\n",
    "This will create the \"tutorials\" folder. You can navigate it through the lefthand panel in Colab. You might also have received an email that informs you about the access on your Google Drive."
   ]
  },
  {
   "cell_type": "code",
   "execution_count": 3,
   "metadata": {},
   "outputs": [],
   "source": [
    "import sys\n",
    "\n",
    "# Check if we are in google colab currently\n",
    "try:\n",
    "    import google.colab\n",
    "\n",
    "    colabFlag = True\n",
    "except ImportError as r:\n",
    "    colabFlag = False\n",
    "\n",
    "# Execute certain steps only if we are in a colab environment\n",
    "if colabFlag:\n",
    "    # Create a folder in your Google Drive\n",
    "    from google.colab import drive\n",
    "\n",
    "    drive.mount(\"/content/drive\")\n",
    "    # clone repository and set path\n",
    "    !git clone https://github.com/BrainLesion/tutorials.git /content/drive/MyDrive/tutorials\n",
    "    BASE_PATH = \"/content/drive/MyDrive/tutorials/BraTS-Toolkit/\"\n",
    "    sys.path.insert(0, BASE_PATH)\n",
    "\n",
    "else:  # normal jupyter notebook environment\n",
    "    BASE_PATH = \"./\"  # current working directory would be BraTs-Toolkit anyways if you are not in colab"
   ]
  },
  {
   "cell_type": "markdown",
   "metadata": {},
   "source": [
    "## 2. Import raw input data\n",
    "\n",
    "Raw imput data require\n",
    "- exam with skull and 4 sequences (T1, T1c, T2, T2-FLAIR), only one file each (in total 4 files) \n",
    "    - file names must end with \"*t1.nii.gz\", \"*t1c.nii.gz\", \"*t2.nii.gz\" and \"*fla.nii.gz\"\n",
    "    - [Nifti \".nii.gz\"](https://brainder.org/2012/09/23/the-nifti-file-format/) file type \n",
    "- each exam (4 files) needs to be places in an individual folder within the data folder \n",
    "```<this repository>/BraTS-Toolkit/data/```. \n",
    "\n",
    "The structure is shown using two example exams:\n",
    "```\n",
    "BraTS-Toolkit\n",
    "├── data\n",
    "│   ├── TCGA-DU-7294\n",
    "│   │   ├── *_t1c.nii.gz\n",
    "│   │   ├── *_t1.nii.gz\n",
    "│   │   ├── *_t2.nii.gz\n",
    "│   │   ├── *_fla.nii.gz\n",
    "│   ├── OtherEXampleFromTCIA\n",
    "│   │   ├── *_t1c.nii.gz\n",
    "│   │   ├── *_t1.nii.gz\n",
    "│   │   ├── *_t2.nii.gz\n",
    "│   │   ├── *_fla.nii.gz\n",
    "```\n"
   ]
  },
  {
   "cell_type": "markdown",
   "metadata": {},
   "source": [
    "### Example Data\n",
    "Two examples of cMRI from TCIA/TCGA with T1, T1c, T2, T2-FLAIR with skull are provided.\n",
    "\n",
    "Run the subsequent cell for visualizing one example sample.\n",
    " "
   ]
  },
  {
   "cell_type": "code",
   "execution_count": 4,
   "metadata": {
    "scrolled": false
   },
   "outputs": [
    {
     "name": "stderr",
     "output_type": "stream",
     "text": [
      "/home/eva/.local/lib/python3.10/site-packages/matplotlib/projections/__init__.py:63: UserWarning: Unable to import Axes3D. This may be due to multiple versions of Matplotlib being installed (e.g. as a system package and as a pip package). As a result, the 3D projection is not available.\n",
      "  warnings.warn(\"Unable to import Axes3D. This may be due to multiple versions of \"\n"
     ]
    },
    {
     "data": {
      "image/png": "[encoded data removed]",
      "text/plain": [
       "<Figure size 864x720 with 4 Axes>"
      ]
     },
     "metadata": {
      "needs_background": "light"
     },
     "output_type": "display_data"
    }
   ],
   "source": [
    "from utils import visualize_data, visualize_data2\n",
    "from pathlib import Path\n",
    "\n",
    "# paths to example files\n",
    "t1c_path = Path(\n",
    "    f\"{BASE_PATH}/data/OtherEXampleFromTCIA/MRHR_T1_AX_POST_GAD_OtherEXampleTCIA_TCGA-FG-6692_Si_TCGA-FG-6692_MRHR_T1_AX_POST_GAD_SE_13_se2d1r_t1c.nii.gz\"\n",
    ")\n",
    "t1_path = Path(\n",
    "    f\"{BASE_PATH}/data/OtherEXampleFromTCIA/T1_AX_OtherEXampleTCIA_TCGA-FG-6692_Si_TCGA-FG-6692_T1_AX_SE_10_se2d1_t1.nii.gz\"\n",
    ")\n",
    "t2_path = Path(\n",
    "    f\"{BASE_PATH}/data/OtherEXampleFromTCIA/MRHR_T2_AX_OtherEXampleTCIA_TCGA-FG-6692_Si_TCGA-FG-6692_MRHR_T2_AX_SE_2_tse2d1_11_t2.nii.gz\"\n",
    ")\n",
    "flair_path = Path(\n",
    "    f\"{BASE_PATH}/data/OtherEXampleFromTCIA/MRHR_FLAIR_AX_OtherEXampleTCIA_TCGA-FG-6692_Si_TCGA-FG-6692_MRHR_FLAIR_AX_SE_IR_5_tir2d1_21_fla.nii.gz\"\n",
    ")\n",
    "\n",
    "# visualize example images\n",
    "visualize_data2(t1c_path, t1_path, t2_path, flair_path, height_p=0.75)"
   ]
  },
  {
   "cell_type": "markdown",
   "metadata": {},
   "source": [
    "## 3. Preprocessing\n",
    "\n",
    "BraTS challenge algorithms expect co-registered, skullstripped files in SRI-24 space, to achieve this preprocessing is required.\n",
    "Instead of using the vanilla preprocessing pipeline from BraTS Toolkit, we recommend using the new [BrainLes preprocessing package](https://github.com/BrainLesion/preprocessing/tree/main/brainles_preprocessing).\n"
   ]
  },
  {
   "cell_type": "markdown",
   "metadata": {},
   "source": [
    "#### First, we define a function that processes an exam."
   ]
  },
  {
   "cell_type": "code",
   "execution_count": 5,
   "metadata": {},
   "outputs": [
    {
     "name": "stderr",
     "output_type": "stream",
     "text": [
      "/home/eva/.local/lib/python3.10/site-packages/brainles_preprocessing/registration/__init__.py:6: UserWarning: ANTS package not found. If you want to use it, please install it using 'pip install brainles_preprocessing[ants]'\n",
      "  warnings.warn(\n"
     ]
    }
   ],
   "source": [
    "from auxiliary.normalization.percentile_normalizer import PercentileNormalizer\n",
    "from auxiliary.turbopath import turbopath\n",
    "from tqdm import tqdm\n",
    "\n",
    "from brainles_preprocessing.brain_extraction import HDBetExtractor\n",
    "from brainles_preprocessing.modality import Modality\n",
    "from brainles_preprocessing.preprocessor import Preprocessor\n",
    "\n",
    "# from brainles_preprocessing.registration import NiftyRegRegistrator  # works only on linux\n",
    "from brainles_preprocessing.registration import ANTsRegistrator  # for windows\n",
    "\n",
    "\n",
    "def preprocess_exam_in_brats_style(inputDir: str) -> None:\n",
    "    \"\"\"\n",
    "    Perform BRATS (Brain Tumor Segmentation) style preprocessing on MRI exam data.\n",
    "\n",
    "    Args:\n",
    "        inputDir (str): Path to the directory containing raw MRI files for an exam.\n",
    "        File names must end with \"t1.nii.gz\", \"t1c.nii.gz\" \"t2.nii.gz\" or \"fla.nii.gz\" to be found!\n",
    "\n",
    "    Raises:\n",
    "        Exception: If any error occurs during the preprocessing.\n",
    "\n",
    "    Example:\n",
    "        brat_style_preprocess_exam(\"/path/to/exam_directory\")\n",
    "\n",
    "    This function preprocesses MRI exam data following the BRATS style, which includes the following steps:\n",
    "    1. Normalization using a percentile normalizer.\n",
    "    2. Registration and correction using NiftyReg.\n",
    "    3. Brain extraction using HDBet.\n",
    "\n",
    "    The processed data is saved in a structured directory within the input directory.\n",
    "\n",
    "    Args:\n",
    "        inputDir (str): Path to the directory containing raw MRI files for an exam.\n",
    "\n",
    "    Returns:\n",
    "        None\n",
    "    \"\"\"\n",
    "    inputDir = turbopath(inputDir)\n",
    "    print(\"*** start ***\")\n",
    "    brainles_dir = turbopath(inputDir) + \"/\" + inputDir.name + \"_brainles\"\n",
    "    norm_bet_dir = brainles_dir / \"normalized_bet\"\n",
    "    raw_bet_dir = brainles_dir / \"raw_bet\"\n",
    "\n",
    "    t1_file = inputDir.files(\"*t1.nii.gz\")\n",
    "    t1c_file = inputDir.files(\"*t1c.nii.gz\")\n",
    "    t2_file = inputDir.files(\"*t2.nii.gz\")\n",
    "    flair_file = inputDir.files(\"*fla.nii.gz\")\n",
    "\n",
    "    # we check that we have only one file of each type\n",
    "    if len(t1_file) == len(t1c_file) == len(t2_file) == len(flair_file) == 1:\n",
    "        t1File = t1_file[0]\n",
    "        t1cFile = t1c_file[0]\n",
    "        t2File = t2_file[0]\n",
    "        flaFile = flair_file[0]\n",
    "\n",
    "        # normalizer\n",
    "        percentile_normalizer = PercentileNormalizer(\n",
    "            lower_percentile=0.1,\n",
    "            upper_percentile=99.9,\n",
    "            lower_limit=0,\n",
    "            upper_limit=1,\n",
    "        )\n",
    "        # define modalities\n",
    "        center = Modality(\n",
    "            modality_name=\"t1c\",\n",
    "            input_path=t1cFile,\n",
    "            raw_bet_output_path=raw_bet_dir / inputDir.name + \"_t1c_bet.nii.gz\",\n",
    "            atlas_correction=True,\n",
    "            normalizer=percentile_normalizer,\n",
    "        )\n",
    "        moving_modalities = [\n",
    "            Modality(\n",
    "                modality_name=\"t1\",\n",
    "                input_path=t1File,\n",
    "                raw_bet_output_path=raw_bet_dir / inputDir.name + \"_t1_bet.nii.gz\",\n",
    "                atlas_correction=True,\n",
    "                normalizer=percentile_normalizer,\n",
    "            ),\n",
    "            Modality(\n",
    "                modality_name=\"t2\",\n",
    "                input_path=t2File,\n",
    "                raw_bet_output_path=raw_bet_dir / inputDir.name + \"_t2_bet.nii.gz\",\n",
    "                atlas_correction=True,\n",
    "                normalizer=percentile_normalizer,\n",
    "            ),\n",
    "            Modality(\n",
    "                modality_name=\"flair\",\n",
    "                input_path=flaFile,\n",
    "                raw_bet_output_path=raw_bet_dir / inputDir.name + \"_fla_bet.nii.gz\",\n",
    "                atlas_correction=True,\n",
    "                normalizer=percentile_normalizer,\n",
    "            ),\n",
    "        ]\n",
    "        preprocessor = Preprocessor(\n",
    "            center_modality=center,\n",
    "            moving_modalities=moving_modalities,\n",
    "            registrator=ANTsRegistrator(),  # ANTS registration backend\n",
    "            # registrator=NiftyRegRegistrator(),  # in case you want to use niftyreg (Linux only)\n",
    "            brain_extractor=HDBetExtractor(),\n",
    "            temp_folder=\"temporary_directory\",\n",
    "            limit_cuda_visible_devices=\"0\",\n",
    "        )\n",
    "        preprocessor.run()"
   ]
  },
  {
   "cell_type": "markdown",
   "metadata": {},
   "source": [
    "#### Now we loop through the exams to preprocess the data:\n",
    "(This may take more than 10 minutes)"
   ]
  },
  {
   "cell_type": "code",
   "execution_count": 6,
   "metadata": {
    "scrolled": true
   },
   "outputs": [
    {
     "name": "stderr",
     "output_type": "stream",
     "text": [
      "\r\n",
      "  0%|                                                                                                                            | 0/2 [00:00<?, ?it/s]"
     ]
    },
    {
     "name": "stdout",
     "output_type": "stream",
     "text": [
      "processing: /home/eva/Schreibtisch/GitHub_repos/tutorials_branch/BraTS-Toolkit/data/TCGA-DU-7294\n",
      "*** start ***\n",
      "File: /home/eva/Schreibtisch/GitHub_repos/tutorials_branch/BraTS-Toolkit/temporary_directory/atlas-space/atlas__t1c.nii.gz\n",
      "preprocessing...\n",
      "image shape after preprocessing:  (103, 160, 160)\n",
      "prediction (CNN id)...\n",
      "0\n",
      "1\n",
      "2\n",
      "3\n",
      "4\n",
      "exporting segmentation...\n"
     ]
    },
    {
     "name": "stderr",
     "output_type": "stream",
     "text": [
      "\r\n",
      " 50%|█████████████████████████████████████████████████████████▌                                                         | 1/2 [06:20<06:20, 380.56s/it]"
     ]
    },
    {
     "name": "stdout",
     "output_type": "stream",
     "text": [
      "processing: /home/eva/Schreibtisch/GitHub_repos/tutorials_branch/BraTS-Toolkit/data/OtherEXampleFromTCIA\n",
      "*** start ***\n",
      "File: /home/eva/Schreibtisch/GitHub_repos/tutorials_branch/BraTS-Toolkit/temporary_directory/atlas-space/atlas__t1c.nii.gz\n",
      "preprocessing...\n",
      "image shape after preprocessing:  (103, 160, 160)\n",
      "prediction (CNN id)...\n",
      "0\n",
      "1\n",
      "2\n",
      "3\n",
      "4\n",
      "exporting segmentation...\n"
     ]
    },
    {
     "name": "stderr",
     "output_type": "stream",
     "text": [
      "100%|███████████████████████████████████████████████████████████████████████████████████████████████████████████████████| 2/2 [10:11<00:00, 305.98s/it]\n"
     ]
    }
   ],
   "source": [
    "EXAMPLE_DATA_DIR = turbopath(f\"{BASE_PATH}/data\")\n",
    "\n",
    "exams = EXAMPLE_DATA_DIR.dirs()\n",
    "\n",
    "for exam in tqdm(exams):\n",
    "    print(\"processing:\", exam)\n",
    "    preprocess_exam_in_brats_style(exam)"
   ]
  },
  {
   "cell_type": "markdown",
   "metadata": {},
   "source": [
    "#### Storage of preprocessed data \n",
    "\n",
    "The preprocessed data is saved in a newly created folder \"raw_bet\": \n",
    "\n",
    "```data/<datasetName>/<datasetName>_brainles/raw_bet```\n",
    "\n",
    "Run the subsequent cell for visualizing one preprocessed example sample."
   ]
  },
  {
   "cell_type": "code",
   "execution_count": 7,
   "metadata": {
    "scrolled": true
   },
   "outputs": [
    {
     "data": {
      "image/png": "[encoded data removed]",
      "text/plain": [
       "<Figure size 864x720 with 4 Axes>"
      ]
     },
     "metadata": {
      "needs_background": "light"
     },
     "output_type": "display_data"
    }
   ],
   "source": [
    "from utils import visualize_data2\n",
    "from pathlib import Path\n",
    "\n",
    "# paths to example files\n",
    "t1c_path = Path(\n",
    "    f\"{BASE_PATH}/data/OtherEXampleFromTCIA/OtherEXampleFromTCIA_brainles/raw_bet/OtherEXampleFromTCIA_t1c_bet.nii.gz\"\n",
    ")\n",
    "t1_path = Path(\n",
    "    f\"{BASE_PATH}/data/OtherEXampleFromTCIA/OtherEXampleFromTCIA_brainles/raw_bet/OtherEXampleFromTCIA_t1_bet.nii.gz\"\n",
    ")\n",
    "t2_path = Path(\n",
    "    f\"{BASE_PATH}/data/OtherEXampleFromTCIA/OtherEXampleFromTCIA_brainles/raw_bet/OtherEXampleFromTCIA_t2_bet.nii.gz\"\n",
    ")\n",
    "flair_path = Path(\n",
    "    f\"{BASE_PATH}/data/OtherEXampleFromTCIA/OtherEXampleFromTCIA_brainles/raw_bet/OtherEXampleFromTCIA_fla_bet.nii.gz\"\n",
    ")\n",
    "# visualize example images\n",
    "visualize_data2(t1c_path, t1_path, t2_path, flair_path, height_p=0.60)"
   ]
  },
  {
   "cell_type": "markdown",
   "metadata": {},
   "source": [
    "---"
   ]
  },
  {
   "cell_type": "markdown",
   "metadata": {},
   "source": [
    "## 4. Segmentation with BraTS Toolkit\n",
    "\n",
    "Now that we have preprocessed the data, we can start segmenting the data with BraTS Toolkit.\n",
    "\n",
    "#### Therefore, we again define a function to segment our files:"
   ]
  },
  {
   "cell_type": "code",
   "execution_count": 8,
   "metadata": {},
   "outputs": [],
   "source": [
    "from brats_toolkit.segmentor import Segmentor\n",
    "import os\n",
    "from auxiliary.turbopath import turbopath\n",
    "from tqdm import tqdm\n",
    "\n",
    "\n",
    "def segment_exam(\n",
    "    t1_file: str,\n",
    "    t1c_file: str,\n",
    "    t2_file: str,\n",
    "    fla_file: str,\n",
    "    segmentation_file: str,\n",
    "    cid: str,\n",
    "    cuda_device=\"0\",\n",
    ") -> None:\n",
    "    \"\"\"\n",
    "    segment_exam - Segments MRI images using a specified algorithm from the BRATS toolkit.\n",
    "\n",
    "    Parameters:\n",
    "        t1_file (str): Path to the T1-weighted MRI image file.\n",
    "        t1c_file (str): Path to the T1-weighted contrast-enhanced MRI image file.\n",
    "        t2_file (str): Path to the T2-weighted MRI image file.\n",
    "        fla_file (str): Path to the Fluid-attenuated inversion recovery (FLAIR) MRI image file.\n",
    "        segmentation_file (str): Path to the output file where the segmented image will be saved.\n",
    "        cid (str): Algorithm identifier for segmentation.\n",
    "        cuda_device (str, optional): CUDA device ID for GPU acceleration. Default is \"0\".\n",
    "\n",
    "    Returns:\n",
    "        None\n",
    "\n",
    "    Example:\n",
    "        segment_exam(\n",
    "            t1_file='/path/to/t1.nii.gz',\n",
    "            t1c_file='/path/to/t1c.nii.gz',\n",
    "            t2_file='/path/to/t2.nii.gz',\n",
    "            fla_file='/path/to/fla.nii.gz',\n",
    "            segmentation_file='/path/to/segmentation_result.nii.gz',\n",
    "            cid=\"mic-dkfz\"\n",
    "        )\n",
    "\n",
    "    This function segments MRI images using the specified algorithm from the BRATS toolkit. It accepts paths to T1-weighted,\n",
    "    T1-weighted contrast-enhanced, T2-weighted, and FLAIR MRI images, and performs segmentation using the specified algorithm.\n",
    "    The segmented image is saved in the specified output file.\n",
    "\n",
    "    Note:\n",
    "        - The function uses the BRATS toolkit's Segmentor for segmentation.\n",
    "        - The 'cid' parameter specifies the algorithm to use.\n",
    "        - Segmentation results are saved with a file name corresponding to the algorithm identifier (cid).\n",
    "        - Errors during segmentation are caught, and an error message is printed.\n",
    "    \"\"\"\n",
    "\n",
    "    # instantiate\n",
    "    seg = Segmentor(\n",
    "        verbose=True,\n",
    "        gpu=cuda_device,\n",
    "    )\n",
    "\n",
    "    # algorithms we want to select for segmentation\n",
    "\n",
    "    # execute it\n",
    "    if not os.path.exists(segmentation_file):\n",
    "        seg.segment(\n",
    "            t1=t1_file,\n",
    "            t2=t2_file,\n",
    "            t1c=t1c_file,\n",
    "            fla=fla_file,\n",
    "            cid=cid,\n",
    "            outputPath=segmentation_file,\n",
    "        )\n",
    "    else:\n",
    "        print(segmentation_file, \"already exists\")"
   ]
  },
  {
   "cell_type": "markdown",
   "metadata": {},
   "source": [
    "#### Now we again loop through our exams:\n"
   ]
  },
  {
   "cell_type": "code",
   "execution_count": 9,
   "metadata": {
    "scrolled": true
   },
   "outputs": [
    {
     "name": "stderr",
     "output_type": "stream",
     "text": [
      "Exams:   0%|                                                                                                                     | 0/2 [00:00<?, ?it/s]\n",
      "Algorithms:   0%|                                                                                                                | 0/5 [00:00<?, ?it/s]\u001b[A"
     ]
    },
    {
     "name": "stdout",
     "output_type": "stream",
     "text": [
      "segmenting: /home/eva/Schreibtisch/GitHub_repos/tutorials_branch/BraTS-Toolkit/data/TCGA-DU-7294 with algorithm: isen-20\n"
     ]
    },
    {
     "data": {
      "text/html": [
       "<pre style=\"white-space:pre;overflow-x:auto;line-height:normal;font-family:Menlo,'DejaVu Sans Mono',consolas,'Courier New',monospace\"><span style=\"color: #00ff00; text-decoration-color: #00ff00\">──────────────────────────────────────── </span>Thank you for using <span style=\"font-weight: bold\">BraTS Toolkit</span><span style=\"color: #00ff00; text-decoration-color: #00ff00\"> ────────────────────────────────────────</span>\n",
       "</pre>\n"
      ],
      "text/plain": [
       "\u001b[92m──────────────────────────────────────── \u001b[0mThank you for using \u001b[1mBraTS Toolkit\u001b[0m\u001b[92m ────────────────────────────────────────\u001b[0m\n"
      ]
     },
     "metadata": {},
     "output_type": "display_data"
    },
    {
     "data": {
      "text/html": [
       "<pre style=\"white-space:pre;overflow-x:auto;line-height:normal;font-family:Menlo,'DejaVu Sans Mono',consolas,'Courier New',monospace\">   Please support our development by citing BraTS Toolkit and the papers of the segmentation algorithms you use:   \n",
       "</pre>\n"
      ],
      "text/plain": [
       "   Please support our development by citing BraTS Toolkit and the papers of the segmentation algorithms you use:   \n"
      ]
     },
     "metadata": {},
     "output_type": "display_data"
    },
    {
     "data": {
      "text/html": [
       "<pre style=\"white-space:pre;overflow-x:auto;line-height:normal;font-family:Menlo,'DejaVu Sans Mono',consolas,'Courier New',monospace\">                        <span style=\"color: #0000ff; text-decoration-color: #0000ff; text-decoration: underline\">https://github.com/neuronflow/BraTS-Toolkit#citation</span> -- Thank you!                         \n",
       "</pre>\n"
      ],
      "text/plain": [
       "                        \u001b[4;94mhttps://github.com/neuronflow/BraTS-Toolkit#citation\u001b[0m -- Thank you!                         \n"
      ]
     },
     "metadata": {},
     "output_type": "display_data"
    },
    {
     "data": {
      "text/html": [
       "<pre style=\"white-space:pre;overflow-x:auto;line-height:normal;font-family:Menlo,'DejaVu Sans Mono',consolas,'Courier New',monospace\"><span style=\"color: #00ff00; text-decoration-color: #00ff00\">───────────────────────────────────────────────────────────────────────────────────────────────────────────────────</span>\n",
       "</pre>\n"
      ],
      "text/plain": [
       "\u001b[92m───────────────────────────────────────────────────────────────────────────────────────────────────────────────────\u001b[0m\n"
      ]
     },
     "metadata": {},
     "output_type": "display_data"
    },
    {
     "data": {
      "text/html": [
       "<pre style=\"white-space:pre;overflow-x:auto;line-height:normal;font-family:Menlo,'DejaVu Sans Mono',consolas,'Courier New',monospace\">\n",
       "</pre>\n"
      ],
      "text/plain": [
       "\n"
      ]
     },
     "metadata": {},
     "output_type": "display_data"
    },
    {
     "name": "stdout",
     "output_type": "stream",
     "text": [
      "/home/eva/Schreibtisch/GitHub_repos/tutorials_branch/BraTS-Toolkit/data/TCGA-DU-7294/TCGA-DU-7294_brainles/segmentation/isen-20.nii.gz already exists\n",
      "segmenting: /home/eva/Schreibtisch/GitHub_repos/tutorials_branch/BraTS-Toolkit/data/TCGA-DU-7294 with algorithm: hnfnetv1-20\n"
     ]
    },
    {
     "data": {
      "text/html": [
       "<pre style=\"white-space:pre;overflow-x:auto;line-height:normal;font-family:Menlo,'DejaVu Sans Mono',consolas,'Courier New',monospace\"><span style=\"color: #00ff00; text-decoration-color: #00ff00\">──────────────────────────────────────── </span>Thank you for using <span style=\"font-weight: bold\">BraTS Toolkit</span><span style=\"color: #00ff00; text-decoration-color: #00ff00\"> ────────────────────────────────────────</span>\n",
       "</pre>\n"
      ],
      "text/plain": [
       "\u001b[92m──────────────────────────────────────── \u001b[0mThank you for using \u001b[1mBraTS Toolkit\u001b[0m\u001b[92m ────────────────────────────────────────\u001b[0m\n"
      ]
     },
     "metadata": {},
     "output_type": "display_data"
    },
    {
     "data": {
      "text/html": [
       "<pre style=\"white-space:pre;overflow-x:auto;line-height:normal;font-family:Menlo,'DejaVu Sans Mono',consolas,'Courier New',monospace\">   Please support our development by citing BraTS Toolkit and the papers of the segmentation algorithms you use:   \n",
       "</pre>\n"
      ],
      "text/plain": [
       "   Please support our development by citing BraTS Toolkit and the papers of the segmentation algorithms you use:   \n"
      ]
     },
     "metadata": {},
     "output_type": "display_data"
    },
    {
     "data": {
      "text/html": [
       "<pre style=\"white-space:pre;overflow-x:auto;line-height:normal;font-family:Menlo,'DejaVu Sans Mono',consolas,'Courier New',monospace\">                        <span style=\"color: #0000ff; text-decoration-color: #0000ff; text-decoration: underline\">https://github.com/neuronflow/BraTS-Toolkit#citation</span> -- Thank you!                         \n",
       "</pre>\n"
      ],
      "text/plain": [
       "                        \u001b[4;94mhttps://github.com/neuronflow/BraTS-Toolkit#citation\u001b[0m -- Thank you!                         \n"
      ]
     },
     "metadata": {},
     "output_type": "display_data"
    },
    {
     "data": {
      "text/html": [
       "<pre style=\"white-space:pre;overflow-x:auto;line-height:normal;font-family:Menlo,'DejaVu Sans Mono',consolas,'Courier New',monospace\"><span style=\"color: #00ff00; text-decoration-color: #00ff00\">───────────────────────────────────────────────────────────────────────────────────────────────────────────────────</span>\n",
       "</pre>\n"
      ],
      "text/plain": [
       "\u001b[92m───────────────────────────────────────────────────────────────────────────────────────────────────────────────────\u001b[0m\n"
      ]
     },
     "metadata": {},
     "output_type": "display_data"
    },
    {
     "data": {
      "text/html": [
       "<pre style=\"white-space:pre;overflow-x:auto;line-height:normal;font-family:Menlo,'DejaVu Sans Mono',consolas,'Courier New',monospace\">\n",
       "</pre>\n"
      ],
      "text/plain": [
       "\n"
      ]
     },
     "metadata": {},
     "output_type": "display_data"
    },
    {
     "name": "stdout",
     "output_type": "stream",
     "text": [
      "/home/eva/Schreibtisch/GitHub_repos/tutorials_branch/BraTS-Toolkit/data/TCGA-DU-7294/TCGA-DU-7294_brainles/segmentation/hnfnetv1-20.nii.gz already exists\n",
      "segmenting: /home/eva/Schreibtisch/GitHub_repos/tutorials_branch/BraTS-Toolkit/data/TCGA-DU-7294 with algorithm: yixinmpl-20\n"
     ]
    },
    {
     "data": {
      "text/html": [
       "<pre style=\"white-space:pre;overflow-x:auto;line-height:normal;font-family:Menlo,'DejaVu Sans Mono',consolas,'Courier New',monospace\"><span style=\"color: #00ff00; text-decoration-color: #00ff00\">──────────────────────────────────────── </span>Thank you for using <span style=\"font-weight: bold\">BraTS Toolkit</span><span style=\"color: #00ff00; text-decoration-color: #00ff00\"> ────────────────────────────────────────</span>\n",
       "</pre>\n"
      ],
      "text/plain": [
       "\u001b[92m──────────────────────────────────────── \u001b[0mThank you for using \u001b[1mBraTS Toolkit\u001b[0m\u001b[92m ────────────────────────────────────────\u001b[0m\n"
      ]
     },
     "metadata": {},
     "output_type": "display_data"
    },
    {
     "data": {
      "text/html": [
       "<pre style=\"white-space:pre;overflow-x:auto;line-height:normal;font-family:Menlo,'DejaVu Sans Mono',consolas,'Courier New',monospace\">   Please support our development by citing BraTS Toolkit and the papers of the segmentation algorithms you use:   \n",
       "</pre>\n"
      ],
      "text/plain": [
       "   Please support our development by citing BraTS Toolkit and the papers of the segmentation algorithms you use:   \n"
      ]
     },
     "metadata": {},
     "output_type": "display_data"
    },
    {
     "data": {
      "text/html": [
       "<pre style=\"white-space:pre;overflow-x:auto;line-height:normal;font-family:Menlo,'DejaVu Sans Mono',consolas,'Courier New',monospace\">                        <span style=\"color: #0000ff; text-decoration-color: #0000ff; text-decoration: underline\">https://github.com/neuronflow/BraTS-Toolkit#citation</span> -- Thank you!                         \n",
       "</pre>\n"
      ],
      "text/plain": [
       "                        \u001b[4;94mhttps://github.com/neuronflow/BraTS-Toolkit#citation\u001b[0m -- Thank you!                         \n"
      ]
     },
     "metadata": {},
     "output_type": "display_data"
    },
    {
     "data": {
      "text/html": [
       "<pre style=\"white-space:pre;overflow-x:auto;line-height:normal;font-family:Menlo,'DejaVu Sans Mono',consolas,'Courier New',monospace\"><span style=\"color: #00ff00; text-decoration-color: #00ff00\">───────────────────────────────────────────────────────────────────────────────────────────────────────────────────</span>\n",
       "</pre>\n"
      ],
      "text/plain": [
       "\u001b[92m───────────────────────────────────────────────────────────────────────────────────────────────────────────────────\u001b[0m\n"
      ]
     },
     "metadata": {},
     "output_type": "display_data"
    },
    {
     "data": {
      "text/html": [
       "<pre style=\"white-space:pre;overflow-x:auto;line-height:normal;font-family:Menlo,'DejaVu Sans Mono',consolas,'Courier New',monospace\">\n",
       "</pre>\n"
      ],
      "text/plain": [
       "\n"
      ]
     },
     "metadata": {},
     "output_type": "display_data"
    },
    {
     "name": "stdout",
     "output_type": "stream",
     "text": [
      "/home/eva/Schreibtisch/GitHub_repos/tutorials_branch/BraTS-Toolkit/data/TCGA-DU-7294/TCGA-DU-7294_brainles/segmentation/yixinmpl-20.nii.gz already exists\n",
      "segmenting: /home/eva/Schreibtisch/GitHub_repos/tutorials_branch/BraTS-Toolkit/data/TCGA-DU-7294 with algorithm: sanet0-20\n"
     ]
    },
    {
     "data": {
      "text/html": [
       "<pre style=\"white-space:pre;overflow-x:auto;line-height:normal;font-family:Menlo,'DejaVu Sans Mono',consolas,'Courier New',monospace\"><span style=\"color: #00ff00; text-decoration-color: #00ff00\">──────────────────────────────────────── </span>Thank you for using <span style=\"font-weight: bold\">BraTS Toolkit</span><span style=\"color: #00ff00; text-decoration-color: #00ff00\"> ────────────────────────────────────────</span>\n",
       "</pre>\n"
      ],
      "text/plain": [
       "\u001b[92m──────────────────────────────────────── \u001b[0mThank you for using \u001b[1mBraTS Toolkit\u001b[0m\u001b[92m ────────────────────────────────────────\u001b[0m\n"
      ]
     },
     "metadata": {},
     "output_type": "display_data"
    },
    {
     "data": {
      "text/html": [
       "<pre style=\"white-space:pre;overflow-x:auto;line-height:normal;font-family:Menlo,'DejaVu Sans Mono',consolas,'Courier New',monospace\">   Please support our development by citing BraTS Toolkit and the papers of the segmentation algorithms you use:   \n",
       "</pre>\n"
      ],
      "text/plain": [
       "   Please support our development by citing BraTS Toolkit and the papers of the segmentation algorithms you use:   \n"
      ]
     },
     "metadata": {},
     "output_type": "display_data"
    },
    {
     "data": {
      "text/html": [
       "<pre style=\"white-space:pre;overflow-x:auto;line-height:normal;font-family:Menlo,'DejaVu Sans Mono',consolas,'Courier New',monospace\">                        <span style=\"color: #0000ff; text-decoration-color: #0000ff; text-decoration: underline\">https://github.com/neuronflow/BraTS-Toolkit#citation</span> -- Thank you!                         \n",
       "</pre>\n"
      ],
      "text/plain": [
       "                        \u001b[4;94mhttps://github.com/neuronflow/BraTS-Toolkit#citation\u001b[0m -- Thank you!                         \n"
      ]
     },
     "metadata": {},
     "output_type": "display_data"
    },
    {
     "data": {
      "text/html": [
       "<pre style=\"white-space:pre;overflow-x:auto;line-height:normal;font-family:Menlo,'DejaVu Sans Mono',consolas,'Courier New',monospace\"><span style=\"color: #00ff00; text-decoration-color: #00ff00\">───────────────────────────────────────────────────────────────────────────────────────────────────────────────────</span>\n",
       "</pre>\n"
      ],
      "text/plain": [
       "\u001b[92m───────────────────────────────────────────────────────────────────────────────────────────────────────────────────\u001b[0m\n"
      ]
     },
     "metadata": {},
     "output_type": "display_data"
    },
    {
     "data": {
      "text/html": [
       "<pre style=\"white-space:pre;overflow-x:auto;line-height:normal;font-family:Menlo,'DejaVu Sans Mono',consolas,'Courier New',monospace\">\n",
       "</pre>\n"
      ],
      "text/plain": [
       "\n"
      ]
     },
     "metadata": {},
     "output_type": "display_data"
    },
    {
     "name": "stdout",
     "output_type": "stream",
     "text": [
      "/home/eva/Schreibtisch/GitHub_repos/tutorials_branch/BraTS-Toolkit/data/TCGA-DU-7294/TCGA-DU-7294_brainles/segmentation/sanet0-20.nii.gz already exists\n",
      "segmenting: /home/eva/Schreibtisch/GitHub_repos/tutorials_branch/BraTS-Toolkit/data/TCGA-DU-7294 with algorithm: scan-20\n"
     ]
    },
    {
     "data": {
      "text/html": [
       "<pre style=\"white-space:pre;overflow-x:auto;line-height:normal;font-family:Menlo,'DejaVu Sans Mono',consolas,'Courier New',monospace\"><span style=\"color: #00ff00; text-decoration-color: #00ff00\">──────────────────────────────────────── </span>Thank you for using <span style=\"font-weight: bold\">BraTS Toolkit</span><span style=\"color: #00ff00; text-decoration-color: #00ff00\"> ────────────────────────────────────────</span>\n",
       "</pre>\n"
      ],
      "text/plain": [
       "\u001b[92m──────────────────────────────────────── \u001b[0mThank you for using \u001b[1mBraTS Toolkit\u001b[0m\u001b[92m ────────────────────────────────────────\u001b[0m\n"
      ]
     },
     "metadata": {},
     "output_type": "display_data"
    },
    {
     "data": {
      "text/html": [
       "<pre style=\"white-space:pre;overflow-x:auto;line-height:normal;font-family:Menlo,'DejaVu Sans Mono',consolas,'Courier New',monospace\">   Please support our development by citing BraTS Toolkit and the papers of the segmentation algorithms you use:   \n",
       "</pre>\n"
      ],
      "text/plain": [
       "   Please support our development by citing BraTS Toolkit and the papers of the segmentation algorithms you use:   \n"
      ]
     },
     "metadata": {},
     "output_type": "display_data"
    },
    {
     "data": {
      "text/html": [
       "<pre style=\"white-space:pre;overflow-x:auto;line-height:normal;font-family:Menlo,'DejaVu Sans Mono',consolas,'Courier New',monospace\">                        <span style=\"color: #0000ff; text-decoration-color: #0000ff; text-decoration: underline\">https://github.com/neuronflow/BraTS-Toolkit#citation</span> -- Thank you!                         \n",
       "</pre>\n"
      ],
      "text/plain": [
       "                        \u001b[4;94mhttps://github.com/neuronflow/BraTS-Toolkit#citation\u001b[0m -- Thank you!                         \n"
      ]
     },
     "metadata": {},
     "output_type": "display_data"
    },
    {
     "data": {
      "text/html": [
       "<pre style=\"white-space:pre;overflow-x:auto;line-height:normal;font-family:Menlo,'DejaVu Sans Mono',consolas,'Courier New',monospace\"><span style=\"color: #00ff00; text-decoration-color: #00ff00\">───────────────────────────────────────────────────────────────────────────────────────────────────────────────────</span>\n",
       "</pre>\n"
      ],
      "text/plain": [
       "\u001b[92m───────────────────────────────────────────────────────────────────────────────────────────────────────────────────\u001b[0m\n"
      ]
     },
     "metadata": {},
     "output_type": "display_data"
    },
    {
     "data": {
      "text/html": [
       "<pre style=\"white-space:pre;overflow-x:auto;line-height:normal;font-family:Menlo,'DejaVu Sans Mono',consolas,'Courier New',monospace\">\n",
       "</pre>\n"
      ],
      "text/plain": [
       "\n"
      ]
     },
     "metadata": {},
     "output_type": "display_data"
    },
    {
     "name": "stderr",
     "output_type": "stream",
     "text": [
      "\n",
      "                                                                                                                                                       \u001b[A"
     ]
    },
    {
     "name": "stdout",
     "output_type": "stream",
     "text": [
      "/home/eva/Schreibtisch/GitHub_repos/tutorials_branch/BraTS-Toolkit/data/TCGA-DU-7294/TCGA-DU-7294_brainles/segmentation/scan-20.nii.gz already exists\n"
     ]
    },
    {
     "name": "stderr",
     "output_type": "stream",
     "text": [
      "\n",
      "Algorithms:   0%|                                                                                                                | 0/5 [00:00<?, ?it/s]\u001b[A"
     ]
    },
    {
     "name": "stdout",
     "output_type": "stream",
     "text": [
      "segmenting: /home/eva/Schreibtisch/GitHub_repos/tutorials_branch/BraTS-Toolkit/data/OtherEXampleFromTCIA with algorithm: isen-20\n"
     ]
    },
    {
     "data": {
      "text/html": [
       "<pre style=\"white-space:pre;overflow-x:auto;line-height:normal;font-family:Menlo,'DejaVu Sans Mono',consolas,'Courier New',monospace\"><span style=\"color: #00ff00; text-decoration-color: #00ff00\">──────────────────────────────────────── </span>Thank you for using <span style=\"font-weight: bold\">BraTS Toolkit</span><span style=\"color: #00ff00; text-decoration-color: #00ff00\"> ────────────────────────────────────────</span>\n",
       "</pre>\n"
      ],
      "text/plain": [
       "\u001b[92m──────────────────────────────────────── \u001b[0mThank you for using \u001b[1mBraTS Toolkit\u001b[0m\u001b[92m ────────────────────────────────────────\u001b[0m\n"
      ]
     },
     "metadata": {},
     "output_type": "display_data"
    },
    {
     "data": {
      "text/html": [
       "<pre style=\"white-space:pre;overflow-x:auto;line-height:normal;font-family:Menlo,'DejaVu Sans Mono',consolas,'Courier New',monospace\">   Please support our development by citing BraTS Toolkit and the papers of the segmentation algorithms you use:   \n",
       "</pre>\n"
      ],
      "text/plain": [
       "   Please support our development by citing BraTS Toolkit and the papers of the segmentation algorithms you use:   \n"
      ]
     },
     "metadata": {},
     "output_type": "display_data"
    },
    {
     "data": {
      "text/html": [
       "<pre style=\"white-space:pre;overflow-x:auto;line-height:normal;font-family:Menlo,'DejaVu Sans Mono',consolas,'Courier New',monospace\">                        <span style=\"color: #0000ff; text-decoration-color: #0000ff; text-decoration: underline\">https://github.com/neuronflow/BraTS-Toolkit#citation</span> -- Thank you!                         \n",
       "</pre>\n"
      ],
      "text/plain": [
       "                        \u001b[4;94mhttps://github.com/neuronflow/BraTS-Toolkit#citation\u001b[0m -- Thank you!                         \n"
      ]
     },
     "metadata": {},
     "output_type": "display_data"
    },
    {
     "data": {
      "text/html": [
       "<pre style=\"white-space:pre;overflow-x:auto;line-height:normal;font-family:Menlo,'DejaVu Sans Mono',consolas,'Courier New',monospace\"><span style=\"color: #00ff00; text-decoration-color: #00ff00\">───────────────────────────────────────────────────────────────────────────────────────────────────────────────────</span>\n",
       "</pre>\n"
      ],
      "text/plain": [
       "\u001b[92m───────────────────────────────────────────────────────────────────────────────────────────────────────────────────\u001b[0m\n"
      ]
     },
     "metadata": {},
     "output_type": "display_data"
    },
    {
     "data": {
      "text/html": [
       "<pre style=\"white-space:pre;overflow-x:auto;line-height:normal;font-family:Menlo,'DejaVu Sans Mono',consolas,'Courier New',monospace\">\n",
       "</pre>\n"
      ],
      "text/plain": [
       "\n"
      ]
     },
     "metadata": {},
     "output_type": "display_data"
    },
    {
     "name": "stdout",
     "output_type": "stream",
     "text": [
      "/home/eva/Schreibtisch/GitHub_repos/tutorials_branch/BraTS-Toolkit/data/OtherEXampleFromTCIA/OtherEXampleFromTCIA_brainles/segmentation/isen-20.nii.gz already exists\n",
      "segmenting: /home/eva/Schreibtisch/GitHub_repos/tutorials_branch/BraTS-Toolkit/data/OtherEXampleFromTCIA with algorithm: hnfnetv1-20\n"
     ]
    },
    {
     "data": {
      "text/html": [
       "<pre style=\"white-space:pre;overflow-x:auto;line-height:normal;font-family:Menlo,'DejaVu Sans Mono',consolas,'Courier New',monospace\"><span style=\"color: #00ff00; text-decoration-color: #00ff00\">──────────────────────────────────────── </span>Thank you for using <span style=\"font-weight: bold\">BraTS Toolkit</span><span style=\"color: #00ff00; text-decoration-color: #00ff00\"> ────────────────────────────────────────</span>\n",
       "</pre>\n"
      ],
      "text/plain": [
       "\u001b[92m──────────────────────────────────────── \u001b[0mThank you for using \u001b[1mBraTS Toolkit\u001b[0m\u001b[92m ────────────────────────────────────────\u001b[0m\n"
      ]
     },
     "metadata": {},
     "output_type": "display_data"
    },
    {
     "data": {
      "text/html": [
       "<pre style=\"white-space:pre;overflow-x:auto;line-height:normal;font-family:Menlo,'DejaVu Sans Mono',consolas,'Courier New',monospace\">   Please support our development by citing BraTS Toolkit and the papers of the segmentation algorithms you use:   \n",
       "</pre>\n"
      ],
      "text/plain": [
       "   Please support our development by citing BraTS Toolkit and the papers of the segmentation algorithms you use:   \n"
      ]
     },
     "metadata": {},
     "output_type": "display_data"
    },
    {
     "data": {
      "text/html": [
       "<pre style=\"white-space:pre;overflow-x:auto;line-height:normal;font-family:Menlo,'DejaVu Sans Mono',consolas,'Courier New',monospace\">                        <span style=\"color: #0000ff; text-decoration-color: #0000ff; text-decoration: underline\">https://github.com/neuronflow/BraTS-Toolkit#citation</span> -- Thank you!                         \n",
       "</pre>\n"
      ],
      "text/plain": [
       "                        \u001b[4;94mhttps://github.com/neuronflow/BraTS-Toolkit#citation\u001b[0m -- Thank you!                         \n"
      ]
     },
     "metadata": {},
     "output_type": "display_data"
    },
    {
     "data": {
      "text/html": [
       "<pre style=\"white-space:pre;overflow-x:auto;line-height:normal;font-family:Menlo,'DejaVu Sans Mono',consolas,'Courier New',monospace\"><span style=\"color: #00ff00; text-decoration-color: #00ff00\">───────────────────────────────────────────────────────────────────────────────────────────────────────────────────</span>\n",
       "</pre>\n"
      ],
      "text/plain": [
       "\u001b[92m───────────────────────────────────────────────────────────────────────────────────────────────────────────────────\u001b[0m\n"
      ]
     },
     "metadata": {},
     "output_type": "display_data"
    },
    {
     "data": {
      "text/html": [
       "<pre style=\"white-space:pre;overflow-x:auto;line-height:normal;font-family:Menlo,'DejaVu Sans Mono',consolas,'Courier New',monospace\">\n",
       "</pre>\n"
      ],
      "text/plain": [
       "\n"
      ]
     },
     "metadata": {},
     "output_type": "display_data"
    },
    {
     "name": "stdout",
     "output_type": "stream",
     "text": [
      "/home/eva/Schreibtisch/GitHub_repos/tutorials_branch/BraTS-Toolkit/data/OtherEXampleFromTCIA/OtherEXampleFromTCIA_brainles/segmentation/hnfnetv1-20.nii.gz already exists\n",
      "segmenting: /home/eva/Schreibtisch/GitHub_repos/tutorials_branch/BraTS-Toolkit/data/OtherEXampleFromTCIA with algorithm: yixinmpl-20\n"
     ]
    },
    {
     "data": {
      "text/html": [
       "<pre style=\"white-space:pre;overflow-x:auto;line-height:normal;font-family:Menlo,'DejaVu Sans Mono',consolas,'Courier New',monospace\"><span style=\"color: #00ff00; text-decoration-color: #00ff00\">──────────────────────────────────────── </span>Thank you for using <span style=\"font-weight: bold\">BraTS Toolkit</span><span style=\"color: #00ff00; text-decoration-color: #00ff00\"> ────────────────────────────────────────</span>\n",
       "</pre>\n"
      ],
      "text/plain": [
       "\u001b[92m──────────────────────────────────────── \u001b[0mThank you for using \u001b[1mBraTS Toolkit\u001b[0m\u001b[92m ────────────────────────────────────────\u001b[0m\n"
      ]
     },
     "metadata": {},
     "output_type": "display_data"
    },
    {
     "data": {
      "text/html": [
       "<pre style=\"white-space:pre;overflow-x:auto;line-height:normal;font-family:Menlo,'DejaVu Sans Mono',consolas,'Courier New',monospace\">   Please support our development by citing BraTS Toolkit and the papers of the segmentation algorithms you use:   \n",
       "</pre>\n"
      ],
      "text/plain": [
       "   Please support our development by citing BraTS Toolkit and the papers of the segmentation algorithms you use:   \n"
      ]
     },
     "metadata": {},
     "output_type": "display_data"
    },
    {
     "data": {
      "text/html": [
       "<pre style=\"white-space:pre;overflow-x:auto;line-height:normal;font-family:Menlo,'DejaVu Sans Mono',consolas,'Courier New',monospace\">                        <span style=\"color: #0000ff; text-decoration-color: #0000ff; text-decoration: underline\">https://github.com/neuronflow/BraTS-Toolkit#citation</span> -- Thank you!                         \n",
       "</pre>\n"
      ],
      "text/plain": [
       "                        \u001b[4;94mhttps://github.com/neuronflow/BraTS-Toolkit#citation\u001b[0m -- Thank you!                         \n"
      ]
     },
     "metadata": {},
     "output_type": "display_data"
    },
    {
     "data": {
      "text/html": [
       "<pre style=\"white-space:pre;overflow-x:auto;line-height:normal;font-family:Menlo,'DejaVu Sans Mono',consolas,'Courier New',monospace\"><span style=\"color: #00ff00; text-decoration-color: #00ff00\">───────────────────────────────────────────────────────────────────────────────────────────────────────────────────</span>\n",
       "</pre>\n"
      ],
      "text/plain": [
       "\u001b[92m───────────────────────────────────────────────────────────────────────────────────────────────────────────────────\u001b[0m\n"
      ]
     },
     "metadata": {},
     "output_type": "display_data"
    },
    {
     "data": {
      "text/html": [
       "<pre style=\"white-space:pre;overflow-x:auto;line-height:normal;font-family:Menlo,'DejaVu Sans Mono',consolas,'Courier New',monospace\">\n",
       "</pre>\n"
      ],
      "text/plain": [
       "\n"
      ]
     },
     "metadata": {},
     "output_type": "display_data"
    },
    {
     "name": "stdout",
     "output_type": "stream",
     "text": [
      "/home/eva/Schreibtisch/GitHub_repos/tutorials_branch/BraTS-Toolkit/data/OtherEXampleFromTCIA/OtherEXampleFromTCIA_brainles/segmentation/yixinmpl-20.nii.gz already exists\n",
      "segmenting: /home/eva/Schreibtisch/GitHub_repos/tutorials_branch/BraTS-Toolkit/data/OtherEXampleFromTCIA with algorithm: sanet0-20\n"
     ]
    },
    {
     "data": {
      "text/html": [
       "<pre style=\"white-space:pre;overflow-x:auto;line-height:normal;font-family:Menlo,'DejaVu Sans Mono',consolas,'Courier New',monospace\"><span style=\"color: #00ff00; text-decoration-color: #00ff00\">──────────────────────────────────────── </span>Thank you for using <span style=\"font-weight: bold\">BraTS Toolkit</span><span style=\"color: #00ff00; text-decoration-color: #00ff00\"> ────────────────────────────────────────</span>\n",
       "</pre>\n"
      ],
      "text/plain": [
       "\u001b[92m──────────────────────────────────────── \u001b[0mThank you for using \u001b[1mBraTS Toolkit\u001b[0m\u001b[92m ────────────────────────────────────────\u001b[0m\n"
      ]
     },
     "metadata": {},
     "output_type": "display_data"
    },
    {
     "data": {
      "text/html": [
       "<pre style=\"white-space:pre;overflow-x:auto;line-height:normal;font-family:Menlo,'DejaVu Sans Mono',consolas,'Courier New',monospace\">   Please support our development by citing BraTS Toolkit and the papers of the segmentation algorithms you use:   \n",
       "</pre>\n"
      ],
      "text/plain": [
       "   Please support our development by citing BraTS Toolkit and the papers of the segmentation algorithms you use:   \n"
      ]
     },
     "metadata": {},
     "output_type": "display_data"
    },
    {
     "data": {
      "text/html": [
       "<pre style=\"white-space:pre;overflow-x:auto;line-height:normal;font-family:Menlo,'DejaVu Sans Mono',consolas,'Courier New',monospace\">                        <span style=\"color: #0000ff; text-decoration-color: #0000ff; text-decoration: underline\">https://github.com/neuronflow/BraTS-Toolkit#citation</span> -- Thank you!                         \n",
       "</pre>\n"
      ],
      "text/plain": [
       "                        \u001b[4;94mhttps://github.com/neuronflow/BraTS-Toolkit#citation\u001b[0m -- Thank you!                         \n"
      ]
     },
     "metadata": {},
     "output_type": "display_data"
    },
    {
     "data": {
      "text/html": [
       "<pre style=\"white-space:pre;overflow-x:auto;line-height:normal;font-family:Menlo,'DejaVu Sans Mono',consolas,'Courier New',monospace\"><span style=\"color: #00ff00; text-decoration-color: #00ff00\">───────────────────────────────────────────────────────────────────────────────────────────────────────────────────</span>\n",
       "</pre>\n"
      ],
      "text/plain": [
       "\u001b[92m───────────────────────────────────────────────────────────────────────────────────────────────────────────────────\u001b[0m\n"
      ]
     },
     "metadata": {},
     "output_type": "display_data"
    },
    {
     "data": {
      "text/html": [
       "<pre style=\"white-space:pre;overflow-x:auto;line-height:normal;font-family:Menlo,'DejaVu Sans Mono',consolas,'Courier New',monospace\">\n",
       "</pre>\n"
      ],
      "text/plain": [
       "\n"
      ]
     },
     "metadata": {},
     "output_type": "display_data"
    },
    {
     "name": "stdout",
     "output_type": "stream",
     "text": [
      "/home/eva/Schreibtisch/GitHub_repos/tutorials_branch/BraTS-Toolkit/data/OtherEXampleFromTCIA/OtherEXampleFromTCIA_brainles/segmentation/sanet0-20.nii.gz already exists\n",
      "segmenting: /home/eva/Schreibtisch/GitHub_repos/tutorials_branch/BraTS-Toolkit/data/OtherEXampleFromTCIA with algorithm: scan-20\n"
     ]
    },
    {
     "data": {
      "text/html": [
       "<pre style=\"white-space:pre;overflow-x:auto;line-height:normal;font-family:Menlo,'DejaVu Sans Mono',consolas,'Courier New',monospace\"><span style=\"color: #00ff00; text-decoration-color: #00ff00\">──────────────────────────────────────── </span>Thank you for using <span style=\"font-weight: bold\">BraTS Toolkit</span><span style=\"color: #00ff00; text-decoration-color: #00ff00\"> ────────────────────────────────────────</span>\n",
       "</pre>\n"
      ],
      "text/plain": [
       "\u001b[92m──────────────────────────────────────── \u001b[0mThank you for using \u001b[1mBraTS Toolkit\u001b[0m\u001b[92m ────────────────────────────────────────\u001b[0m\n"
      ]
     },
     "metadata": {},
     "output_type": "display_data"
    },
    {
     "data": {
      "text/html": [
       "<pre style=\"white-space:pre;overflow-x:auto;line-height:normal;font-family:Menlo,'DejaVu Sans Mono',consolas,'Courier New',monospace\">   Please support our development by citing BraTS Toolkit and the papers of the segmentation algorithms you use:   \n",
       "</pre>\n"
      ],
      "text/plain": [
       "   Please support our development by citing BraTS Toolkit and the papers of the segmentation algorithms you use:   \n"
      ]
     },
     "metadata": {},
     "output_type": "display_data"
    },
    {
     "data": {
      "text/html": [
       "<pre style=\"white-space:pre;overflow-x:auto;line-height:normal;font-family:Menlo,'DejaVu Sans Mono',consolas,'Courier New',monospace\">                        <span style=\"color: #0000ff; text-decoration-color: #0000ff; text-decoration: underline\">https://github.com/neuronflow/BraTS-Toolkit#citation</span> -- Thank you!                         \n",
       "</pre>\n"
      ],
      "text/plain": [
       "                        \u001b[4;94mhttps://github.com/neuronflow/BraTS-Toolkit#citation\u001b[0m -- Thank you!                         \n"
      ]
     },
     "metadata": {},
     "output_type": "display_data"
    },
    {
     "data": {
      "text/html": [
       "<pre style=\"white-space:pre;overflow-x:auto;line-height:normal;font-family:Menlo,'DejaVu Sans Mono',consolas,'Courier New',monospace\"><span style=\"color: #00ff00; text-decoration-color: #00ff00\">───────────────────────────────────────────────────────────────────────────────────────────────────────────────────</span>\n",
       "</pre>\n"
      ],
      "text/plain": [
       "\u001b[92m───────────────────────────────────────────────────────────────────────────────────────────────────────────────────\u001b[0m\n"
      ]
     },
     "metadata": {},
     "output_type": "display_data"
    },
    {
     "data": {
      "text/html": [
       "<pre style=\"white-space:pre;overflow-x:auto;line-height:normal;font-family:Menlo,'DejaVu Sans Mono',consolas,'Courier New',monospace\">\n",
       "</pre>\n"
      ],
      "text/plain": [
       "\n"
      ]
     },
     "metadata": {},
     "output_type": "display_data"
    },
    {
     "name": "stderr",
     "output_type": "stream",
     "text": [
      "\n",
      "Exams: 100%|█████████████████████████████████████████████████████████████████████████████████████████████████████████████| 2/2 [00:00<00:00, 29.71it/s]\u001b[A"
     ]
    },
    {
     "name": "stdout",
     "output_type": "stream",
     "text": [
      "/home/eva/Schreibtisch/GitHub_repos/tutorials_branch/BraTS-Toolkit/data/OtherEXampleFromTCIA/OtherEXampleFromTCIA_brainles/segmentation/scan-20.nii.gz already exists\n"
     ]
    },
    {
     "name": "stderr",
     "output_type": "stream",
     "text": [
      "\n"
     ]
    }
   ],
   "source": [
    "EXAMPLE_DATA_DIR = turbopath(f\"{BASE_PATH}/data\")\n",
    "\n",
    "exams = EXAMPLE_DATA_DIR.dirs()\n",
    "# we use these five algorithms to segment the images\n",
    "# 2019 algorithms\n",
    "# cids = [\"mic-dkfz\", \"scan\", \"xfeng\", \"lfb_rwth\", \"zyx_2019\", \"scan_2019\"]\n",
    "\n",
    "# 2020 algorithms\n",
    "cids = [\"isen-20\", \"hnfnetv1-20\", \"yixinmpl-20\", \"sanet0-20\", \"scan-20\"]\n",
    "\n",
    "\n",
    "for exam in tqdm(exams, desc=\"Exams\"):\n",
    "    for cid in tqdm(cids, desc=\"Algorithms\", leave=False):\n",
    "        print(\"segmenting:\", exam, \"with algorithm:\", cid)\n",
    "        brainles_folder = exam / exam.name + \"_brainles\"\n",
    "        preprocessed_folder = brainles_folder / \"raw_bet\"\n",
    "        segmentation_folder = brainles_folder / \"segmentation\"\n",
    "\n",
    "        segmentation_file = segmentation_folder / cid + \".nii.gz\"\n",
    "\n",
    "        segment_exam(\n",
    "            t1_file=preprocessed_folder / exam.name + \"_t1_bet.nii.gz\",\n",
    "            t1c_file=preprocessed_folder / exam.name + \"_t1c_bet.nii.gz\",\n",
    "            t2_file=preprocessed_folder / exam.name + \"_t2_bet.nii.gz\",\n",
    "            fla_file=preprocessed_folder / exam.name + \"_fla_bet.nii.gz\",\n",
    "            segmentation_file=segmentation_file,\n",
    "            cid=cid,\n",
    "            cuda_device=\"0\",\n",
    "        ),"
   ]
  },
  {
   "cell_type": "markdown",
   "metadata": {},
   "source": [
    "#### The segementations are stored in folder \"segmentation\" \n",
    "```data/<datasetName>/<datasetName>_brainles```\n",
    "\n",
    "Segmentation results are saved with a file name corresponding to the algorithm identifier (cid).\n",
    "\n",
    "Algorithms used in this notebook:\n",
    "- yixinmpl-20\n",
    "- isen-20\n",
    "- hnfnetv1-20\n",
    "- scan-20\n",
    "- sanet0-20\n",
    " \n",
    "For more details on the algorithms (docker images) see the [publication table of the BraTS toolkit](https://github.com/neuronflow/BraTS-Toolkit/tree/main?tab=readme-ov-file#citation)\n",
    "\n",
    "---"
   ]
  },
  {
   "cell_type": "markdown",
   "metadata": {},
   "source": [
    "## 5. Fusion\n",
    "\n",
    "#### Now we can fuse the generated segmentations together. Therefore we again define a function to process our exams:\n"
   ]
  },
  {
   "cell_type": "code",
   "execution_count": 10,
   "metadata": {},
   "outputs": [],
   "source": [
    "from brats_toolkit.fusionator import Fusionator\n",
    "\n",
    "\n",
    "def fuse_segmentation_exam(\n",
    "    segmentation_folder: str,\n",
    "    fusion_folder: str,\n",
    "):\n",
    "    \"\"\"\n",
    "    Fuse multiple segmentations using different methods and save the results.\n",
    "\n",
    "    Parameters:\n",
    "    - segmentation_folder (str): Path to the folder containing segmentation files in NIfTI format (*.nii.gz).\n",
    "    - fusion_folder (str): Path to the folder where fused segmentation results will be saved.\n",
    "\n",
    "    Returns:\n",
    "    None\n",
    "\n",
    "    Example:\n",
    "    ```python\n",
    "    fuse_segmentation_exam(\"/path/to/segmentations\", \"/path/to/fusion_results\")\n",
    "    ```\n",
    "\n",
    "    This function uses the Fusionator class from the brats_toolkit to fuse segmentations using two different methods:\n",
    "    1. Multimodal Average (MAV) method.\n",
    "    2. Simple fusion method.\n",
    "\n",
    "    The fused segmentations are saved in the specified `fusion_folder` with file names \"mav.nii.gz\" and \"simple.nii.gz\".\n",
    "\n",
    "    Note:\n",
    "    - The Fusionator class must be available and correctly imported from the brats_toolkit.\n",
    "    - The segmentation files in the `segmentation_folder` should be in NIfTI format (*.nii.gz).\n",
    "\n",
    "    Args:\n",
    "    - segmentation_folder (str): Path to the folder containing segmentation files in NIfTI format (*.nii.gz).\n",
    "    - fusion_folder (str): Path to the folder where fused segmentation results will be saved.\n",
    "    \"\"\"\n",
    "    # instantiate\n",
    "    fus = Fusionator(verbose=True)\n",
    "\n",
    "    # segmentation file paths\n",
    "    segmentations = segmentation_folder.files(\"*.nii.gz\")\n",
    "\n",
    "    # execution\n",
    "    # mav\n",
    "    mavPath = fusion_folder / \"mav.nii.gz\"\n",
    "    fus.fuse(\n",
    "        segmentations=segmentations,\n",
    "        outputPath=mavPath,\n",
    "        method=\"mav\",\n",
    "        weights=None,\n",
    "    )\n",
    "\n",
    "    # simple\n",
    "    simplePath = fusion_folder / \"simple.nii.gz\"\n",
    "    fus.fuse(\n",
    "        segmentations=segmentations,\n",
    "        outputPath=simplePath,\n",
    "        method=\"simple\",\n",
    "        weights=None,\n",
    "    )"
   ]
  },
  {
   "cell_type": "markdown",
   "metadata": {},
   "source": [
    "####Now we can again loop through our exams:\n"
   ]
  },
  {
   "cell_type": "code",
   "execution_count": 11,
   "metadata": {},
   "outputs": [
    {
     "name": "stderr",
     "output_type": "stream",
     "text": [
      "\r\n",
      "  0%|                                                                                                                            | 0/2 [00:00<?, ?it/s]"
     ]
    },
    {
     "name": "stdout",
     "output_type": "stream",
     "text": [
      "segmenting: /home/eva/Schreibtisch/GitHub_repos/tutorials_branch/BraTS-Toolkit/data/TCGA-DU-7294\n"
     ]
    },
    {
     "data": {
      "text/html": [
       "<pre style=\"white-space:pre;overflow-x:auto;line-height:normal;font-family:Menlo,'DejaVu Sans Mono',consolas,'Courier New',monospace\"><span style=\"color: #00ff00; text-decoration-color: #00ff00\">──────────────────────────────────────── </span>Thank you for using <span style=\"font-weight: bold\">BraTS Toolkit</span><span style=\"color: #00ff00; text-decoration-color: #00ff00\"> ────────────────────────────────────────</span>\n",
       "</pre>\n"
      ],
      "text/plain": [
       "\u001b[92m──────────────────────────────────────── \u001b[0mThank you for using \u001b[1mBraTS Toolkit\u001b[0m\u001b[92m ────────────────────────────────────────\u001b[0m\n"
      ]
     },
     "metadata": {},
     "output_type": "display_data"
    },
    {
     "data": {
      "text/html": [
       "<pre style=\"white-space:pre;overflow-x:auto;line-height:normal;font-family:Menlo,'DejaVu Sans Mono',consolas,'Courier New',monospace\">   Please support our development by citing BraTS Toolkit and the papers of the segmentation algorithms you use:   \n",
       "</pre>\n"
      ],
      "text/plain": [
       "   Please support our development by citing BraTS Toolkit and the papers of the segmentation algorithms you use:   \n"
      ]
     },
     "metadata": {},
     "output_type": "display_data"
    },
    {
     "data": {
      "text/html": [
       "<pre style=\"white-space:pre;overflow-x:auto;line-height:normal;font-family:Menlo,'DejaVu Sans Mono',consolas,'Courier New',monospace\">                        <span style=\"color: #0000ff; text-decoration-color: #0000ff; text-decoration: underline\">https://github.com/neuronflow/BraTS-Toolkit#citation</span> -- Thank you!                         \n",
       "</pre>\n"
      ],
      "text/plain": [
       "                        \u001b[4;94mhttps://github.com/neuronflow/BraTS-Toolkit#citation\u001b[0m -- Thank you!                         \n"
      ]
     },
     "metadata": {},
     "output_type": "display_data"
    },
    {
     "data": {
      "text/html": [
       "<pre style=\"white-space:pre;overflow-x:auto;line-height:normal;font-family:Menlo,'DejaVu Sans Mono',consolas,'Courier New',monospace\"><span style=\"color: #00ff00; text-decoration-color: #00ff00\">───────────────────────────────────────────────────────────────────────────────────────────────────────────────────</span>\n",
       "</pre>\n"
      ],
      "text/plain": [
       "\u001b[92m───────────────────────────────────────────────────────────────────────────────────────────────────────────────────\u001b[0m\n"
      ]
     },
     "metadata": {},
     "output_type": "display_data"
    },
    {
     "data": {
      "text/html": [
       "<pre style=\"white-space:pre;overflow-x:auto;line-height:normal;font-family:Menlo,'DejaVu Sans Mono',consolas,'Courier New',monospace\">\n",
       "</pre>\n"
      ],
      "text/plain": [
       "\n"
      ]
     },
     "metadata": {},
     "output_type": "display_data"
    },
    {
     "name": "stdout",
     "output_type": "stream",
     "text": [
      "Loaded: /home/eva/Schreibtisch/GitHub_repos/tutorials_branch/BraTS-Toolkit/data/TCGA-DU-7294/TCGA-DU-7294_brainles/segmentation/yixinmpl-20.nii.gz\n",
      "Loaded: /home/eva/Schreibtisch/GitHub_repos/tutorials_branch/BraTS-Toolkit/data/TCGA-DU-7294/TCGA-DU-7294_brainles/segmentation/isen-20.nii.gz\n",
      "Loaded: /home/eva/Schreibtisch/GitHub_repos/tutorials_branch/BraTS-Toolkit/data/TCGA-DU-7294/TCGA-DU-7294_brainles/segmentation/hnfnetv1-20.nii.gz\n",
      "Loaded: /home/eva/Schreibtisch/GitHub_repos/tutorials_branch/BraTS-Toolkit/data/TCGA-DU-7294/TCGA-DU-7294_brainles/segmentation/scan-20.nii.gz\n",
      "Loaded: /home/eva/Schreibtisch/GitHub_repos/tutorials_branch/BraTS-Toolkit/data/TCGA-DU-7294/TCGA-DU-7294_brainles/segmentation/sanet0-20.nii.gz\n",
      "Orchestra: Now fusing all passed .nii.gz files using MAJORITY VOTING. For more output, set the -v or --verbose flag or instantiate the fusionator class with verbose=true\n",
      "Number of segmentations to be fused using compound majority vote is:  5\n",
      "Labels of current candidate: [0 1 2], dtype: uint8\n",
      "Labels of current candidate: [0 1 2], dtype: uint8\n",
      "Labels of current candidate: [0 1 2 4], dtype: uint8\n",
      "Labels of current candidate: [0 1 2], dtype: uint8\n"
     ]
    },
    {
     "name": "stderr",
     "output_type": "stream",
     "text": [
      "WARNING:root:No labels passed, choosing those labels automatically: [0 1 2 4]\n"
     ]
    },
    {
     "name": "stdout",
     "output_type": "stream",
     "text": [
      "Labels of current candidate: [0 1 2 4], dtype: uint8\n",
      "Labels: [1 2 4]\n",
      "weight is: 1\n",
      "weight is: 1\n",
      "weight is: 1\n",
      "weight is: 1\n",
      "weight is: 1\n",
      "5\n",
      "weight is: 1\n",
      "weight is: 1\n",
      "weight is: 1\n",
      "weight is: 1\n",
      "weight is: 1\n",
      "5\n",
      "weight is: 1\n",
      "weight is: 1\n",
      "weight is: 1\n",
      "weight is: 1\n",
      "weight is: 1\n",
      "5\n",
      "Shape of result: (155, 240, 240)\n",
      "Labels and datatype of result: 2.0 0.0 float64\n",
      "Converting float64 to uint8 np.ndarray\n",
      "Loaded: /home/eva/Schreibtisch/GitHub_repos/tutorials_branch/BraTS-Toolkit/data/TCGA-DU-7294/TCGA-DU-7294_brainles/segmentation/yixinmpl-20.nii.gz\n",
      "Loaded: /home/eva/Schreibtisch/GitHub_repos/tutorials_branch/BraTS-Toolkit/data/TCGA-DU-7294/TCGA-DU-7294_brainles/segmentation/isen-20.nii.gz\n",
      "Loaded: /home/eva/Schreibtisch/GitHub_repos/tutorials_branch/BraTS-Toolkit/data/TCGA-DU-7294/TCGA-DU-7294_brainles/segmentation/hnfnetv1-20.nii.gz\n",
      "Loaded: /home/eva/Schreibtisch/GitHub_repos/tutorials_branch/BraTS-Toolkit/data/TCGA-DU-7294/TCGA-DU-7294_brainles/segmentation/scan-20.nii.gz\n",
      "Loaded: /home/eva/Schreibtisch/GitHub_repos/tutorials_branch/BraTS-Toolkit/data/TCGA-DU-7294/TCGA-DU-7294_brainles/segmentation/sanet0-20.nii.gz\n",
      "Orchestra: Now fusing all passed .nii.gz files in using SIMPLE. For more output, set the -v or --verbose flag or instantiate the fusionator class with verbose=true\n",
      "Number of segmentations to be fused using SIMPLE is:  5\n",
      "Labels of current candidate: [0 1 2], dtype: uint8\n",
      "Labels of current candidate: [0 1 2], dtype: uint8\n",
      "Labels of current candidate: [0 1 2 4], dtype: uint8\n",
      "Labels of current candidate: [0 1 2], dtype: uint8\n"
     ]
    },
    {
     "name": "stderr",
     "output_type": "stream",
     "text": [
      "WARNING:root:No labels passed, choosing those labels automatically: [0 1 2 4]\n"
     ]
    },
    {
     "name": "stdout",
     "output_type": "stream",
     "text": [
      "Labels of current candidate: [0 1 2 4], dtype: uint8\n",
      "Currently fusing label 1\n",
      "(155, 240, 240)\n",
      "Number of segmentations to be fused using compound majority vote is:  5\n",
      "Candidate with shape (155, 240, 240) and values [0 1] and sum 9122\n",
      "Candidate with shape (155, 240, 240) and values [0 1] and sum 9180\n",
      "Candidate with shape (155, 240, 240) and values [0 1] and sum 10541\n",
      "Candidate with shape (155, 240, 240) and values [0 1] and sum 9115\n",
      "Candidate with shape (155, 240, 240) and values [0 1] and sum 9608\n",
      "weight is: 1\n",
      "weight is: 1\n",
      "weight is: 1\n",
      "weight is: 1\n",
      "weight is: 1\n",
      "Shape of result: (155, 240, 240)\n",
      "Shape of current input array: (155, 240, 240)\n",
      "Labels and datatype of current output: 1.0 0.0 float64\n",
      "Number of segmentations to be fused using compound majority vote is:  5\n",
      "Candidate with shape (155, 240, 240) and values [0 1] and sum 9122\n",
      "Candidate with shape (155, 240, 240) and values [0 1] and sum 9180\n",
      "Candidate with shape (155, 240, 240) and values [0 1] and sum 10541\n",
      "Candidate with shape (155, 240, 240) and values [0 1] and sum 9115\n",
      "Candidate with shape (155, 240, 240) and values [0 1] and sum 9608\n",
      "weight is: 3.740271506862001\n",
      "weight is: 3.8240892486370663\n",
      "weight is: 3.637696953801965\n",
      "weight is: 3.69218021577528\n",
      "weight is: 3.8234751640007185\n",
      "Shape of result: (155, 240, 240)\n",
      "Shape of current input array: (155, 240, 240)\n",
      "Labels and datatype of current output: 1.0 0.0 float64\n",
      "Convergence for label 1 after 0 iterations reached.\n",
      "Currently fusing label 2\n",
      "(155, 240, 240)\n",
      "Number of segmentations to be fused using compound majority vote is:  5\n",
      "Candidate with shape (155, 240, 240) and values [0 1] and sum 14547\n",
      "Candidate with shape (155, 240, 240) and values [0 1] and sum 14527\n",
      "Candidate with shape (155, 240, 240) and values [0 1] and sum 14450\n",
      "Candidate with shape (155, 240, 240) and values [0 1] and sum 15764\n",
      "Candidate with shape (155, 240, 240) and values [0 1] and sum 14593\n",
      "weight is: 1\n",
      "weight is: 1\n",
      "weight is: 1\n",
      "weight is: 1\n",
      "weight is: 1\n",
      "Shape of result: (155, 240, 240)\n",
      "Shape of current input array: (155, 240, 240)\n",
      "Labels and datatype of current output: 1.0 0.0 float64\n",
      "Number of segmentations to be fused using compound majority vote is:  5\n",
      "Candidate with shape (155, 240, 240) and values [0 1] and sum 14547\n",
      "Candidate with shape (155, 240, 240) and values [0 1] and sum 14527\n",
      "Candidate with shape (155, 240, 240) and values [0 1] and sum 14450\n",
      "Candidate with shape (155, 240, 240) and values [0 1] and sum 15764\n",
      "Candidate with shape (155, 240, 240) and values [0 1] and sum 14593\n",
      "weight is: 3.752705851139802\n",
      "weight is: 3.7886928242593774\n",
      "weight is: 3.6542352407582173\n",
      "weight is: 3.7032811775246737\n",
      "weight is: 3.849843061189314\n",
      "Shape of result: (155, 240, 240)\n",
      "Shape of current input array: (155, 240, 240)\n",
      "Labels and datatype of current output: 1.0 0.0 float64\n",
      "Convergence for label 2 after 0 iterations reached.\n",
      "Currently fusing label 4\n",
      "(155, 240, 240)\n",
      "Number of segmentations to be fused using compound majority vote is:  5\n",
      "Candidate with shape (155, 240, 240) and values [0] and sum 0\n",
      "Candidate with shape (155, 240, 240) and values [0] and sum 0\n",
      "Candidate with shape (155, 240, 240) and values [0 1] and sum 352\n"
     ]
    },
    {
     "name": "stderr",
     "output_type": "stream",
     "text": [
      "WARNING:root:The passed segmentation contains labels other than 1 and 0.\n",
      "WARNING:root:The passed segmentation contains labels other than 1 and 0.\n",
      "WARNING:root:The passed segmentation contains labels other than 1 and 0.\n",
      "ERROR:root:Majority Voting in SIMPLE returned an empty array\n"
     ]
    },
    {
     "name": "stdout",
     "output_type": "stream",
     "text": [
      "Candidate with shape (155, 240, 240) and values [0] and sum 0\n",
      "Candidate with shape (155, 240, 240) and values [0 1] and sum 279\n",
      "weight is: 1\n",
      "weight is: 1\n",
      "weight is: 1\n",
      "weight is: 1\n",
      "weight is: 1\n",
      "Shape of result: (155, 240, 240)\n",
      "Shape of current input array: (155, 240, 240)\n",
      "Labels and datatype of current output: 0.0 0.0 float64\n"
     ]
    },
    {
     "name": "stderr",
     "output_type": "stream",
     "text": [
      "/home/eva/.local/lib/python3.10/site-packages/brats_toolkit/fusionator.py:556: RuntimeWarning: invalid value encountered in scalar divide\n",
      "  FNR = FN / (FN + TP)\n",
      "/home/eva/.local/lib/python3.10/site-packages/brats_toolkit/fusionator.py:557: RuntimeWarning: invalid value encountered in scalar divide\n",
      "  TPR = TP / (TP + FN)\n",
      "/home/eva/.local/lib/python3.10/site-packages/brats_toolkit/fusionator.py:565: RuntimeWarning: invalid value encountered in scalar divide\n",
      "  score = 2 * TP / (2 * TP + FP + FN)\n"
     ]
    },
    {
     "name": "stdout",
     "output_type": "stream",
     "text": [
      "Number of segmentations to be fused using compound majority vote is:  5\n",
      "Candidate with shape (155, 240, 240) and values [0] and sum 0\n",
      "Candidate with shape (155, 240, 240) and values [0] and sum 0\n"
     ]
    },
    {
     "name": "stderr",
     "output_type": "stream",
     "text": [
      "WARNING:root:The passed segmentation contains labels other than 1 and 0.\n",
      "WARNING:root:The passed segmentation contains labels other than 1 and 0.\n"
     ]
    },
    {
     "name": "stdout",
     "output_type": "stream",
     "text": [
      "Candidate with shape (155, 240, 240) and values [0 1] and sum 352\n",
      "Candidate with shape (155, 240, 240) and values [0] and sum 0\n",
      "Candidate with shape (155, 240, 240) and values [0 1] and sum 279\n",
      "weight is: 1\n",
      "weight is: 1\n",
      "weight is: 1.0\n"
     ]
    },
    {
     "name": "stderr",
     "output_type": "stream",
     "text": [
      "WARNING:root:The passed segmentation contains labels other than 1 and 0.\n",
      " 50%|██████████████████████████████████████████████████████████                                                          | 1/2 [00:06<00:06,  6.36s/it]"
     ]
    },
    {
     "name": "stdout",
     "output_type": "stream",
     "text": [
      "weight is: 1\n",
      "weight is: 1.0\n",
      "Shape of result: (155, 240, 240)\n",
      "Shape of current input array: (155, 240, 240)\n",
      "Labels and datatype of current output: 0.0 0.0 float64\n",
      "Convergence for label 4 after 0 iterations reached.\n",
      "Shape of result: (155, 240, 240)\n",
      "Shape of current input array: (155, 240, 240)\n",
      "Labels and datatype of current output: 2.0 0.0 float64\n",
      "Converting float64 to uint8 np.ndarray\n",
      "segmenting: /home/eva/Schreibtisch/GitHub_repos/tutorials_branch/BraTS-Toolkit/data/OtherEXampleFromTCIA\n"
     ]
    },
    {
     "data": {
      "text/html": [
       "<pre style=\"white-space:pre;overflow-x:auto;line-height:normal;font-family:Menlo,'DejaVu Sans Mono',consolas,'Courier New',monospace\"><span style=\"color: #00ff00; text-decoration-color: #00ff00\">──────────────────────────────────────── </span>Thank you for using <span style=\"font-weight: bold\">BraTS Toolkit</span><span style=\"color: #00ff00; text-decoration-color: #00ff00\"> ────────────────────────────────────────</span>\n",
       "</pre>\n"
      ],
      "text/plain": [
       "\u001b[92m──────────────────────────────────────── \u001b[0mThank you for using \u001b[1mBraTS Toolkit\u001b[0m\u001b[92m ────────────────────────────────────────\u001b[0m\n"
      ]
     },
     "metadata": {},
     "output_type": "display_data"
    },
    {
     "data": {
      "text/html": [
       "<pre style=\"white-space:pre;overflow-x:auto;line-height:normal;font-family:Menlo,'DejaVu Sans Mono',consolas,'Courier New',monospace\">   Please support our development by citing BraTS Toolkit and the papers of the segmentation algorithms you use:   \n",
       "</pre>\n"
      ],
      "text/plain": [
       "   Please support our development by citing BraTS Toolkit and the papers of the segmentation algorithms you use:   \n"
      ]
     },
     "metadata": {},
     "output_type": "display_data"
    },
    {
     "data": {
      "text/html": [
       "<pre style=\"white-space:pre;overflow-x:auto;line-height:normal;font-family:Menlo,'DejaVu Sans Mono',consolas,'Courier New',monospace\">                        <span style=\"color: #0000ff; text-decoration-color: #0000ff; text-decoration: underline\">https://github.com/neuronflow/BraTS-Toolkit#citation</span> -- Thank you!                         \n",
       "</pre>\n"
      ],
      "text/plain": [
       "                        \u001b[4;94mhttps://github.com/neuronflow/BraTS-Toolkit#citation\u001b[0m -- Thank you!                         \n"
      ]
     },
     "metadata": {},
     "output_type": "display_data"
    },
    {
     "data": {
      "text/html": [
       "<pre style=\"white-space:pre;overflow-x:auto;line-height:normal;font-family:Menlo,'DejaVu Sans Mono',consolas,'Courier New',monospace\"><span style=\"color: #00ff00; text-decoration-color: #00ff00\">───────────────────────────────────────────────────────────────────────────────────────────────────────────────────</span>\n",
       "</pre>\n"
      ],
      "text/plain": [
       "\u001b[92m───────────────────────────────────────────────────────────────────────────────────────────────────────────────────\u001b[0m\n"
      ]
     },
     "metadata": {},
     "output_type": "display_data"
    },
    {
     "data": {
      "text/html": [
       "<pre style=\"white-space:pre;overflow-x:auto;line-height:normal;font-family:Menlo,'DejaVu Sans Mono',consolas,'Courier New',monospace\">\n",
       "</pre>\n"
      ],
      "text/plain": [
       "\n"
      ]
     },
     "metadata": {},
     "output_type": "display_data"
    },
    {
     "name": "stdout",
     "output_type": "stream",
     "text": [
      "Loaded: /home/eva/Schreibtisch/GitHub_repos/tutorials_branch/BraTS-Toolkit/data/OtherEXampleFromTCIA/OtherEXampleFromTCIA_brainles/segmentation/yixinmpl-20.nii.gz\n",
      "Loaded: /home/eva/Schreibtisch/GitHub_repos/tutorials_branch/BraTS-Toolkit/data/OtherEXampleFromTCIA/OtherEXampleFromTCIA_brainles/segmentation/isen-20.nii.gz\n",
      "Loaded: /home/eva/Schreibtisch/GitHub_repos/tutorials_branch/BraTS-Toolkit/data/OtherEXampleFromTCIA/OtherEXampleFromTCIA_brainles/segmentation/hnfnetv1-20.nii.gz\n",
      "Loaded: /home/eva/Schreibtisch/GitHub_repos/tutorials_branch/BraTS-Toolkit/data/OtherEXampleFromTCIA/OtherEXampleFromTCIA_brainles/segmentation/scan-20.nii.gz\n",
      "Loaded: /home/eva/Schreibtisch/GitHub_repos/tutorials_branch/BraTS-Toolkit/data/OtherEXampleFromTCIA/OtherEXampleFromTCIA_brainles/segmentation/sanet0-20.nii.gz\n",
      "Orchestra: Now fusing all passed .nii.gz files using MAJORITY VOTING. For more output, set the -v or --verbose flag or instantiate the fusionator class with verbose=true\n",
      "Number of segmentations to be fused using compound majority vote is:  5\n",
      "Labels of current candidate: [0 1 2 4], dtype: uint8\n",
      "Labels of current candidate: [0 1 2 4], dtype: uint8\n",
      "Labels of current candidate: [0 1 2 4], dtype: uint8\n",
      "Labels of current candidate: [0 1 2 4], dtype: uint8\n"
     ]
    },
    {
     "name": "stderr",
     "output_type": "stream",
     "text": [
      "WARNING:root:No labels passed, choosing those labels automatically: [0 1 2 4]\n"
     ]
    },
    {
     "name": "stdout",
     "output_type": "stream",
     "text": [
      "Labels of current candidate: [0 1 2 4], dtype: uint8\n",
      "Labels: [1 2 4]\n",
      "weight is: 1\n",
      "weight is: 1\n",
      "weight is: 1\n",
      "weight is: 1\n",
      "weight is: 1\n",
      "5\n",
      "weight is: 1\n",
      "weight is: 1\n",
      "weight is: 1\n",
      "weight is: 1\n",
      "weight is: 1\n",
      "5\n",
      "weight is: 1\n",
      "weight is: 1\n",
      "weight is: 1\n",
      "weight is: 1\n",
      "weight is: 1\n",
      "5\n",
      "Shape of result: (155, 240, 240)\n",
      "Labels and datatype of result: 4.0 0.0 float64\n",
      "Converting float64 to uint8 np.ndarray\n",
      "Loaded: /home/eva/Schreibtisch/GitHub_repos/tutorials_branch/BraTS-Toolkit/data/OtherEXampleFromTCIA/OtherEXampleFromTCIA_brainles/segmentation/yixinmpl-20.nii.gz\n",
      "Loaded: /home/eva/Schreibtisch/GitHub_repos/tutorials_branch/BraTS-Toolkit/data/OtherEXampleFromTCIA/OtherEXampleFromTCIA_brainles/segmentation/isen-20.nii.gz\n",
      "Loaded: /home/eva/Schreibtisch/GitHub_repos/tutorials_branch/BraTS-Toolkit/data/OtherEXampleFromTCIA/OtherEXampleFromTCIA_brainles/segmentation/hnfnetv1-20.nii.gz\n",
      "Loaded: /home/eva/Schreibtisch/GitHub_repos/tutorials_branch/BraTS-Toolkit/data/OtherEXampleFromTCIA/OtherEXampleFromTCIA_brainles/segmentation/scan-20.nii.gz\n",
      "Loaded: /home/eva/Schreibtisch/GitHub_repos/tutorials_branch/BraTS-Toolkit/data/OtherEXampleFromTCIA/OtherEXampleFromTCIA_brainles/segmentation/sanet0-20.nii.gz\n",
      "Orchestra: Now fusing all passed .nii.gz files in using SIMPLE. For more output, set the -v or --verbose flag or instantiate the fusionator class with verbose=true\n",
      "Number of segmentations to be fused using SIMPLE is:  5\n",
      "Labels of current candidate: [0 1 2 4], dtype: uint8\n",
      "Labels of current candidate: [0 1 2 4], dtype: uint8\n",
      "Labels of current candidate: [0 1 2 4], dtype: uint8\n",
      "Labels of current candidate: [0 1 2 4], dtype: uint8\n"
     ]
    },
    {
     "name": "stderr",
     "output_type": "stream",
     "text": [
      "WARNING:root:No labels passed, choosing those labels automatically: [0 1 2 4]\n"
     ]
    },
    {
     "name": "stdout",
     "output_type": "stream",
     "text": [
      "Labels of current candidate: [0 1 2 4], dtype: uint8\n",
      "Currently fusing label 1\n",
      "(155, 240, 240)\n",
      "Number of segmentations to be fused using compound majority vote is:  5\n",
      "Candidate with shape (155, 240, 240) and values [0 1] and sum 1886\n",
      "Candidate with shape (155, 240, 240) and values [0 1] and sum 2155\n",
      "Candidate with shape (155, 240, 240) and values [0 1] and sum 3410\n",
      "Candidate with shape (155, 240, 240) and values [0 1] and sum 2867\n",
      "Candidate with shape (155, 240, 240) and values [0 1] and sum 3005\n",
      "weight is: 1\n",
      "weight is: 1\n",
      "weight is: 1\n",
      "weight is: 1\n",
      "weight is: 1\n",
      "Shape of result: (155, 240, 240)\n",
      "Shape of current input array: (155, 240, 240)\n",
      "Labels and datatype of current output: 1.0 0.0 float64\n",
      "Number of segmentations to be fused using compound majority vote is:  5\n",
      "Candidate with shape (155, 240, 240) and values [0 1] and sum 1886\n",
      "Candidate with shape (155, 240, 240) and values [0 1] and sum 2155\n",
      "Candidate with shape (155, 240, 240) and values [0 1] and sum 3410\n",
      "Candidate with shape (155, 240, 240) and values [0 1] and sum 2867\n",
      "Candidate with shape (155, 240, 240) and values [0 1] and sum 3005\n",
      "weight is: 3.1511742446548916\n",
      "weight is: 3.343718586032138\n",
      "weight is: 3.258616779885049\n",
      "weight is: 3.0533377014683207\n",
      "weight is: 3.5990560996214467\n",
      "Shape of result: (155, 240, 240)\n",
      "Shape of current input array: (155, 240, 240)\n",
      "Labels and datatype of current output: 1.0 0.0 float64\n",
      "Convergence for label 1 after 0 iterations reached.\n",
      "Currently fusing label 2\n",
      "(155, 240, 240)\n",
      "Number of segmentations to be fused using compound majority vote is:  5\n",
      "Candidate with shape (155, 240, 240) and values [0 1] and sum 24365\n",
      "Candidate with shape (155, 240, 240) and values [0 1] and sum 26045\n",
      "Candidate with shape (155, 240, 240) and values [0 1] and sum 19746\n",
      "Candidate with shape (155, 240, 240) and values [0 1] and sum 16958\n",
      "Candidate with shape (155, 240, 240) and values [0 1] and sum 19935\n",
      "weight is: 1\n",
      "weight is: 1\n",
      "weight is: 1\n",
      "weight is: 1\n",
      "weight is: 1\n",
      "Shape of result: (155, 240, 240)\n",
      "Shape of current input array: (155, 240, 240)\n",
      "Labels and datatype of current output: 1.0 0.0 float64\n",
      "Number of segmentations to be fused using compound majority vote is:  5\n",
      "Candidate with shape (155, 240, 240) and values [0 1] and sum 24365\n",
      "Candidate with shape (155, 240, 240) and values [0 1] and sum 26045\n",
      "Candidate with shape (155, 240, 240) and values [0 1] and sum 19746\n",
      "Candidate with shape (155, 240, 240) and values [0 1] and sum 16958\n",
      "Candidate with shape (155, 240, 240) and values [0 1] and sum 19935\n",
      "weight is: 3.6451807045381535\n",
      "weight is: 3.5102207691555116\n",
      "weight is: 3.806188837471846\n",
      "weight is: 3.4225978325341364\n",
      "weight is: 3.861889228137042\n",
      "Shape of result: (155, 240, 240)\n",
      "Shape of current input array: (155, 240, 240)\n",
      "Labels and datatype of current output: 1.0 0.0 float64\n",
      "Convergence for label 2 after 0 iterations reached.\n",
      "Currently fusing label 4\n",
      "(155, 240, 240)\n",
      "Number of segmentations to be fused using compound majority vote is:  5\n",
      "Candidate with shape (155, 240, 240) and values [0 1] and sum 7628\n",
      "Candidate with shape (155, 240, 240) and values [0 1] and sum 7605\n",
      "Candidate with shape (155, 240, 240) and values [0 1] and sum 6569\n",
      "Candidate with shape (155, 240, 240) and values [0 1] and sum 5909\n",
      "Candidate with shape (155, 240, 240) and values [0 1] and sum 6808\n",
      "weight is: 1\n",
      "weight is: 1\n",
      "weight is: 1\n",
      "weight is: 1\n",
      "weight is: 1\n",
      "Shape of result: (155, 240, 240)\n",
      "Shape of current input array: (155, 240, 240)\n",
      "Labels and datatype of current output: 1.0 0.0 float64\n",
      "Number of segmentations to be fused using compound majority vote is:  5\n",
      "Candidate with shape (155, 240, 240) and values [0 1] and sum 7628\n",
      "Candidate with shape (155, 240, 240) and values [0 1] and sum 7605\n",
      "Candidate with shape (155, 240, 240) and values [0 1] and sum 6569\n",
      "Candidate with shape (155, 240, 240) and values [0 1] and sum 5909\n",
      "Candidate with shape (155, 240, 240) and values [0 1] and sum 6808\n",
      "weight is: 3.776505044184724\n",
      "weight is: 3.7866546517920887\n"
     ]
    },
    {
     "name": "stderr",
     "output_type": "stream",
     "text": [
      "100%|████████████████████████████████████████████████████████████████████████████████████████████████████████████████████| 2/2 [00:12<00:00,  6.31s/it]"
     ]
    },
    {
     "name": "stdout",
     "output_type": "stream",
     "text": [
      "weight is: 3.895390628501695\n",
      "weight is: 3.7132313583169902\n",
      "weight is: 3.9573242849181356\n",
      "Shape of result: (155, 240, 240)\n",
      "Shape of current input array: (155, 240, 240)\n",
      "Labels and datatype of current output: 1.0 0.0 float64\n",
      "Convergence for label 4 after 0 iterations reached.\n",
      "Shape of result: (155, 240, 240)\n",
      "Shape of current input array: (155, 240, 240)\n",
      "Labels and datatype of current output: 4.0 0.0 float64\n",
      "Converting float64 to uint8 np.ndarray\n"
     ]
    },
    {
     "name": "stderr",
     "output_type": "stream",
     "text": [
      "\n"
     ]
    }
   ],
   "source": [
    "EXAMPLE_DATA_DIR = turbopath(\"data\")\n",
    "\n",
    "exams = EXAMPLE_DATA_DIR.dirs()\n",
    "\n",
    "for exam in tqdm(exams):\n",
    "    print(\"segmenting:\", exam)\n",
    "    brainles_folder = exam / exam.name + \"_brainles\"\n",
    "    segmentation_folder = brainles_folder / \"segmentation\"\n",
    "    fusion_folder = brainles_folder / \"fusion\"\n",
    "\n",
    "    fuse_segmentation_exam(\n",
    "        segmentation_folder=segmentation_folder,\n",
    "        fusion_folder=fusion_folder,\n",
    "    )"
   ]
  },
  {
   "cell_type": "markdown",
   "metadata": {},
   "source": [
    "<!-- ## Viz TODO add such visualizations## Data\n",
    "\n",
    "AURORA expects _preprocessed_ input data as NIfTI file or NumPy Array (_preprocessed_ meaning the files should be co-registerend, skullstripped and in SRI-24 space).\n",
    "\n",
    "In this example we provide sample data from the [ASNR-MICCAI BraTS Brain Metastasis Challenge](https://www.synapse.org/#!Synapse:syn51156910/wiki/622553), which is already preprocessed in the `AURORA/data` folder in the form of 4 modalities of the same brain (T1, T1C, T2, FLAIR). To get an intuition of the data, one example slice of the 3D scans is visualized below.\n",
    "\n",
    "For your own data:\n",
    "If the data is _not_ preprocessed yet, consider using our [BrainLes preprocessing](https://github.com/BrainLesion/preprocessing) package (or its predecessor [BraTS-Toolkit](https://github.com/neuronflow/BraTS-Toolkit)). -->\n"
   ]
  },
  {
   "cell_type": "markdown",
   "metadata": {},
   "source": [
    "### The fused segementation is saved in the folder \"fusion\"\n",
    "```BraTS-Toolkit/data/<datasetName>/<datasetName>_brainles/fusion```\n",
    "\n",
    "Run the subsequent cell for visualizing one example sample (T1c with segementation).\n",
    "\n",
    "**The BraTS-Toolkit segementation comprise the GD-enhancing tumor (label 4), the peritumoral edematous tissue (label 2), and the necrotic tumor core (label 1).**\n",
    "\n"
   ]
  },
  {
   "cell_type": "code",
   "execution_count": 12,
   "metadata": {},
   "outputs": [
    {
     "data": {
      "image/png": "[encoded data removed]",
      "text/plain": [
       "<Figure size 576x288 with 2 Axes>"
      ]
     },
     "metadata": {
      "needs_background": "light"
     },
     "output_type": "display_data"
    }
   ],
   "source": [
    "from utils import visualize_segmentation\n",
    "\n",
    "visualize_segmentation(\n",
    "    modality_file=\"data//OtherEXampleFromTCIA/OtherEXampleFromTCIA_brainles/raw_bet/OtherEXampleFromTCIA_t1c_bet.nii.gz\",\n",
    "    segmentation_file=\"data/OtherEXampleFromTCIA/OtherEXampleFromTCIA_brainles/fusion/simple.nii.gz\",\n",
    "    slice_p=0.63,  # default is 0.5\n",
    ")"
   ]
  },
  {
   "cell_type": "code",
   "execution_count": null,
   "metadata": {},
   "outputs": [],
   "source": []
  }
 ],
 "metadata": {
  "kernelspec": {
   "display_name": "Python 3 (ipykernel)",
   "language": "python",
   "name": "python3"
  },
  "language_info": {
   "codemirror_mode": {
    "name": "ipython",
    "version": 3
   },
   "file_extension": ".py",
   "mimetype": "text/x-python",
   "name": "python",
   "nbconvert_exporter": "python",
   "pygments_lexer": "ipython3",
   "version": "3.10.12"
  }
 },
 "nbformat": 4,
 "nbformat_minor": 4
}
