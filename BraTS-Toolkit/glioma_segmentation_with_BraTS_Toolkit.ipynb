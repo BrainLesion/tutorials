{
 "cells": [
  {
   "cell_type": "markdown",
   "metadata": {},
   "source": [
    "# Warning\n",
    "\n",
    "This tutorial is a work in progress, it does not cover all the functionalities yet. However, it will give you a good overview how you can generate tumor segmentations with BraTS Toolkit.\n"
   ]
  },
  {
   "cell_type": "markdown",
   "metadata": {},
   "source": [
    "# Glioma segmentation with BraTS Toolkit\n",
    "\n",
    "In this Notebook, we will demonstrate how to preprocess brain MR images with the [BrainLes preprocessing package](https://github.com/BrainLesion/preprocessing/tree/main/brainles_preprocessing). Following we will generate glioma segmentations with multiple algorithms from [BraTS Toolkit](https://github.com/neuronflow/BraTS-Toolkit) and fuse them together.\n",
    "\n",
    "![Pipeline Overview](Pipeline_overview.jpg)\n",
    "\n",
    "---   \n",
    "### Agenda: \n",
    "\n",
    "1. Getting started (requirements, installations)\n",
    "  \n",
    "         \n",
    "2. **Import** of raw data (cMRI)\n",
    "    \n",
    "        \n",
    "3. **Preprocessing via BrainLes preprocessig package** instead of vanilla preprocessing pipeline from BraTS Toolkit. BraTS challenge algorithms expect preprocessed files (co-registered, skullstripped in SRI-24 space)\n",
    "     \n",
    "          \n",
    "4. **Segmentation with BraTS Toolkit** \n",
    "      \n",
    "            \n",
    "5. **Fusion** of generated segementations \n",
    "\n"
   ]
  },
  {
   "cell_type": "markdown",
   "metadata": {},
   "source": [
    "## 1. Getting Started\n",
    "\n",
    "### Requirements\n",
    "\n",
    "This tutorial requires:\n",
    "\n",
    "- Python 3.10+ environment\n",
    "- Docker (we recommended the most recent version)\n",
    "<!-- TODO specify version -->\n",
    "\n",
    "optional (but recommended):\n",
    "\n",
    "- CUDA drivers\n",
    "- a GPU that is supported (each algorithms supports different set of GPUs)\n",
    "<!-- TODO specify -->\n",
    "\n",
    "Run the subsequent cell to check CUDA availability, your python and docker version.  "
   ]
  },
  {
   "cell_type": "code",
   "execution_count": 1,
   "metadata": {},
   "outputs": [
    {
     "name": "stdout",
     "output_type": "stream",
     "text": [
      "Python 3.10.12 (main, Nov 20 2023, 15:14:05) [GCC 11.4.0]\n",
      "CUDA is available with 1 device(s): NVIDIA GeForce GTX 1660 SUPER\n",
      "Docker version 24.0.5, build 24.0.5-0ubuntu1~22.04.1\n"
     ]
    }
   ],
   "source": [
    "# Your python version (in this notebook) is:\n",
    "import sys\n",
    "print(f\"Python {sys.version}\")\n",
    "\n",
    "# Check if CUDA is available\n",
    "import torch\n",
    "if torch.cuda.is_available():\n",
    "    # Get the number of available CUDA devices\n",
    "    num_cuda_devices = torch.cuda.device_count()\n",
    "    print(f\"CUDA is available with {num_cuda_devices} device(s): {torch.cuda.get_device_name()}\")\n",
    "else:\n",
    "    print(\"CUDA is not available on this system.\")\n",
    "\n",
    "    \n",
    "# Print docker version\n",
    "import subprocess\n",
    "try:\n",
    "    result = subprocess.run(['docker', '--version'])\n",
    "except FileNotFoundError as e:\n",
    "    print(\"'docker' seems not to be installed. For installation guide see https://docs.docker.com/get-docker/\")\n",
    "                            \n"
   ]
  },
  {
   "cell_type": "markdown",
   "metadata": {},
   "source": [
    "## Installation of dependencies\n"
   ]
  },
  {
   "cell_type": "code",
   "execution_count": 2,
   "metadata": {},
   "outputs": [
    {
     "name": "stdout",
     "output_type": "stream",
     "text": [
      "\u001b[33m  WARNING: The scripts nib-conform, nib-dicomfs, nib-diff, nib-ls, nib-nifti-dx, nib-roi, nib-stats, nib-tck2trk, nib-trk2tck and parrec2nii are installed in '/home/eva/.local/bin' which is not on PATH.\n",
      "  Consider adding this directory to PATH or, if you prefer to suppress this warning, use --no-warn-script-location.\u001b[0m\u001b[33m\n",
      "\u001b[0m\u001b[31mERROR: pip's dependency resolver does not currently take into account all the packages that are installed. This behaviour is the source of the following dependency conflicts.\n",
      "brainles-aurora 0.1.3 requires auxiliary<0.0.41,>=0.0.40, but you have auxiliary 0.0.41 which is incompatible.\n",
      "brainles-aurora 0.1.3 requires nibabel>=4.0.2, but you have nibabel 3.2.2 which is incompatible.\u001b[0m\u001b[31m\n",
      "\u001b[0mNote: you may need to restart the kernel to use updated packages.\n",
      "Note: you may need to restart the kernel to use updated packages.\n"
     ]
    }
   ],
   "source": [
    "%pip install -U brainles_preprocessing brats_toolkit auxiliary > /dev/null\n",
    "%pip install -U matplotlib > /dev/null\n",
    "\n",
    "%load_ext autoreload\n",
    "%autoreload 2\n",
    "\n",
    "#package installation may take a while "
   ]
  },
  {
   "cell_type": "markdown",
   "metadata": {},
   "source": [
    "## Setup Colab environment (optional)\n",
    "\n",
    "If you installed the packages and requirements on your own machine, you can skip this section and start from the import section. Otherwise you can follow and execute the tutorial on your browser. In order to start working on the notebook, click on the following button, this will open this page in the Colab environment and you will be able to execute the code on your own (*Google account required*).\n",
    "\n",
    "<a target=\"_blank\" href=\"https://colab.research.google.com/github/BrainLesion/tutorials/blob/main/BraTS-Toolkit/glioma_segmentation_with_BraTS_Toolkit.ipynb\">\n",
    "  <img src=\"https://colab.research.google.com/assets/colab-badge.svg\" alt=\"Open In Colab\"/>\n",
    "</a>\n",
    "\n",
    "(EVA VERSION):\n",
    "<a target=\"_blank\" href=\"https://colab.research.google.com/github/evamariie/tutorials/blob/main/BraTS-Toolkit/glioma_segmentation_with_BraTS_Toolkit.ipynb\">\n",
    "  <img src=\"https://colab.research.google.com/assets/colab-badge.svg\" alt=\"\"/>\n",
    "</a>\n",
    "\n",
    "Now that you are visualizing the notebook in Colab, run the next cell to install the packages we will use. There are few things you should follow in order to properly set the notebook up:\n",
    "\n",
    "- Warning: This notebook was not authored by Google. Click on 'Run anyway'.\n",
    "- When the installation commands are done, there might be \"Restart runtime\" button at the end of the output. Please, click it.\n"
   ]
  },
  {
   "cell_type": "markdown",
   "metadata": {},
   "source": [
    "If you run the next cell in a Google Colab environment, it will **clone the 'tutorials' repository** in your google drive. This will create a **new folder** called \"tutorials\" in **your Google Drive**.\n",
    "All generated file will be created/uploaded to your Google Drive respectively.\n",
    "\n",
    "After the first execution of the next cell, you might receive some warnings and notifications, please follow these instructions:\n",
    "   - 'Permit this notebook to access your Google Drive files?' Click on 'Yes', and select your account.\n",
    "   - Google Drive for desktop wants to access your Google Account. Click on 'Allow'.\n",
    "\n",
    "This will create the \"tutorials\" folder. You can navigate it through the lefthand panel in Colab. You might also have received an email that informs you about the access on your Google Drive."
   ]
  },
  {
   "cell_type": "code",
   "execution_count": 3,
   "metadata": {},
   "outputs": [],
   "source": [
    "import sys\n",
    "\n",
    "#Check if we are in google colab currently\n",
    "try:\n",
    "    import google.colab\n",
    "    colabFlag = True\n",
    "except ImportError as r:\n",
    "    colabFlag = False\n",
    "\n",
    "#Execute certain steps only if we are in a colab environment\n",
    "if colabFlag:\n",
    "    # Create a folder in your Google Drive\n",
    "    from google.colab import drive\n",
    "    drive.mount('/content/drive')\n",
    "    #clone repository and set path\n",
    "    !git clone https://github.com/BrainLesion/tutorials.git /content/drive/MyDrive/tutorials\n",
    "    BASE_PATH = \"/content/drive/MyDrive/tutorials/BraTS-Toolkit/\"\n",
    "    sys.path.insert(0, BASE_PATH)\n",
    "    \n",
    "else: # normal jupyter notebook environment\n",
    "    BASE_PATH = \"./\" #current working directory would be BraTs-Toolkit anyways if you are not in colab\n",
    "    "
   ]
  },
  {
   "cell_type": "markdown",
   "metadata": {},
   "source": [
    "## 2. Import raw input data\n",
    "\n",
    "Raw imput data require\n",
    "- exam with skull and 4 sequences (T1, T1c, T2, T2-FLAIR), only one file each (in total 4 files) \n",
    "    - file names must end with \"*t1.nii.gz\", \"*t1c.nii.gz\", \"*t2.nii.gz\" and \"*fla.nii.gz\"\n",
    "    - [Nifti \".nii.gz\"](https://brainder.org/2012/09/23/the-nifti-file-format/) file type \n",
    "- each exam (4 files) needs to be places in an individual folder within the data folder \n",
    "```<this repository>/BraTS-Toolkit/data/```. \n",
    "\n",
    "The structure is shown using two example exams:\n",
    "```\n",
    "BraTS-Toolkit\n",
    "├── data\n",
    "│   ├── TCGA-DU-7294\n",
    "│   │   ├── *_t1c.nii.gz\n",
    "│   │   ├── *_t1.nii.gz\n",
    "│   │   ├── *_t2.nii.gz\n",
    "│   │   ├── *_fla.nii.gz\n",
    "│   ├── OtherEXampleFromTCIA\n",
    "│   │   ├── *_t1c.nii.gz\n",
    "│   │   ├── *_t1.nii.gz\n",
    "│   │   ├── *_t2.nii.gz\n",
    "│   │   ├── *_fla.nii.gz\n",
    "```\n"
   ]
  },
  {
   "cell_type": "markdown",
   "metadata": {},
   "source": [
    "### Example Data\n",
    "Two examples of cMRI from TCIA/TCGA with T1, T1c, T2, T2-FLAIR with skull are provided.\n",
    "\n",
    "Run the subsequent cell for visualizing one example sample.\n",
    " "
   ]
  },
  {
   "cell_type": "code",
   "execution_count": 4,
   "metadata": {
    "scrolled": false
   },
   "outputs": [
    {
     "name": "stderr",
     "output_type": "stream",
     "text": [
      "/home/eva/.local/lib/python3.10/site-packages/matplotlib/projections/__init__.py:63: UserWarning: Unable to import Axes3D. This may be due to multiple versions of Matplotlib being installed (e.g. as a system package and as a pip package). As a result, the 3D projection is not available.\n",
      "  warnings.warn(\"Unable to import Axes3D. This may be due to multiple versions of \"\n"
     ]
    },
    {
     "data": {
      "image/png": "[encoded data removed]",
      "text/plain": [
       "<Figure size 864x720 with 4 Axes>"
      ]
     },
     "metadata": {
      "needs_background": "light"
     },
     "output_type": "display_data"
    }
   ],
   "source": [
    "from utils import visualize_data, visualize_data2\n",
    "from pathlib import Path\n",
    "\n",
    "#paths to example files   \n",
    "t1c_path = Path(f\"{BASE_PATH}/data/OtherEXampleFromTCIA/MRHR_T1_AX_POST_GAD_OtherEXampleTCIA_TCGA-FG-6692_Si_TCGA-FG-6692_MRHR_T1_AX_POST_GAD_SE_13_se2d1r_t1c.nii.gz\")\n",
    "t1_path = Path(f\"{BASE_PATH}/data/OtherEXampleFromTCIA/T1_AX_OtherEXampleTCIA_TCGA-FG-6692_Si_TCGA-FG-6692_T1_AX_SE_10_se2d1_t1.nii.gz\")\n",
    "t2_path = Path(f\"{BASE_PATH}/data/OtherEXampleFromTCIA/MRHR_T2_AX_OtherEXampleTCIA_TCGA-FG-6692_Si_TCGA-FG-6692_MRHR_T2_AX_SE_2_tse2d1_11_t2.nii.gz\")\n",
    "flair_path = Path(f\"{BASE_PATH}/data/OtherEXampleFromTCIA/MRHR_FLAIR_AX_OtherEXampleTCIA_TCGA-FG-6692_Si_TCGA-FG-6692_MRHR_FLAIR_AX_SE_IR_5_tir2d1_21_fla.nii.gz\")\n",
    "\n",
    "#visualize example images\n",
    "visualize_data2(t1c_path, t1_path, t2_path, flair_path, height_p=0.75)\n"
   ]
  },
  {
   "cell_type": "markdown",
   "metadata": {},
   "source": [
    "## 3. Preprocessing\n",
    "\n",
    "BraTS challenge algorithms expect co-registered, skullstripped files in SRI-24 space, to achieve this preprocessing is required.\n",
    "Instead of using the vanilla preprocessing pipeline from BraTS Toolkit, we recommend using the new [BrainLes preprocessing package](https://github.com/BrainLesion/preprocessing/tree/main/brainles_preprocessing).\n"
   ]
  },
  {
   "cell_type": "markdown",
   "metadata": {},
   "source": [
    "#### First, we define a function that processes an exam."
   ]
  },
  {
   "cell_type": "code",
   "execution_count": 5,
   "metadata": {},
   "outputs": [
    {
     "name": "stderr",
     "output_type": "stream",
     "text": [
      "/home/eva/.local/lib/python3.10/site-packages/brainles_preprocessing/registration/__init__.py:6: UserWarning: ANTS package not found. If you want to use it, please install it using 'pip install brainles_preprocessing[ants]'\n",
      "  warnings.warn(\n"
     ]
    }
   ],
   "source": [
    "from auxiliary.normalization.percentile_normalizer import PercentileNormalizer\n",
    "from auxiliary.turbopath import turbopath\n",
    "from tqdm import tqdm\n",
    "\n",
    "from brainles_preprocessing.brain_extraction import HDBetExtractor\n",
    "from brainles_preprocessing.modality import Modality\n",
    "from brainles_preprocessing.preprocessor import Preprocessor\n",
    "from brainles_preprocessing.registration import NiftyRegRegistrator\n",
    "\n",
    "\n",
    "def preprocess_exam_in_brats_style(inputDir: str) -> None:\n",
    "    \"\"\"\n",
    "    Perform BRATS (Brain Tumor Segmentation) style preprocessing on MRI exam data.\n",
    "\n",
    "    Args:\n",
    "        inputDir (str): Path to the directory containing raw MRI files for an exam.\n",
    "        File names must end with \"t1.nii.gz\", \"t1c.nii.gz\" \"t2.nii.gz\" or \"fla.nii.gz\" to be found!\n",
    "\n",
    "    Raises:\n",
    "        Exception: If any error occurs during the preprocessing.\n",
    "\n",
    "    Example:\n",
    "        brat_style_preprocess_exam(\"/path/to/exam_directory\")\n",
    "\n",
    "    This function preprocesses MRI exam data following the BRATS style, which includes the following steps:\n",
    "    1. Normalization using a percentile normalizer.\n",
    "    2. Registration and correction using NiftyReg.\n",
    "    3. Brain extraction using HDBet.\n",
    "\n",
    "    The processed data is saved in a structured directory within the input directory.\n",
    "\n",
    "    Args:\n",
    "        inputDir (str): Path to the directory containing raw MRI files for an exam.\n",
    "\n",
    "    Returns:\n",
    "        None\n",
    "    \"\"\"\n",
    "    inputDir = turbopath(inputDir)\n",
    "    print(\"*** start ***\")\n",
    "    brainles_dir = turbopath(inputDir) + \"/\" + inputDir.name + \"_brainles\"\n",
    "    norm_bet_dir = brainles_dir / \"normalized_bet\"\n",
    "    raw_bet_dir = brainles_dir / \"raw_bet\"\n",
    "\n",
    "    t1_file = inputDir.files(\"*t1.nii.gz\")\n",
    "    t1c_file = inputDir.files(\"*t1c.nii.gz\")\n",
    "    t2_file = inputDir.files(\"*t2.nii.gz\")\n",
    "    flair_file = inputDir.files(\"*fla.nii.gz\")\n",
    "\n",
    "    # we check that we have only one file of each type\n",
    "    if len(t1_file) == len(t1c_file) == len(t2_file) == len(flair_file) == 1:\n",
    "        t1File = t1_file[0]\n",
    "        t1cFile = t1c_file[0]\n",
    "        t2File = t2_file[0]\n",
    "        flaFile = flair_file[0]\n",
    "\n",
    "        # normalizer\n",
    "        percentile_normalizer = PercentileNormalizer(\n",
    "            lower_percentile=0.1,\n",
    "            upper_percentile=99.9,\n",
    "            lower_limit=0,\n",
    "            upper_limit=1,\n",
    "        )\n",
    "        # define modalities\n",
    "        center = Modality(\n",
    "            modality_name=\"t1c\",\n",
    "            input_path=t1cFile,\n",
    "            raw_bet_output_path=raw_bet_dir / inputDir.name + \"_t1c_bet.nii.gz\",\n",
    "            atlas_correction=True, \n",
    "            normalizer=percentile_normalizer,\n",
    "        )\n",
    "        moving_modalities = [\n",
    "            Modality(\n",
    "                modality_name=\"t1\",\n",
    "                input_path=t1File,\n",
    "                raw_bet_output_path=raw_bet_dir / inputDir.name + \"_t1_bet.nii.gz\",\n",
    "                atlas_correction=True,\n",
    "                normalizer=percentile_normalizer,\n",
    "            ),\n",
    "            Modality(\n",
    "                modality_name=\"t2\",\n",
    "                input_path=t2File,\n",
    "                raw_bet_output_path=raw_bet_dir / inputDir.name + \"_t2_bet.nii.gz\",\n",
    "                atlas_correction=True,\n",
    "                normalizer=percentile_normalizer,\n",
    "            ),\n",
    "            Modality(\n",
    "                modality_name=\"flair\",\n",
    "                input_path=flaFile,\n",
    "                raw_bet_output_path=raw_bet_dir / inputDir.name + \"_fla_bet.nii.gz\",\n",
    "                atlas_correction=True,\n",
    "                normalizer=percentile_normalizer,\n",
    "            ),\n",
    "        ]\n",
    "        preprocessor = Preprocessor(\n",
    "            center_modality=center,\n",
    "            moving_modalities=moving_modalities,\n",
    "            registrator=NiftyRegRegistrator(),\n",
    "            brain_extractor=HDBetExtractor(),\n",
    "            temp_folder=\"temporary_directory\",\n",
    "            limit_cuda_visible_devices=\"0\",\n",
    "        )\n",
    "        preprocessor.run()"
   ]
  },
  {
   "cell_type": "markdown",
   "metadata": {},
   "source": [
    "#### Now we loop through the exams to preprocess the data:\n",
    "(This may take more than 10 minutes)"
   ]
  },
  {
   "cell_type": "code",
   "execution_count": 6,
   "metadata": {
    "scrolled": true
   },
   "outputs": [
    {
     "name": "stderr",
     "output_type": "stream",
     "text": [
      "\r",
      "  0%|                                                     | 0/2 [00:00<?, ?it/s]"
     ]
    },
    {
     "name": "stdout",
     "output_type": "stream",
     "text": [
      "processing: /home/eva/Schreibtisch/GitHub_repos/tutorials/BraTS-Toolkit/data/TCGA-DU-7294\n",
      "*** start ***\n",
      "File: /home/eva/Schreibtisch/GitHub_repos/tutorials/BraTS-Toolkit/temporary_directory/atlas-space/atlas__t1c.nii.gz\n",
      "preprocessing...\n",
      "image shape after preprocessing:  (103, 160, 160)\n",
      "prediction (CNN id)...\n",
      "0\n"
     ]
    },
    {
     "name": "stderr",
     "output_type": "stream",
     "text": [
      "  0%|                                                     | 0/2 [05:43<?, ?it/s]\n"
     ]
    },
    {
     "ename": "OutOfMemoryError",
     "evalue": "CUDA out of memory. Tried to allocate 526.00 MiB. GPU 0 has a total capacity of 5.79 GiB of which 333.94 MiB is free. Process 19627 has 11.84 MiB memory in use. Process 28639 has 13.84 MiB memory in use. Process 81919 has 2.79 GiB memory in use. Including non-PyTorch memory, this process has 1.77 GiB memory in use. Of the allocated memory 1.45 GiB is allocated by PyTorch, and 240.80 MiB is reserved by PyTorch but unallocated. If reserved but unallocated memory is large try setting PYTORCH_CUDA_ALLOC_CONF=expandable_segments:True to avoid fragmentation.  See documentation for Memory Management  (https://pytorch.org/docs/stable/notes/cuda.html#environment-variables)",
     "output_type": "error",
     "traceback": [
      "\u001b[0;31m---------------------------------------------------------------------------\u001b[0m",
      "\u001b[0;31mOutOfMemoryError\u001b[0m                          Traceback (most recent call last)",
      "\u001b[0;32m/tmp/ipykernel_106817/4125213627.py\u001b[0m in \u001b[0;36m<module>\u001b[0;34m\u001b[0m\n\u001b[1;32m      5\u001b[0m \u001b[0;32mfor\u001b[0m \u001b[0mexam\u001b[0m \u001b[0;32min\u001b[0m \u001b[0mtqdm\u001b[0m\u001b[0;34m(\u001b[0m\u001b[0mexams\u001b[0m\u001b[0;34m)\u001b[0m\u001b[0;34m:\u001b[0m\u001b[0;34m\u001b[0m\u001b[0;34m\u001b[0m\u001b[0m\n\u001b[1;32m      6\u001b[0m     \u001b[0mprint\u001b[0m\u001b[0;34m(\u001b[0m\u001b[0;34m\"processing:\"\u001b[0m\u001b[0;34m,\u001b[0m \u001b[0mexam\u001b[0m\u001b[0;34m)\u001b[0m\u001b[0;34m\u001b[0m\u001b[0;34m\u001b[0m\u001b[0m\n\u001b[0;32m----> 7\u001b[0;31m     \u001b[0mpreprocess_exam_in_brats_style\u001b[0m\u001b[0;34m(\u001b[0m\u001b[0mexam\u001b[0m\u001b[0;34m)\u001b[0m\u001b[0;34m\u001b[0m\u001b[0;34m\u001b[0m\u001b[0m\n\u001b[0m",
      "\u001b[0;32m/tmp/ipykernel_106817/726893474.py\u001b[0m in \u001b[0;36mpreprocess_exam_in_brats_style\u001b[0;34m(inputDir)\u001b[0m\n\u001b[1;32m    100\u001b[0m             \u001b[0mlimit_cuda_visible_devices\u001b[0m\u001b[0;34m=\u001b[0m\u001b[0;34m\"0\"\u001b[0m\u001b[0;34m,\u001b[0m\u001b[0;34m\u001b[0m\u001b[0;34m\u001b[0m\u001b[0m\n\u001b[1;32m    101\u001b[0m         )\n\u001b[0;32m--> 102\u001b[0;31m         \u001b[0mpreprocessor\u001b[0m\u001b[0;34m.\u001b[0m\u001b[0mrun\u001b[0m\u001b[0;34m(\u001b[0m\u001b[0;34m)\u001b[0m\u001b[0;34m\u001b[0m\u001b[0;34m\u001b[0m\u001b[0m\n\u001b[0m",
      "\u001b[0;32m~/.local/lib/python3.10/site-packages/brainles_preprocessing/preprocessor.py\u001b[0m in \u001b[0;36mrun\u001b[0;34m(self, save_dir_coregistration, save_dir_atlas_registration, save_dir_atlas_correction, save_dir_brain_extraction)\u001b[0m\n\u001b[1;32m    225\u001b[0m             \u001b[0mos\u001b[0m\u001b[0;34m.\u001b[0m\u001b[0mmakedirs\u001b[0m\u001b[0;34m(\u001b[0m\u001b[0mbrain_masked_dir\u001b[0m\u001b[0;34m,\u001b[0m \u001b[0mexist_ok\u001b[0m\u001b[0;34m=\u001b[0m\u001b[0;32mTrue\u001b[0m\u001b[0;34m)\u001b[0m\u001b[0;34m\u001b[0m\u001b[0;34m\u001b[0m\u001b[0m\n\u001b[1;32m    226\u001b[0m \u001b[0;34m\u001b[0m\u001b[0m\n\u001b[0;32m--> 227\u001b[0;31m             atlas_mask = self.center_modality.extract_brain_region(\n\u001b[0m\u001b[1;32m    228\u001b[0m                 \u001b[0mbrain_extractor\u001b[0m\u001b[0;34m=\u001b[0m\u001b[0mself\u001b[0m\u001b[0;34m.\u001b[0m\u001b[0mbrain_extractor\u001b[0m\u001b[0;34m,\u001b[0m \u001b[0mbet_dir_path\u001b[0m\u001b[0;34m=\u001b[0m\u001b[0mbet_dir\u001b[0m\u001b[0;34m\u001b[0m\u001b[0;34m\u001b[0m\u001b[0m\n\u001b[1;32m    229\u001b[0m             )\n",
      "\u001b[0;32m~/.local/lib/python3.10/site-packages/brainles_preprocessing/modality.py\u001b[0m in \u001b[0;36mextract_brain_region\u001b[0;34m(self, brain_extractor, bet_dir_path)\u001b[0m\n\u001b[1;32m    273\u001b[0m         )\n\u001b[1;32m    274\u001b[0m \u001b[0;34m\u001b[0m\u001b[0m\n\u001b[0;32m--> 275\u001b[0;31m         brain_extractor.extract(\n\u001b[0m\u001b[1;32m    276\u001b[0m             \u001b[0minput_image_path\u001b[0m\u001b[0;34m=\u001b[0m\u001b[0mself\u001b[0m\u001b[0;34m.\u001b[0m\u001b[0mcurrent\u001b[0m\u001b[0;34m,\u001b[0m\u001b[0;34m\u001b[0m\u001b[0;34m\u001b[0m\u001b[0m\n\u001b[1;32m    277\u001b[0m             \u001b[0mmasked_image_path\u001b[0m\u001b[0;34m=\u001b[0m\u001b[0matlas_bet_cm\u001b[0m\u001b[0;34m,\u001b[0m\u001b[0;34m\u001b[0m\u001b[0;34m\u001b[0m\u001b[0m\n",
      "\u001b[0;32m~/.local/lib/python3.10/site-packages/brainles_preprocessing/brain_extraction/brain_extractor.py\u001b[0m in \u001b[0;36mextract\u001b[0;34m(self, input_image_path, masked_image_path, brain_mask_path, log_file_path, mode, device, do_tta)\u001b[0m\n\u001b[1;32m     68\u001b[0m         \u001b[0;31m# GPU + accurate + TTA\u001b[0m\u001b[0;34m\u001b[0m\u001b[0;34m\u001b[0m\u001b[0m\n\u001b[1;32m     69\u001b[0m         \u001b[0;34m\"\"\"skullstrips images with HD-BET generates a skullstripped file and mask\"\"\"\u001b[0m\u001b[0;34m\u001b[0m\u001b[0;34m\u001b[0m\u001b[0m\n\u001b[0;32m---> 70\u001b[0;31m         run_hd_bet(\n\u001b[0m\u001b[1;32m     71\u001b[0m             \u001b[0mmri_fnames\u001b[0m\u001b[0;34m=\u001b[0m\u001b[0;34m[\u001b[0m\u001b[0minput_image_path\u001b[0m\u001b[0;34m]\u001b[0m\u001b[0;34m,\u001b[0m\u001b[0;34m\u001b[0m\u001b[0;34m\u001b[0m\u001b[0m\n\u001b[1;32m     72\u001b[0m             \u001b[0moutput_fnames\u001b[0m\u001b[0;34m=\u001b[0m\u001b[0;34m[\u001b[0m\u001b[0mmasked_image_path\u001b[0m\u001b[0;34m]\u001b[0m\u001b[0;34m,\u001b[0m\u001b[0;34m\u001b[0m\u001b[0;34m\u001b[0m\u001b[0m\n",
      "\u001b[0;32m~/.local/lib/python3.10/site-packages/brainles_hd_bet/run.py\u001b[0m in \u001b[0;36mrun_hd_bet\u001b[0;34m(mri_fnames, output_fnames, mode, config_file, device, postprocess, do_tta, keep_mask, overwrite)\u001b[0m\n\u001b[1;32m    121\u001b[0m                 \u001b[0mnet\u001b[0m\u001b[0;34m.\u001b[0m\u001b[0meval\u001b[0m\u001b[0;34m(\u001b[0m\u001b[0;34m)\u001b[0m\u001b[0;34m\u001b[0m\u001b[0;34m\u001b[0m\u001b[0m\n\u001b[1;32m    122\u001b[0m                 \u001b[0mnet\u001b[0m\u001b[0;34m.\u001b[0m\u001b[0mapply\u001b[0m\u001b[0;34m(\u001b[0m\u001b[0mSetNetworkToVal\u001b[0m\u001b[0;34m(\u001b[0m\u001b[0;32mFalse\u001b[0m\u001b[0;34m,\u001b[0m \u001b[0;32mFalse\u001b[0m\u001b[0;34m)\u001b[0m\u001b[0;34m)\u001b[0m\u001b[0;34m\u001b[0m\u001b[0;34m\u001b[0m\u001b[0m\n\u001b[0;32m--> 123\u001b[0;31m                 _, _, softmax_pred, _ = predict_case_3D_net(\n\u001b[0m\u001b[1;32m    124\u001b[0m                     \u001b[0mnet\u001b[0m\u001b[0;34m,\u001b[0m\u001b[0;34m\u001b[0m\u001b[0;34m\u001b[0m\u001b[0m\n\u001b[1;32m    125\u001b[0m                     \u001b[0mdata\u001b[0m\u001b[0;34m,\u001b[0m\u001b[0;34m\u001b[0m\u001b[0;34m\u001b[0m\u001b[0m\n",
      "\u001b[0;32m~/.local/lib/python3.10/site-packages/brainles_hd_bet/predict_case.py\u001b[0m in \u001b[0;36mpredict_case_3D_net\u001b[0;34m(net, patient_data, do_mirroring, num_repeats, BATCH_SIZE, new_shape_must_be_divisible_by, min_size, main_device, mirror_axes)\u001b[0m\n\u001b[1;32m     98\u001b[0m                 \u001b[0;32mif\u001b[0m \u001b[0mdo_stuff\u001b[0m\u001b[0;34m:\u001b[0m\u001b[0;34m\u001b[0m\u001b[0;34m\u001b[0m\u001b[0m\n\u001b[1;32m     99\u001b[0m                     \u001b[0m_\u001b[0m \u001b[0;34m=\u001b[0m \u001b[0ma\u001b[0m\u001b[0;34m.\u001b[0m\u001b[0mdata\u001b[0m\u001b[0;34m.\u001b[0m\u001b[0mcopy_\u001b[0m\u001b[0;34m(\u001b[0m\u001b[0mtorch\u001b[0m\u001b[0;34m.\u001b[0m\u001b[0mfrom_numpy\u001b[0m\u001b[0;34m(\u001b[0m\u001b[0mnp\u001b[0m\u001b[0;34m.\u001b[0m\u001b[0mcopy\u001b[0m\u001b[0;34m(\u001b[0m\u001b[0mdata_for_net\u001b[0m\u001b[0;34m)\u001b[0m\u001b[0;34m)\u001b[0m\u001b[0;34m)\u001b[0m\u001b[0;34m\u001b[0m\u001b[0;34m\u001b[0m\u001b[0m\n\u001b[0;32m--> 100\u001b[0;31m                     \u001b[0mp\u001b[0m \u001b[0;34m=\u001b[0m \u001b[0mnet\u001b[0m\u001b[0;34m(\u001b[0m\u001b[0ma\u001b[0m\u001b[0;34m)\u001b[0m  \u001b[0;31m# np.copy is necessary because ::-1 creates just a view i think\u001b[0m\u001b[0;34m\u001b[0m\u001b[0;34m\u001b[0m\u001b[0m\n\u001b[0m\u001b[1;32m    101\u001b[0m                     \u001b[0mp\u001b[0m \u001b[0;34m=\u001b[0m \u001b[0mp\u001b[0m\u001b[0;34m.\u001b[0m\u001b[0mdata\u001b[0m\u001b[0;34m.\u001b[0m\u001b[0mcpu\u001b[0m\u001b[0;34m(\u001b[0m\u001b[0;34m)\u001b[0m\u001b[0;34m.\u001b[0m\u001b[0mnumpy\u001b[0m\u001b[0;34m(\u001b[0m\u001b[0;34m)\u001b[0m\u001b[0;34m\u001b[0m\u001b[0;34m\u001b[0m\u001b[0m\n\u001b[1;32m    102\u001b[0m \u001b[0;34m\u001b[0m\u001b[0m\n",
      "\u001b[0;32m~/.local/lib/python3.10/site-packages/torch/nn/modules/module.py\u001b[0m in \u001b[0;36m_wrapped_call_impl\u001b[0;34m(self, *args, **kwargs)\u001b[0m\n\u001b[1;32m   1509\u001b[0m             \u001b[0;32mreturn\u001b[0m \u001b[0mself\u001b[0m\u001b[0;34m.\u001b[0m\u001b[0m_compiled_call_impl\u001b[0m\u001b[0;34m(\u001b[0m\u001b[0;34m*\u001b[0m\u001b[0margs\u001b[0m\u001b[0;34m,\u001b[0m \u001b[0;34m**\u001b[0m\u001b[0mkwargs\u001b[0m\u001b[0;34m)\u001b[0m  \u001b[0;31m# type: ignore[misc]\u001b[0m\u001b[0;34m\u001b[0m\u001b[0;34m\u001b[0m\u001b[0m\n\u001b[1;32m   1510\u001b[0m         \u001b[0;32melse\u001b[0m\u001b[0;34m:\u001b[0m\u001b[0;34m\u001b[0m\u001b[0;34m\u001b[0m\u001b[0m\n\u001b[0;32m-> 1511\u001b[0;31m             \u001b[0;32mreturn\u001b[0m \u001b[0mself\u001b[0m\u001b[0;34m.\u001b[0m\u001b[0m_call_impl\u001b[0m\u001b[0;34m(\u001b[0m\u001b[0;34m*\u001b[0m\u001b[0margs\u001b[0m\u001b[0;34m,\u001b[0m \u001b[0;34m**\u001b[0m\u001b[0mkwargs\u001b[0m\u001b[0;34m)\u001b[0m\u001b[0;34m\u001b[0m\u001b[0;34m\u001b[0m\u001b[0m\n\u001b[0m\u001b[1;32m   1512\u001b[0m \u001b[0;34m\u001b[0m\u001b[0m\n\u001b[1;32m   1513\u001b[0m     \u001b[0;32mdef\u001b[0m \u001b[0m_call_impl\u001b[0m\u001b[0;34m(\u001b[0m\u001b[0mself\u001b[0m\u001b[0;34m,\u001b[0m \u001b[0;34m*\u001b[0m\u001b[0margs\u001b[0m\u001b[0;34m,\u001b[0m \u001b[0;34m**\u001b[0m\u001b[0mkwargs\u001b[0m\u001b[0;34m)\u001b[0m\u001b[0;34m:\u001b[0m\u001b[0;34m\u001b[0m\u001b[0;34m\u001b[0m\u001b[0m\n",
      "\u001b[0;32m~/.local/lib/python3.10/site-packages/torch/nn/modules/module.py\u001b[0m in \u001b[0;36m_call_impl\u001b[0;34m(self, *args, **kwargs)\u001b[0m\n\u001b[1;32m   1518\u001b[0m                 \u001b[0;32mor\u001b[0m \u001b[0m_global_backward_pre_hooks\u001b[0m \u001b[0;32mor\u001b[0m \u001b[0m_global_backward_hooks\u001b[0m\u001b[0;34m\u001b[0m\u001b[0;34m\u001b[0m\u001b[0m\n\u001b[1;32m   1519\u001b[0m                 or _global_forward_hooks or _global_forward_pre_hooks):\n\u001b[0;32m-> 1520\u001b[0;31m             \u001b[0;32mreturn\u001b[0m \u001b[0mforward_call\u001b[0m\u001b[0;34m(\u001b[0m\u001b[0;34m*\u001b[0m\u001b[0margs\u001b[0m\u001b[0;34m,\u001b[0m \u001b[0;34m**\u001b[0m\u001b[0mkwargs\u001b[0m\u001b[0;34m)\u001b[0m\u001b[0;34m\u001b[0m\u001b[0;34m\u001b[0m\u001b[0m\n\u001b[0m\u001b[1;32m   1521\u001b[0m \u001b[0;34m\u001b[0m\u001b[0m\n\u001b[1;32m   1522\u001b[0m         \u001b[0;32mtry\u001b[0m\u001b[0;34m:\u001b[0m\u001b[0;34m\u001b[0m\u001b[0;34m\u001b[0m\u001b[0m\n",
      "\u001b[0;32m~/.local/lib/python3.10/site-packages/brainles_hd_bet/network_architecture.py\u001b[0m in \u001b[0;36mforward\u001b[0;34m(self, x)\u001b[0m\n\u001b[1;32m    201\u001b[0m \u001b[0;34m\u001b[0m\u001b[0m\n\u001b[1;32m    202\u001b[0m         \u001b[0mx\u001b[0m \u001b[0;34m=\u001b[0m \u001b[0mtorch\u001b[0m\u001b[0;34m.\u001b[0m\u001b[0mcat\u001b[0m\u001b[0;34m(\u001b[0m\u001b[0;34m(\u001b[0m\u001b[0mskip1\u001b[0m\u001b[0;34m,\u001b[0m \u001b[0mx\u001b[0m\u001b[0;34m)\u001b[0m\u001b[0;34m,\u001b[0m \u001b[0mdim\u001b[0m\u001b[0;34m=\u001b[0m\u001b[0;36m1\u001b[0m\u001b[0;34m)\u001b[0m\u001b[0;34m\u001b[0m\u001b[0;34m\u001b[0m\u001b[0m\n\u001b[0;32m--> 203\u001b[0;31m         x = F.leaky_relu(self.end_conv_1_bn(self.end_conv_1(x)), negative_slope=self.leakiness,\n\u001b[0m\u001b[1;32m    204\u001b[0m                          inplace=self.lrelu_inplace)\n\u001b[1;32m    205\u001b[0m         x = F.leaky_relu(self.end_conv_2_bn(self.end_conv_2(x)), negative_slope=self.leakiness,\n",
      "\u001b[0;32m~/.local/lib/python3.10/site-packages/torch/nn/modules/module.py\u001b[0m in \u001b[0;36m_wrapped_call_impl\u001b[0;34m(self, *args, **kwargs)\u001b[0m\n\u001b[1;32m   1509\u001b[0m             \u001b[0;32mreturn\u001b[0m \u001b[0mself\u001b[0m\u001b[0;34m.\u001b[0m\u001b[0m_compiled_call_impl\u001b[0m\u001b[0;34m(\u001b[0m\u001b[0;34m*\u001b[0m\u001b[0margs\u001b[0m\u001b[0;34m,\u001b[0m \u001b[0;34m**\u001b[0m\u001b[0mkwargs\u001b[0m\u001b[0;34m)\u001b[0m  \u001b[0;31m# type: ignore[misc]\u001b[0m\u001b[0;34m\u001b[0m\u001b[0;34m\u001b[0m\u001b[0m\n\u001b[1;32m   1510\u001b[0m         \u001b[0;32melse\u001b[0m\u001b[0;34m:\u001b[0m\u001b[0;34m\u001b[0m\u001b[0;34m\u001b[0m\u001b[0m\n\u001b[0;32m-> 1511\u001b[0;31m             \u001b[0;32mreturn\u001b[0m \u001b[0mself\u001b[0m\u001b[0;34m.\u001b[0m\u001b[0m_call_impl\u001b[0m\u001b[0;34m(\u001b[0m\u001b[0;34m*\u001b[0m\u001b[0margs\u001b[0m\u001b[0;34m,\u001b[0m \u001b[0;34m**\u001b[0m\u001b[0mkwargs\u001b[0m\u001b[0;34m)\u001b[0m\u001b[0;34m\u001b[0m\u001b[0;34m\u001b[0m\u001b[0m\n\u001b[0m\u001b[1;32m   1512\u001b[0m \u001b[0;34m\u001b[0m\u001b[0m\n\u001b[1;32m   1513\u001b[0m     \u001b[0;32mdef\u001b[0m \u001b[0m_call_impl\u001b[0m\u001b[0;34m(\u001b[0m\u001b[0mself\u001b[0m\u001b[0;34m,\u001b[0m \u001b[0;34m*\u001b[0m\u001b[0margs\u001b[0m\u001b[0;34m,\u001b[0m \u001b[0;34m**\u001b[0m\u001b[0mkwargs\u001b[0m\u001b[0;34m)\u001b[0m\u001b[0;34m:\u001b[0m\u001b[0;34m\u001b[0m\u001b[0;34m\u001b[0m\u001b[0m\n",
      "\u001b[0;32m~/.local/lib/python3.10/site-packages/torch/nn/modules/module.py\u001b[0m in \u001b[0;36m_call_impl\u001b[0;34m(self, *args, **kwargs)\u001b[0m\n\u001b[1;32m   1518\u001b[0m                 \u001b[0;32mor\u001b[0m \u001b[0m_global_backward_pre_hooks\u001b[0m \u001b[0;32mor\u001b[0m \u001b[0m_global_backward_hooks\u001b[0m\u001b[0;34m\u001b[0m\u001b[0;34m\u001b[0m\u001b[0m\n\u001b[1;32m   1519\u001b[0m                 or _global_forward_hooks or _global_forward_pre_hooks):\n\u001b[0;32m-> 1520\u001b[0;31m             \u001b[0;32mreturn\u001b[0m \u001b[0mforward_call\u001b[0m\u001b[0;34m(\u001b[0m\u001b[0;34m*\u001b[0m\u001b[0margs\u001b[0m\u001b[0;34m,\u001b[0m \u001b[0;34m**\u001b[0m\u001b[0mkwargs\u001b[0m\u001b[0;34m)\u001b[0m\u001b[0;34m\u001b[0m\u001b[0;34m\u001b[0m\u001b[0m\n\u001b[0m\u001b[1;32m   1521\u001b[0m \u001b[0;34m\u001b[0m\u001b[0m\n\u001b[1;32m   1522\u001b[0m         \u001b[0;32mtry\u001b[0m\u001b[0;34m:\u001b[0m\u001b[0;34m\u001b[0m\u001b[0;34m\u001b[0m\u001b[0m\n",
      "\u001b[0;32m~/.local/lib/python3.10/site-packages/torch/nn/modules/instancenorm.py\u001b[0m in \u001b[0;36mforward\u001b[0;34m(self, input)\u001b[0m\n\u001b[1;32m     85\u001b[0m             \u001b[0;32mreturn\u001b[0m \u001b[0mself\u001b[0m\u001b[0;34m.\u001b[0m\u001b[0m_handle_no_batch_input\u001b[0m\u001b[0;34m(\u001b[0m\u001b[0minput\u001b[0m\u001b[0;34m)\u001b[0m\u001b[0;34m\u001b[0m\u001b[0;34m\u001b[0m\u001b[0m\n\u001b[1;32m     86\u001b[0m \u001b[0;34m\u001b[0m\u001b[0m\n\u001b[0;32m---> 87\u001b[0;31m         \u001b[0;32mreturn\u001b[0m \u001b[0mself\u001b[0m\u001b[0;34m.\u001b[0m\u001b[0m_apply_instance_norm\u001b[0m\u001b[0;34m(\u001b[0m\u001b[0minput\u001b[0m\u001b[0;34m)\u001b[0m\u001b[0;34m\u001b[0m\u001b[0;34m\u001b[0m\u001b[0m\n\u001b[0m\u001b[1;32m     88\u001b[0m \u001b[0;34m\u001b[0m\u001b[0m\n\u001b[1;32m     89\u001b[0m \u001b[0;34m\u001b[0m\u001b[0m\n",
      "\u001b[0;32m~/.local/lib/python3.10/site-packages/torch/nn/modules/instancenorm.py\u001b[0m in \u001b[0;36m_apply_instance_norm\u001b[0;34m(self, input)\u001b[0m\n\u001b[1;32m     34\u001b[0m \u001b[0;34m\u001b[0m\u001b[0m\n\u001b[1;32m     35\u001b[0m     \u001b[0;32mdef\u001b[0m \u001b[0m_apply_instance_norm\u001b[0m\u001b[0;34m(\u001b[0m\u001b[0mself\u001b[0m\u001b[0;34m,\u001b[0m \u001b[0minput\u001b[0m\u001b[0;34m)\u001b[0m\u001b[0;34m:\u001b[0m\u001b[0;34m\u001b[0m\u001b[0;34m\u001b[0m\u001b[0m\n\u001b[0;32m---> 36\u001b[0;31m         return F.instance_norm(\n\u001b[0m\u001b[1;32m     37\u001b[0m             \u001b[0minput\u001b[0m\u001b[0;34m,\u001b[0m \u001b[0mself\u001b[0m\u001b[0;34m.\u001b[0m\u001b[0mrunning_mean\u001b[0m\u001b[0;34m,\u001b[0m \u001b[0mself\u001b[0m\u001b[0;34m.\u001b[0m\u001b[0mrunning_var\u001b[0m\u001b[0;34m,\u001b[0m \u001b[0mself\u001b[0m\u001b[0;34m.\u001b[0m\u001b[0mweight\u001b[0m\u001b[0;34m,\u001b[0m \u001b[0mself\u001b[0m\u001b[0;34m.\u001b[0m\u001b[0mbias\u001b[0m\u001b[0;34m,\u001b[0m\u001b[0;34m\u001b[0m\u001b[0;34m\u001b[0m\u001b[0m\n\u001b[1;32m     38\u001b[0m             self.training or not self.track_running_stats, self.momentum, self.eps)\n",
      "\u001b[0;32m~/.local/lib/python3.10/site-packages/torch/nn/functional.py\u001b[0m in \u001b[0;36minstance_norm\u001b[0;34m(input, running_mean, running_var, weight, bias, use_input_stats, momentum, eps)\u001b[0m\n\u001b[1;32m   2524\u001b[0m     \u001b[0;32mif\u001b[0m \u001b[0muse_input_stats\u001b[0m\u001b[0;34m:\u001b[0m\u001b[0;34m\u001b[0m\u001b[0;34m\u001b[0m\u001b[0m\n\u001b[1;32m   2525\u001b[0m         \u001b[0m_verify_spatial_size\u001b[0m\u001b[0;34m(\u001b[0m\u001b[0minput\u001b[0m\u001b[0;34m.\u001b[0m\u001b[0msize\u001b[0m\u001b[0;34m(\u001b[0m\u001b[0;34m)\u001b[0m\u001b[0;34m)\u001b[0m\u001b[0;34m\u001b[0m\u001b[0;34m\u001b[0m\u001b[0m\n\u001b[0;32m-> 2526\u001b[0;31m     return torch.instance_norm(\n\u001b[0m\u001b[1;32m   2527\u001b[0m         \u001b[0minput\u001b[0m\u001b[0;34m,\u001b[0m \u001b[0mweight\u001b[0m\u001b[0;34m,\u001b[0m \u001b[0mbias\u001b[0m\u001b[0;34m,\u001b[0m \u001b[0mrunning_mean\u001b[0m\u001b[0;34m,\u001b[0m \u001b[0mrunning_var\u001b[0m\u001b[0;34m,\u001b[0m \u001b[0muse_input_stats\u001b[0m\u001b[0;34m,\u001b[0m \u001b[0mmomentum\u001b[0m\u001b[0;34m,\u001b[0m \u001b[0meps\u001b[0m\u001b[0;34m,\u001b[0m \u001b[0mtorch\u001b[0m\u001b[0;34m.\u001b[0m\u001b[0mbackends\u001b[0m\u001b[0;34m.\u001b[0m\u001b[0mcudnn\u001b[0m\u001b[0;34m.\u001b[0m\u001b[0menabled\u001b[0m\u001b[0;34m\u001b[0m\u001b[0;34m\u001b[0m\u001b[0m\n\u001b[1;32m   2528\u001b[0m     )\n",
      "\u001b[0;31mOutOfMemoryError\u001b[0m: CUDA out of memory. Tried to allocate 526.00 MiB. GPU 0 has a total capacity of 5.79 GiB of which 333.94 MiB is free. Process 19627 has 11.84 MiB memory in use. Process 28639 has 13.84 MiB memory in use. Process 81919 has 2.79 GiB memory in use. Including non-PyTorch memory, this process has 1.77 GiB memory in use. Of the allocated memory 1.45 GiB is allocated by PyTorch, and 240.80 MiB is reserved by PyTorch but unallocated. If reserved but unallocated memory is large try setting PYTORCH_CUDA_ALLOC_CONF=expandable_segments:True to avoid fragmentation.  See documentation for Memory Management  (https://pytorch.org/docs/stable/notes/cuda.html#environment-variables)"
     ]
    }
   ],
   "source": [
    "EXAMPLE_DATA_DIR = turbopath(f\"{BASE_PATH}/data\")\n",
    "\n",
    "exams = EXAMPLE_DATA_DIR.dirs()\n",
    "\n",
    "for exam in tqdm(exams):\n",
    "    print(\"processing:\", exam)\n",
    "    preprocess_exam_in_brats_style(exam)"
   ]
  },
  {
   "cell_type": "markdown",
   "metadata": {},
   "source": [
    "#### Storage of preprocessed data \n",
    "\n",
    "The preprocessed data is saved in a newly created folder \"raw_bet\": \n",
    "\n",
    "```data/<datasetName>/<datasetName>_brainles/raw_bet```\n",
    "\n",
    "Run the subsequent cell for visualizing one preprocessed example sample."
   ]
  },
  {
   "cell_type": "code",
   "execution_count": null,
   "metadata": {
    "scrolled": true
   },
   "outputs": [],
   "source": [
    "from utils import visualize_data2\n",
    "from pathlib import Path\n",
    "\n",
    "#paths to example files   \n",
    "t1c_path = Path(f\"{BASE_PATH}/data/OtherEXampleFromTCIA/OtherEXampleFromTCIA_brainles/raw_bet/OtherEXampleFromTCIA_t1c_bet.nii.gz\")\n",
    "t1_path = Path(f\"{BASE_PATH}/data/OtherEXampleFromTCIA/OtherEXampleFromTCIA_brainles/raw_bet/OtherEXampleFromTCIA_t1_bet.nii.gz\")\n",
    "t2_path = Path(f\"{BASE_PATH}/data/OtherEXampleFromTCIA/OtherEXampleFromTCIA_brainles/raw_bet/OtherEXampleFromTCIA_t2_bet.nii.gz\")\n",
    "flair_path = Path(f\"{BASE_PATH}/data/OtherEXampleFromTCIA/OtherEXampleFromTCIA_brainles/raw_bet/OtherEXampleFromTCIA_fla_bet.nii.gz\")\n",
    "#visualize example images\n",
    "visualize_data2(t1c_path, t1_path, t2_path, flair_path, height_p= 0.60 )"
   ]
  },
  {
   "cell_type": "markdown",
   "metadata": {},
   "source": [
    "---"
   ]
  },
  {
   "cell_type": "markdown",
   "metadata": {},
   "source": [
    "## 4. Segmentation with BraTS Toolkit\n",
    "\n",
    "Now that we have preprocessed the data, we can start segmenting the data with BraTS Toolkit.\n",
    "\n",
    "#### Therefore, we again define a function to segment our files:"
   ]
  },
  {
   "cell_type": "code",
   "execution_count": null,
   "metadata": {},
   "outputs": [],
   "source": [
    "from brats_toolkit.segmentor import Segmentor\n",
    "import os\n",
    "from auxiliary.turbopath import turbopath\n",
    "from tqdm import tqdm\n",
    "\n",
    "\n",
    "def segment_exam(\n",
    "    t1_file: str,\n",
    "    t1c_file: str,\n",
    "    t2_file: str,\n",
    "    fla_file: str,\n",
    "    segmentation_file: str,\n",
    "    cid: str,\n",
    "    cuda_device=\"0\",\n",
    ") -> None:\n",
    "    \"\"\"\n",
    "    segment_exam - Segments MRI images using a specified algorithm from the BRATS toolkit.\n",
    "\n",
    "    Parameters:\n",
    "        t1_file (str): Path to the T1-weighted MRI image file.\n",
    "        t1c_file (str): Path to the T1-weighted contrast-enhanced MRI image file.\n",
    "        t2_file (str): Path to the T2-weighted MRI image file.\n",
    "        fla_file (str): Path to the Fluid-attenuated inversion recovery (FLAIR) MRI image file.\n",
    "        segmentation_file (str): Path to the output file where the segmented image will be saved.\n",
    "        cid (str): Algorithm identifier for segmentation.\n",
    "        cuda_device (str, optional): CUDA device ID for GPU acceleration. Default is \"0\".\n",
    "\n",
    "    Returns:\n",
    "        None\n",
    "\n",
    "    Example:\n",
    "        segment_exam(\n",
    "            t1_file='/path/to/t1.nii.gz',\n",
    "            t1c_file='/path/to/t1c.nii.gz',\n",
    "            t2_file='/path/to/t2.nii.gz',\n",
    "            fla_file='/path/to/fla.nii.gz',\n",
    "            segmentation_file='/path/to/segmentation_result.nii.gz',\n",
    "            cid=\"mic-dkfz\"\n",
    "        )\n",
    "\n",
    "    This function segments MRI images using the specified algorithm from the BRATS toolkit. It accepts paths to T1-weighted,\n",
    "    T1-weighted contrast-enhanced, T2-weighted, and FLAIR MRI images, and performs segmentation using the specified algorithm.\n",
    "    The segmented image is saved in the specified output file.\n",
    "\n",
    "    Note:\n",
    "        - The function uses the BRATS toolkit's Segmentor for segmentation.\n",
    "        - The 'cid' parameter specifies the algorithm to use.\n",
    "        - Segmentation results are saved with a file name corresponding to the algorithm identifier (cid).\n",
    "        - Errors during segmentation are caught, and an error message is printed.\n",
    "    \"\"\"\n",
    "\n",
    "    # instantiate\n",
    "    seg = Segmentor(\n",
    "        verbose=True,\n",
    "        gpu=cuda_device,\n",
    "    )\n",
    "\n",
    "    # algorithms we want to select for segmentation\n",
    "\n",
    "    # execute it\n",
    "    if not os.path.exists(segmentation_file):\n",
    "        seg.segment(\n",
    "            t1=t1_file,\n",
    "            t2=t2_file,\n",
    "            t1c=t1c_file,\n",
    "            fla=fla_file,\n",
    "            cid=cid,\n",
    "            outputPath=segmentation_file,\n",
    "        )\n",
    "    else:\n",
    "        print(segmentation_file, \"already exists\")"
   ]
  },
  {
   "cell_type": "markdown",
   "metadata": {},
   "source": [
    "#### Now we again loop through our exams:\n"
   ]
  },
  {
   "cell_type": "code",
   "execution_count": null,
   "metadata": {
    "scrolled": true
   },
   "outputs": [],
   "source": [
    "EXAMPLE_DATA_DIR = turbopath(f\"{BASE_PATH}/data\")\n",
    "\n",
    "exams = EXAMPLE_DATA_DIR.dirs()\n",
    "# we use these five algorithms to segment the images\n",
    "# 2019 algorithms\n",
    "# cids = [\"mic-dkfz\", \"scan\", \"xfeng\", \"lfb_rwth\", \"zyx_2019\", \"scan_2019\"]\n",
    "\n",
    "# 2020 algorithms\n",
    "cids = [\"isen-20\", \"hnfnetv1-20\", \"yixinmpl-20\", \"sanet0-20\", \"scan-20\"]\n",
    "\n",
    "\n",
    "for exam in tqdm(exams, desc=\"Exams\"):\n",
    "    for cid in tqdm(cids, desc=\"Algorithms\", leave=False):\n",
    "        print(\"segmenting:\", exam, \"with algorithm:\", cid)\n",
    "        brainles_folder = exam / exam.name + \"_brainles\"\n",
    "        preprocessed_folder = brainles_folder / \"raw_bet\"\n",
    "        segmentation_folder = brainles_folder / \"segmentation\"\n",
    "\n",
    "        segmentation_file = segmentation_folder / cid + \".nii.gz\"\n",
    "\n",
    "        segment_exam(\n",
    "            t1_file=preprocessed_folder / exam.name + \"_t1_bet.nii.gz\",\n",
    "            t1c_file=preprocessed_folder / exam.name + \"_t1c_bet.nii.gz\",\n",
    "            t2_file=preprocessed_folder / exam.name + \"_t2_bet.nii.gz\",\n",
    "            fla_file=preprocessed_folder / exam.name + \"_fla_bet.nii.gz\",\n",
    "            segmentation_file=segmentation_file,\n",
    "            cid=cid,\n",
    "            cuda_device=\"0\",\n",
    "        ),"
   ]
  },
  {
   "cell_type": "markdown",
   "metadata": {},
   "source": [
    "#### The segementations are stored in folder \"segmentation\" \n",
    "```data/<datasetName>/<datasetName>_brainles```\n",
    "\n",
    "Segmentation results are saved with a file name corresponding to the algorithm identifier (cid).\n",
    "\n",
    "Algorithms used in this notebook:\n",
    "- yixinmpl-20\n",
    "- isen-20\n",
    "- hnfnetv1-20\n",
    "- scan-20\n",
    "- sanet0-20\n",
    " \n",
    "For more details on the algorithms (docker images) see the [publication table of the BraTS toolkit](https://github.com/neuronflow/BraTS-Toolkit/tree/main?tab=readme-ov-file#citation)\n",
    "\n",
    "---"
   ]
  },
  {
   "cell_type": "markdown",
   "metadata": {},
   "source": [
    "## 5. Fusion\n",
    "\n",
    "#### Now we can fuse the generated segmentations together. Therefore we again define a function to process our exams:\n"
   ]
  },
  {
   "cell_type": "code",
   "execution_count": null,
   "metadata": {},
   "outputs": [],
   "source": [
    "from brats_toolkit.fusionator import Fusionator\n",
    "\n",
    "\n",
    "def fuse_segmentation_exam(\n",
    "    segmentation_folder: str,\n",
    "    fusion_folder: str,\n",
    "):\n",
    "    \"\"\"\n",
    "    Fuse multiple segmentations using different methods and save the results.\n",
    "\n",
    "    Parameters:\n",
    "    - segmentation_folder (str): Path to the folder containing segmentation files in NIfTI format (*.nii.gz).\n",
    "    - fusion_folder (str): Path to the folder where fused segmentation results will be saved.\n",
    "\n",
    "    Returns:\n",
    "    None\n",
    "\n",
    "    Example:\n",
    "    ```python\n",
    "    fuse_segmentation_exam(\"/path/to/segmentations\", \"/path/to/fusion_results\")\n",
    "    ```\n",
    "\n",
    "    This function uses the Fusionator class from the brats_toolkit to fuse segmentations using two different methods:\n",
    "    1. Multimodal Average (MAV) method.\n",
    "    2. Simple fusion method.\n",
    "\n",
    "    The fused segmentations are saved in the specified `fusion_folder` with file names \"mav.nii.gz\" and \"simple.nii.gz\".\n",
    "\n",
    "    Note:\n",
    "    - The Fusionator class must be available and correctly imported from the brats_toolkit.\n",
    "    - The segmentation files in the `segmentation_folder` should be in NIfTI format (*.nii.gz).\n",
    "\n",
    "    Args:\n",
    "    - segmentation_folder (str): Path to the folder containing segmentation files in NIfTI format (*.nii.gz).\n",
    "    - fusion_folder (str): Path to the folder where fused segmentation results will be saved.\n",
    "    \"\"\"\n",
    "    # instantiate\n",
    "    fus = Fusionator(verbose=True)\n",
    "\n",
    "    # segmentation file paths\n",
    "    segmentations = segmentation_folder.files(\"*.nii.gz\")\n",
    "\n",
    "    # execution\n",
    "    # mav\n",
    "    mavPath = fusion_folder / \"mav.nii.gz\"\n",
    "    fus.fuse(\n",
    "        segmentations=segmentations,\n",
    "        outputPath=mavPath,\n",
    "        method=\"mav\",\n",
    "        weights=None,\n",
    "    )\n",
    "\n",
    "    # simple\n",
    "    simplePath = fusion_folder / \"simple.nii.gz\"\n",
    "    fus.fuse(\n",
    "        segmentations=segmentations,\n",
    "        outputPath=simplePath,\n",
    "        method=\"simple\",\n",
    "        weights=None,\n",
    "    )"
   ]
  },
  {
   "cell_type": "markdown",
   "metadata": {},
   "source": [
    "####Now we can again loop through our exams:\n"
   ]
  },
  {
   "cell_type": "code",
   "execution_count": null,
   "metadata": {},
   "outputs": [],
   "source": [
    "EXAMPLE_DATA_DIR = turbopath(\"data\")\n",
    "\n",
    "exams = EXAMPLE_DATA_DIR.dirs()\n",
    "\n",
    "for exam in tqdm(exams):\n",
    "    print(\"segmenting:\", exam)\n",
    "    brainles_folder = exam / exam.name + \"_brainles\"\n",
    "    segmentation_folder = brainles_folder / \"segmentation\"\n",
    "    fusion_folder = brainles_folder / \"fusion\"\n",
    "\n",
    "    fuse_segmentation_exam(\n",
    "        segmentation_folder=segmentation_folder,\n",
    "        fusion_folder=fusion_folder,\n",
    "    )"
   ]
  },
  {
   "cell_type": "markdown",
   "metadata": {},
   "source": [
    "<!-- ## Viz TODO add such visualizations## Data\n",
    "\n",
    "AURORA expects _preprocessed_ input data as NIfTI file or NumPy Array (_preprocessed_ meaning the files should be co-registerend, skullstripped and in SRI-24 space).\n",
    "\n",
    "In this example we provide sample data from the [ASNR-MICCAI BraTS Brain Metastasis Challenge](https://www.synapse.org/#!Synapse:syn51156910/wiki/622553), which is already preprocessed in the `AURORA/data` folder in the form of 4 modalities of the same brain (T1, T1C, T2, FLAIR). To get an intuition of the data, one example slice of the 3D scans is visualized below.\n",
    "\n",
    "For your own data:\n",
    "If the data is _not_ preprocessed yet, consider using our [BrainLes preprocessing](https://github.com/BrainLesion/preprocessing) package (or its predecessor [BraTS-Toolkit](https://github.com/neuronflow/BraTS-Toolkit)). -->\n"
   ]
  },
  {
   "cell_type": "markdown",
   "metadata": {},
   "source": [
    "### The fused segementation is saved in the folder \"fusion\"\n",
    "```BraTS-Toolkit/data/<datasetName>/<datasetName>_brainles/fusion```\n",
    "\n",
    "Run the subsequent cell for visualizing one example sample (T1c with segementation).\n",
    "\n",
    "**The BraTS-Toolkit segementation comprise the GD-enhancing tumor (label 4), the peritumoral edematous tissue (label 2), and the necrotic tumor core (label 1).**\n",
    "\n"
   ]
  },
  {
   "cell_type": "code",
   "execution_count": null,
   "metadata": {},
   "outputs": [],
   "source": [
    "from utils import visualize_segmentation\n",
    "\n",
    "visualize_segmentation(\n",
    "    modality_file=\"data//OtherEXampleFromTCIA/OtherEXampleFromTCIA_brainles/raw_bet/OtherEXampleFromTCIA_t1c_bet.nii.gz\",\n",
    "    segmentation_file=\"data/OtherEXampleFromTCIA/OtherEXampleFromTCIA_brainles/fusion/simple.nii.gz\",\n",
    ")"
   ]
  }
 ],
 "metadata": {
  "kernelspec": {
   "display_name": "Python 3 (ipykernel)",
   "language": "python",
   "name": "python3"
  },
  "language_info": {
   "codemirror_mode": {
    "name": "ipython",
    "version": 3
   },
   "file_extension": ".py",
   "mimetype": "text/x-python",
   "name": "python",
   "nbconvert_exporter": "python",
   "pygments_lexer": "ipython3",
   "version": "3.10.12"
  }
 },
 "nbformat": 4,
 "nbformat_minor": 4
}
